{
 "cells": [
  {
   "metadata": {},
   "cell_type": "markdown",
   "source": "# Random Forest tuning",
   "id": "5079ab1c5c9f17ab"
  },
  {
   "metadata": {},
   "cell_type": "markdown",
   "source": "# Set up",
   "id": "b65fadd6a0fc2766"
  },
  {
   "metadata": {
    "ExecuteTime": {
     "end_time": "2024-07-25T03:57:25.107792Z",
     "start_time": "2024-07-25T03:57:12.300627Z"
    }
   },
   "cell_type": "code",
   "source": [
    "import pandas as pd\n",
    "import zipfile\n",
    "from zipfile import ZipFile \n",
    "file_name = \"playground-series-s4e7.zip\"\n",
    "with ZipFile(file_name, 'r') as zip: \n",
    "    # printing all the contents of the zip file \n",
    "    zip.printdir()\n",
    "df_zip = zipfile.ZipFile(file_name)\n",
    "train = pd.read_csv(df_zip.open('train.csv'))"
   ],
   "id": "e9a6c20b25f88b0e",
   "outputs": [
    {
     "name": "stdout",
     "output_type": "stream",
     "text": [
      "File Name                                             Modified             Size\n",
      "sample_submission.csv                          2024-06-24 13:46:18     99708270\n",
      "test.csv                                       2024-06-24 13:46:24    433918183\n",
      "train.csv                                      2024-06-24 13:46:48    662779095\n"
     ]
    }
   ],
   "execution_count": 2
  },
  {
   "metadata": {
    "ExecuteTime": {
     "end_time": "2024-07-25T03:57:25.128735Z",
     "start_time": "2024-07-25T03:57:25.112362Z"
    }
   },
   "cell_type": "code",
   "source": "train.info()",
   "id": "7e51d62d8c903a02",
   "outputs": [
    {
     "name": "stdout",
     "output_type": "stream",
     "text": [
      "<class 'pandas.core.frame.DataFrame'>\n",
      "RangeIndex: 11504798 entries, 0 to 11504797\n",
      "Data columns (total 12 columns):\n",
      " #   Column                Dtype  \n",
      "---  ------                -----  \n",
      " 0   id                    int64  \n",
      " 1   Gender                object \n",
      " 2   Age                   int64  \n",
      " 3   Driving_License       int64  \n",
      " 4   Region_Code           float64\n",
      " 5   Previously_Insured    int64  \n",
      " 6   Vehicle_Age           object \n",
      " 7   Vehicle_Damage        object \n",
      " 8   Annual_Premium        float64\n",
      " 9   Policy_Sales_Channel  float64\n",
      " 10  Vintage               int64  \n",
      " 11  Response              int64  \n",
      "dtypes: float64(3), int64(6), object(3)\n",
      "memory usage: 1.0+ GB\n"
     ]
    }
   ],
   "execution_count": 3
  },
  {
   "metadata": {
    "ExecuteTime": {
     "end_time": "2024-07-25T03:57:26.161793Z",
     "start_time": "2024-07-25T03:57:25.130511Z"
    }
   },
   "cell_type": "code",
   "source": [
    "# drop id\n",
    "train = train.drop('id', axis = 1)"
   ],
   "id": "5564678fce98f394",
   "outputs": [],
   "execution_count": 4
  },
  {
   "metadata": {},
   "cell_type": "markdown",
   "source": "# Define category",
   "id": "54605a5e691da851"
  },
  {
   "metadata": {
    "ExecuteTime": {
     "end_time": "2024-07-25T03:57:29.205145Z",
     "start_time": "2024-07-25T03:57:26.165873Z"
    }
   },
   "cell_type": "code",
   "source": [
    "\n",
    "# convert obj to cat\n",
    "categorical = [\"Region_Code\", \"Policy_Sales_Channel\", \"Gender\", \"Vehicle_Damage\", \"Vehicle_Age\"]\n",
    "train[[\"Region_Code\", \"Policy_Sales_Channel\"]] = train[[\"Region_Code\", \"Policy_Sales_Channel\"]].astype('int32')\n",
    "train[categorical] = train[categorical].astype(\"category\")"
   ],
   "id": "1e9381bb304847ef",
   "outputs": [],
   "execution_count": 5
  },
  {
   "metadata": {},
   "cell_type": "markdown",
   "source": "# Reduce memory",
   "id": "30ba68b912ee71c"
  },
  {
   "metadata": {
    "ExecuteTime": {
     "end_time": "2024-07-25T03:57:29.877990Z",
     "start_time": "2024-07-25T03:57:29.207586Z"
    }
   },
   "cell_type": "code",
   "source": [
    "# convert numerics into int 32 \n",
    "\n",
    "import numpy as np\n",
    "# integer\n",
    "d = dict.fromkeys(train.select_dtypes(np.int64).columns, np.int32)\n",
    "train = train.astype(d)\n",
    "\n",
    "# float\n",
    "d2 = dict.fromkeys(train.select_dtypes(np.float64).columns, np.int32)\n",
    "train = train.astype(d2)"
   ],
   "id": "4c4254642e6371df",
   "outputs": [],
   "execution_count": 6
  },
  {
   "metadata": {},
   "cell_type": "markdown",
   "source": "# Split",
   "id": "9172269f5b1c1d82"
  },
  {
   "metadata": {
    "ExecuteTime": {
     "end_time": "2024-07-25T03:57:37.245624Z",
     "start_time": "2024-07-25T03:57:29.879630Z"
    }
   },
   "cell_type": "code",
   "source": [
    "from sklearn.model_selection import train_test_split\n",
    "X = train.drop(\"Response\", axis = 1)\n",
    "y = train[\"Response\"]\n",
    "\n",
    "\n",
    "X_train, X_val, y_train, y_val = train_test_split(X,y,\n",
    "                                                    test_size = 0.2,\n",
    "                                                    random_state = 42,\n",
    "                                                    stratify = y)"
   ],
   "id": "2e754827e1aa7331",
   "outputs": [],
   "execution_count": 7
  },
  {
   "metadata": {},
   "cell_type": "markdown",
   "source": "",
   "id": "3ff0460cddd310a1"
  },
  {
   "metadata": {
    "ExecuteTime": {
     "end_time": "2024-07-25T03:57:37.346816Z",
     "start_time": "2024-07-25T03:57:37.247777Z"
    }
   },
   "cell_type": "code",
   "source": [
    "X_train.info()\n",
    "X_train.head()\n"
   ],
   "id": "eba543ce86375d99",
   "outputs": [
    {
     "name": "stdout",
     "output_type": "stream",
     "text": [
      "<class 'pandas.core.frame.DataFrame'>\n",
      "Int64Index: 9203838 entries, 1129106 to 6241578\n",
      "Data columns (total 10 columns):\n",
      " #   Column                Dtype   \n",
      "---  ------                -----   \n",
      " 0   Gender                category\n",
      " 1   Age                   int32   \n",
      " 2   Driving_License       int32   \n",
      " 3   Region_Code           category\n",
      " 4   Previously_Insured    int32   \n",
      " 5   Vehicle_Age           category\n",
      " 6   Vehicle_Damage        category\n",
      " 7   Annual_Premium        int32   \n",
      " 8   Policy_Sales_Channel  category\n",
      " 9   Vintage               int32   \n",
      "dtypes: category(5), int32(5)\n",
      "memory usage: 298.4 MB\n"
     ]
    },
    {
     "data": {
      "text/plain": [
       "         Gender  Age  Driving_License Region_Code  Previously_Insured  \\\n",
       "1129106  Female   25                1          28                   0   \n",
       "9554468    Male   48                1          28                   0   \n",
       "5397130    Male   42                1          45                   0   \n",
       "1915003  Female   23                1          46                   1   \n",
       "2508839  Female   42                1          28                   0   \n",
       "\n",
       "        Vehicle_Age Vehicle_Damage  Annual_Premium Policy_Sales_Channel  \\\n",
       "1129106    < 1 Year            Yes           30775                  152   \n",
       "9554468    1-2 Year            Yes           35693                  124   \n",
       "5397130    1-2 Year            Yes           27863                  124   \n",
       "1915003    < 1 Year             No           22345                  152   \n",
       "2508839   > 2 Years            Yes           34367                   26   \n",
       "\n",
       "         Vintage  \n",
       "1129106      256  \n",
       "9554468       11  \n",
       "5397130      172  \n",
       "1915003      130  \n",
       "2508839      169  "
      ],
      "text/html": [
       "<div>\n",
       "<style scoped>\n",
       "    .dataframe tbody tr th:only-of-type {\n",
       "        vertical-align: middle;\n",
       "    }\n",
       "\n",
       "    .dataframe tbody tr th {\n",
       "        vertical-align: top;\n",
       "    }\n",
       "\n",
       "    .dataframe thead th {\n",
       "        text-align: right;\n",
       "    }\n",
       "</style>\n",
       "<table border=\"1\" class=\"dataframe\">\n",
       "  <thead>\n",
       "    <tr style=\"text-align: right;\">\n",
       "      <th></th>\n",
       "      <th>Gender</th>\n",
       "      <th>Age</th>\n",
       "      <th>Driving_License</th>\n",
       "      <th>Region_Code</th>\n",
       "      <th>Previously_Insured</th>\n",
       "      <th>Vehicle_Age</th>\n",
       "      <th>Vehicle_Damage</th>\n",
       "      <th>Annual_Premium</th>\n",
       "      <th>Policy_Sales_Channel</th>\n",
       "      <th>Vintage</th>\n",
       "    </tr>\n",
       "  </thead>\n",
       "  <tbody>\n",
       "    <tr>\n",
       "      <th>1129106</th>\n",
       "      <td>Female</td>\n",
       "      <td>25</td>\n",
       "      <td>1</td>\n",
       "      <td>28</td>\n",
       "      <td>0</td>\n",
       "      <td>&lt; 1 Year</td>\n",
       "      <td>Yes</td>\n",
       "      <td>30775</td>\n",
       "      <td>152</td>\n",
       "      <td>256</td>\n",
       "    </tr>\n",
       "    <tr>\n",
       "      <th>9554468</th>\n",
       "      <td>Male</td>\n",
       "      <td>48</td>\n",
       "      <td>1</td>\n",
       "      <td>28</td>\n",
       "      <td>0</td>\n",
       "      <td>1-2 Year</td>\n",
       "      <td>Yes</td>\n",
       "      <td>35693</td>\n",
       "      <td>124</td>\n",
       "      <td>11</td>\n",
       "    </tr>\n",
       "    <tr>\n",
       "      <th>5397130</th>\n",
       "      <td>Male</td>\n",
       "      <td>42</td>\n",
       "      <td>1</td>\n",
       "      <td>45</td>\n",
       "      <td>0</td>\n",
       "      <td>1-2 Year</td>\n",
       "      <td>Yes</td>\n",
       "      <td>27863</td>\n",
       "      <td>124</td>\n",
       "      <td>172</td>\n",
       "    </tr>\n",
       "    <tr>\n",
       "      <th>1915003</th>\n",
       "      <td>Female</td>\n",
       "      <td>23</td>\n",
       "      <td>1</td>\n",
       "      <td>46</td>\n",
       "      <td>1</td>\n",
       "      <td>&lt; 1 Year</td>\n",
       "      <td>No</td>\n",
       "      <td>22345</td>\n",
       "      <td>152</td>\n",
       "      <td>130</td>\n",
       "    </tr>\n",
       "    <tr>\n",
       "      <th>2508839</th>\n",
       "      <td>Female</td>\n",
       "      <td>42</td>\n",
       "      <td>1</td>\n",
       "      <td>28</td>\n",
       "      <td>0</td>\n",
       "      <td>&gt; 2 Years</td>\n",
       "      <td>Yes</td>\n",
       "      <td>34367</td>\n",
       "      <td>26</td>\n",
       "      <td>169</td>\n",
       "    </tr>\n",
       "  </tbody>\n",
       "</table>\n",
       "</div>"
      ]
     },
     "execution_count": 8,
     "metadata": {},
     "output_type": "execute_result"
    }
   ],
   "execution_count": 8
  },
  {
   "metadata": {},
   "cell_type": "markdown",
   "source": "# Pipe",
   "id": "5a9b8fa355ce3928"
  },
  {
   "metadata": {
    "ExecuteTime": {
     "end_time": "2024-07-25T03:57:37.449360Z",
     "start_time": "2024-07-25T03:57:37.365218Z"
    }
   },
   "cell_type": "code",
   "source": [
    "from sklearn.preprocessing import OrdinalEncoder\n",
    "from sklearn.compose import ColumnTransformer\n",
    "from sklearn.pipeline import Pipeline\n",
    "from sklearn.preprocessing import StandardScaler\n",
    "\n",
    "# grab columns by type\n",
    "num_col = ['Age','Annual_Premium','Vintage']\n",
    "\n",
    "cat_col = X_train.select_dtypes(include = ['object', 'category']).columns.tolist()\n",
    "\n",
    "# numerical transformer\n",
    "num_pipe = Pipeline(steps=[\n",
    "    (\"standardize\", StandardScaler()) # standardize\n",
    "])\n",
    "\n",
    "preprocess = ColumnTransformer(\n",
    "    transformers=[\n",
    "        (\"num\", num_pipe, num_col)\n",
    "    ],\n",
    "    remainder = \"passthrough\"\n",
    ")"
   ],
   "id": "a9252215d9cdd055",
   "outputs": [],
   "execution_count": 9
  },
  {
   "metadata": {},
   "cell_type": "markdown",
   "source": "# XGB model",
   "id": "9a13b48485547a29"
  },
  {
   "metadata": {
    "ExecuteTime": {
     "end_time": "2024-07-25T03:59:17.770878Z",
     "start_time": "2024-07-25T03:57:37.463729Z"
    }
   },
   "cell_type": "code",
   "source": [
    "import xgboost as xgb\n",
    "from sklearn.metrics import auc, accuracy_score, confusion_matrix, mean_squared_error\n",
    "\n",
    "clf = xgb.XGBClassifier(objective = 'binary:logistic', enable_categorical=True, max_cat_to_onehot=1,\n",
    "                        tree_method=\"hist\", early_stopping_rounds=2\n",
    ")\n",
    "\n",
    "clf.fit(X_train, y_train,eval_set=[(X_val, y_val)], verbose=True)\n",
    "\n"
   ],
   "id": "a28e2da35e3ca3fb",
   "outputs": [
    {
     "name": "stdout",
     "output_type": "stream",
     "text": [
      "[0]\tvalidation_0-logloss:0.34437\n",
      "[1]\tvalidation_0-logloss:0.31881\n",
      "[2]\tvalidation_0-logloss:0.30207\n",
      "[3]\tvalidation_0-logloss:0.29046\n",
      "[4]\tvalidation_0-logloss:0.28219\n",
      "[5]\tvalidation_0-logloss:0.27625\n",
      "[6]\tvalidation_0-logloss:0.27193\n",
      "[7]\tvalidation_0-logloss:0.26876\n",
      "[8]\tvalidation_0-logloss:0.26611\n",
      "[9]\tvalidation_0-logloss:0.26442\n",
      "[10]\tvalidation_0-logloss:0.26308\n",
      "[11]\tvalidation_0-logloss:0.26197\n",
      "[12]\tvalidation_0-logloss:0.26085\n",
      "[13]\tvalidation_0-logloss:0.26025\n",
      "[14]\tvalidation_0-logloss:0.25981\n",
      "[15]\tvalidation_0-logloss:0.25947\n",
      "[16]\tvalidation_0-logloss:0.25885\n",
      "[17]\tvalidation_0-logloss:0.25853\n",
      "[18]\tvalidation_0-logloss:0.25808\n",
      "[19]\tvalidation_0-logloss:0.25785\n",
      "[20]\tvalidation_0-logloss:0.25742\n",
      "[21]\tvalidation_0-logloss:0.25721\n",
      "[22]\tvalidation_0-logloss:0.25708\n",
      "[23]\tvalidation_0-logloss:0.25697\n",
      "[24]\tvalidation_0-logloss:0.25654\n",
      "[25]\tvalidation_0-logloss:0.25648\n",
      "[26]\tvalidation_0-logloss:0.25625\n",
      "[27]\tvalidation_0-logloss:0.25615\n",
      "[28]\tvalidation_0-logloss:0.25597\n",
      "[29]\tvalidation_0-logloss:0.25588\n",
      "[30]\tvalidation_0-logloss:0.25582\n",
      "[31]\tvalidation_0-logloss:0.25576\n",
      "[32]\tvalidation_0-logloss:0.25562\n",
      "[33]\tvalidation_0-logloss:0.25543\n",
      "[34]\tvalidation_0-logloss:0.25535\n",
      "[35]\tvalidation_0-logloss:0.25509\n",
      "[36]\tvalidation_0-logloss:0.25486\n",
      "[37]\tvalidation_0-logloss:0.25477\n",
      "[38]\tvalidation_0-logloss:0.25471\n",
      "[39]\tvalidation_0-logloss:0.25463\n",
      "[40]\tvalidation_0-logloss:0.25457\n",
      "[41]\tvalidation_0-logloss:0.25453\n",
      "[42]\tvalidation_0-logloss:0.25442\n",
      "[43]\tvalidation_0-logloss:0.25439\n",
      "[44]\tvalidation_0-logloss:0.25431\n",
      "[45]\tvalidation_0-logloss:0.25420\n",
      "[46]\tvalidation_0-logloss:0.25418\n",
      "[47]\tvalidation_0-logloss:0.25412\n",
      "[48]\tvalidation_0-logloss:0.25404\n",
      "[49]\tvalidation_0-logloss:0.25403\n",
      "[50]\tvalidation_0-logloss:0.25397\n",
      "[51]\tvalidation_0-logloss:0.25392\n",
      "[52]\tvalidation_0-logloss:0.25386\n",
      "[53]\tvalidation_0-logloss:0.25380\n",
      "[54]\tvalidation_0-logloss:0.25378\n",
      "[55]\tvalidation_0-logloss:0.25375\n",
      "[56]\tvalidation_0-logloss:0.25368\n",
      "[57]\tvalidation_0-logloss:0.25364\n",
      "[58]\tvalidation_0-logloss:0.25360\n",
      "[59]\tvalidation_0-logloss:0.25343\n",
      "[60]\tvalidation_0-logloss:0.25343\n",
      "[61]\tvalidation_0-logloss:0.25340\n",
      "[62]\tvalidation_0-logloss:0.25337\n",
      "[63]\tvalidation_0-logloss:0.25329\n",
      "[64]\tvalidation_0-logloss:0.25321\n",
      "[65]\tvalidation_0-logloss:0.25314\n",
      "[66]\tvalidation_0-logloss:0.25311\n",
      "[67]\tvalidation_0-logloss:0.25306\n",
      "[68]\tvalidation_0-logloss:0.25303\n",
      "[69]\tvalidation_0-logloss:0.25300\n",
      "[70]\tvalidation_0-logloss:0.25297\n",
      "[71]\tvalidation_0-logloss:0.25296\n",
      "[72]\tvalidation_0-logloss:0.25294\n",
      "[73]\tvalidation_0-logloss:0.25293\n",
      "[74]\tvalidation_0-logloss:0.25292\n",
      "[75]\tvalidation_0-logloss:0.25290\n",
      "[76]\tvalidation_0-logloss:0.25290\n",
      "[77]\tvalidation_0-logloss:0.25285\n",
      "[78]\tvalidation_0-logloss:0.25279\n",
      "[79]\tvalidation_0-logloss:0.25278\n",
      "[80]\tvalidation_0-logloss:0.25274\n",
      "[81]\tvalidation_0-logloss:0.25270\n",
      "[82]\tvalidation_0-logloss:0.25266\n",
      "[83]\tvalidation_0-logloss:0.25265\n",
      "[84]\tvalidation_0-logloss:0.25264\n",
      "[85]\tvalidation_0-logloss:0.25262\n",
      "[86]\tvalidation_0-logloss:0.25258\n",
      "[87]\tvalidation_0-logloss:0.25257\n",
      "[88]\tvalidation_0-logloss:0.25257\n",
      "[89]\tvalidation_0-logloss:0.25255\n",
      "[90]\tvalidation_0-logloss:0.25253\n",
      "[91]\tvalidation_0-logloss:0.25249\n",
      "[92]\tvalidation_0-logloss:0.25247\n",
      "[93]\tvalidation_0-logloss:0.25244\n",
      "[94]\tvalidation_0-logloss:0.25240\n",
      "[95]\tvalidation_0-logloss:0.25239\n",
      "[96]\tvalidation_0-logloss:0.25236\n",
      "[97]\tvalidation_0-logloss:0.25233\n",
      "[98]\tvalidation_0-logloss:0.25230\n",
      "[99]\tvalidation_0-logloss:0.25226\n"
     ]
    },
    {
     "data": {
      "text/plain": [
       "XGBClassifier(base_score=None, booster=None, callbacks=None,\n",
       "              colsample_bylevel=None, colsample_bynode=None,\n",
       "              colsample_bytree=None, device=None, early_stopping_rounds=2,\n",
       "              enable_categorical=True, eval_metric=None, feature_types=None,\n",
       "              gamma=None, grow_policy=None, importance_type=None,\n",
       "              interaction_constraints=None, learning_rate=None, max_bin=None,\n",
       "              max_cat_threshold=None, max_cat_to_onehot=1, max_delta_step=None,\n",
       "              max_depth=None, max_leaves=None, min_child_weight=None,\n",
       "              missing=nan, monotone_constraints=None, multi_strategy=None,\n",
       "              n_estimators=None, n_jobs=None, num_parallel_tree=None,\n",
       "              random_state=None, ...)"
      ],
      "text/html": [
       "<style>#sk-container-id-1 {color: black;background-color: white;}#sk-container-id-1 pre{padding: 0;}#sk-container-id-1 div.sk-toggleable {background-color: white;}#sk-container-id-1 label.sk-toggleable__label {cursor: pointer;display: block;width: 100%;margin-bottom: 0;padding: 0.3em;box-sizing: border-box;text-align: center;}#sk-container-id-1 label.sk-toggleable__label-arrow:before {content: \"▸\";float: left;margin-right: 0.25em;color: #696969;}#sk-container-id-1 label.sk-toggleable__label-arrow:hover:before {color: black;}#sk-container-id-1 div.sk-estimator:hover label.sk-toggleable__label-arrow:before {color: black;}#sk-container-id-1 div.sk-toggleable__content {max-height: 0;max-width: 0;overflow: hidden;text-align: left;background-color: #f0f8ff;}#sk-container-id-1 div.sk-toggleable__content pre {margin: 0.2em;color: black;border-radius: 0.25em;background-color: #f0f8ff;}#sk-container-id-1 input.sk-toggleable__control:checked~div.sk-toggleable__content {max-height: 200px;max-width: 100%;overflow: auto;}#sk-container-id-1 input.sk-toggleable__control:checked~label.sk-toggleable__label-arrow:before {content: \"▾\";}#sk-container-id-1 div.sk-estimator input.sk-toggleable__control:checked~label.sk-toggleable__label {background-color: #d4ebff;}#sk-container-id-1 div.sk-label input.sk-toggleable__control:checked~label.sk-toggleable__label {background-color: #d4ebff;}#sk-container-id-1 input.sk-hidden--visually {border: 0;clip: rect(1px 1px 1px 1px);clip: rect(1px, 1px, 1px, 1px);height: 1px;margin: -1px;overflow: hidden;padding: 0;position: absolute;width: 1px;}#sk-container-id-1 div.sk-estimator {font-family: monospace;background-color: #f0f8ff;border: 1px dotted black;border-radius: 0.25em;box-sizing: border-box;margin-bottom: 0.5em;}#sk-container-id-1 div.sk-estimator:hover {background-color: #d4ebff;}#sk-container-id-1 div.sk-parallel-item::after {content: \"\";width: 100%;border-bottom: 1px solid gray;flex-grow: 1;}#sk-container-id-1 div.sk-label:hover label.sk-toggleable__label {background-color: #d4ebff;}#sk-container-id-1 div.sk-serial::before {content: \"\";position: absolute;border-left: 1px solid gray;box-sizing: border-box;top: 0;bottom: 0;left: 50%;z-index: 0;}#sk-container-id-1 div.sk-serial {display: flex;flex-direction: column;align-items: center;background-color: white;padding-right: 0.2em;padding-left: 0.2em;position: relative;}#sk-container-id-1 div.sk-item {position: relative;z-index: 1;}#sk-container-id-1 div.sk-parallel {display: flex;align-items: stretch;justify-content: center;background-color: white;position: relative;}#sk-container-id-1 div.sk-item::before, #sk-container-id-1 div.sk-parallel-item::before {content: \"\";position: absolute;border-left: 1px solid gray;box-sizing: border-box;top: 0;bottom: 0;left: 50%;z-index: -1;}#sk-container-id-1 div.sk-parallel-item {display: flex;flex-direction: column;z-index: 1;position: relative;background-color: white;}#sk-container-id-1 div.sk-parallel-item:first-child::after {align-self: flex-end;width: 50%;}#sk-container-id-1 div.sk-parallel-item:last-child::after {align-self: flex-start;width: 50%;}#sk-container-id-1 div.sk-parallel-item:only-child::after {width: 0;}#sk-container-id-1 div.sk-dashed-wrapped {border: 1px dashed gray;margin: 0 0.4em 0.5em 0.4em;box-sizing: border-box;padding-bottom: 0.4em;background-color: white;}#sk-container-id-1 div.sk-label label {font-family: monospace;font-weight: bold;display: inline-block;line-height: 1.2em;}#sk-container-id-1 div.sk-label-container {text-align: center;}#sk-container-id-1 div.sk-container {/* jupyter's `normalize.less` sets `[hidden] { display: none; }` but bootstrap.min.css set `[hidden] { display: none !important; }` so we also need the `!important` here to be able to override the default hidden behavior on the sphinx rendered scikit-learn.org. See: https://github.com/scikit-learn/scikit-learn/issues/21755 */display: inline-block !important;position: relative;}#sk-container-id-1 div.sk-text-repr-fallback {display: none;}</style><div id=\"sk-container-id-1\" class=\"sk-top-container\"><div class=\"sk-text-repr-fallback\"><pre>XGBClassifier(base_score=None, booster=None, callbacks=None,\n",
       "              colsample_bylevel=None, colsample_bynode=None,\n",
       "              colsample_bytree=None, device=None, early_stopping_rounds=2,\n",
       "              enable_categorical=True, eval_metric=None, feature_types=None,\n",
       "              gamma=None, grow_policy=None, importance_type=None,\n",
       "              interaction_constraints=None, learning_rate=None, max_bin=None,\n",
       "              max_cat_threshold=None, max_cat_to_onehot=1, max_delta_step=None,\n",
       "              max_depth=None, max_leaves=None, min_child_weight=None,\n",
       "              missing=nan, monotone_constraints=None, multi_strategy=None,\n",
       "              n_estimators=None, n_jobs=None, num_parallel_tree=None,\n",
       "              random_state=None, ...)</pre><b>In a Jupyter environment, please rerun this cell to show the HTML representation or trust the notebook. <br />On GitHub, the HTML representation is unable to render, please try loading this page with nbviewer.org.</b></div><div class=\"sk-container\" hidden><div class=\"sk-item\"><div class=\"sk-estimator sk-toggleable\"><input class=\"sk-toggleable__control sk-hidden--visually\" id=\"sk-estimator-id-1\" type=\"checkbox\" checked><label for=\"sk-estimator-id-1\" class=\"sk-toggleable__label sk-toggleable__label-arrow\">XGBClassifier</label><div class=\"sk-toggleable__content\"><pre>XGBClassifier(base_score=None, booster=None, callbacks=None,\n",
       "              colsample_bylevel=None, colsample_bynode=None,\n",
       "              colsample_bytree=None, device=None, early_stopping_rounds=2,\n",
       "              enable_categorical=True, eval_metric=None, feature_types=None,\n",
       "              gamma=None, grow_policy=None, importance_type=None,\n",
       "              interaction_constraints=None, learning_rate=None, max_bin=None,\n",
       "              max_cat_threshold=None, max_cat_to_onehot=1, max_delta_step=None,\n",
       "              max_depth=None, max_leaves=None, min_child_weight=None,\n",
       "              missing=nan, monotone_constraints=None, multi_strategy=None,\n",
       "              n_estimators=None, n_jobs=None, num_parallel_tree=None,\n",
       "              random_state=None, ...)</pre></div></div></div></div></div>"
      ]
     },
     "execution_count": 11,
     "metadata": {},
     "output_type": "execute_result"
    }
   ],
   "execution_count": 11
  },
  {
   "metadata": {},
   "cell_type": "markdown",
   "source": "# Predict",
   "id": "cceaae87862a0c76"
  },
  {
   "metadata": {
    "ExecuteTime": {
     "end_time": "2024-07-25T03:59:47.168186Z",
     "start_time": "2024-07-25T03:59:44.652930Z"
    }
   },
   "cell_type": "code",
   "source": [
    "y_pred = clf.predict(X_val)\n",
    "print(confusion_matrix(y_val, y_pred))\n"
   ],
   "id": "b2093a71618a10d0",
   "outputs": [
    {
     "name": "stdout",
     "output_type": "stream",
     "text": [
      "[[1997192   20756]\n",
      " [ 255048   27964]]\n"
     ]
    }
   ],
   "execution_count": 12
  },
  {
   "metadata": {},
   "cell_type": "markdown",
   "source": "# Dmatrices",
   "id": "454d46312b5c02a2"
  },
  {
   "metadata": {
    "ExecuteTime": {
     "end_time": "2024-07-25T19:37:05.368185Z",
     "start_time": "2024-07-25T19:37:00.322719Z"
    }
   },
   "cell_type": "code",
   "source": [
    "xgtrain = xgb.DMatrix(X_train,y_train, enable_categorical= True)\n",
    "xgtest  = xgb.DMatrix(X_val,y_val, enable_categorical= True)"
   ],
   "id": "e21be5b6e9a8e4a3",
   "outputs": [],
   "execution_count": 18
  },
  {
   "metadata": {
    "ExecuteTime": {
     "start_time": "2024-07-25T19:39:46.622261Z"
    }
   },
   "cell_type": "code",
   "source": [
    "from sklearn.metrics import f1_score, recall_score, confusion_matrix,roc_auc_score\n",
    "\n",
    "params_1 = {\"objective\": \"binary:logistic\"}\n",
    "\n",
    "n = 1000\n",
    "\n",
    "results = xgb.cv(params_1,\n",
    "                 xgtrain,\n",
    "                 num_boost_round = n,\n",
    "                 nfold=5,\n",
    "                 metrics = [\"logloss\",\"auc\",\"error\"],\n",
    "                 early_stopping_rounds=20\n",
    "                 )\n"
   ],
   "id": "2994685ea4146d4d",
   "outputs": [],
   "execution_count": null
  },
  {
   "metadata": {},
   "cell_type": "code",
   "outputs": [],
   "execution_count": null,
   "source": "",
   "id": "5f4eed0c48eb56e7"
  },
  {
   "metadata": {},
   "cell_type": "markdown",
   "source": "## Hyperopt",
   "id": "67a48b03418dac25"
  },
  {
   "metadata": {},
   "cell_type": "markdown",
   "source": "# k fold",
   "id": "5b8d3572ab20513b"
  },
  {
   "metadata": {
    "ExecuteTime": {
     "end_time": "2024-07-25T18:43:26.450848Z",
     "start_time": "2024-07-25T18:42:49.257722Z"
    }
   },
   "cell_type": "code",
   "source": [
    "from sklearn.model_selection import KFold\n",
    "from sklearn.model_selection import cross_val_score\n",
    "\n",
    "\n",
    "clf = xgb.XGBClassifier(objective = 'binary:logistic', enable_categorical=True, max_cat_to_onehot=1,\n",
    "                        tree_method=\"hist\", early_stopping_rounds=2\n",
    ")\n",
    "\n",
    "clf.fit(X_train, y_train,eval_set=[(X_val, y_val)], verbose=True)\n",
    "\n",
    "kfold = KFold(n_splits=5)\n",
    "results = cross_val_score(clf, X, y, cv=kfold)\n",
    "print(\"Accuracy: %.2f%% (%.2f%%)\" % (results.mean()*100, results.std()*100))"
   ],
   "id": "91b1857a31da112d",
   "outputs": [
    {
     "ename": "ValueError",
     "evalue": "\nAll the 5 fits failed.\nIt is very likely that your model is misconfigured.\nYou can try to debug the error by setting error_score='raise'.\n\nBelow are more details about the failures:\n--------------------------------------------------------------------------------\n5 fits failed with the following error:\nTraceback (most recent call last):\n  File \"/Library/Frameworks/Python.framework/Versions/3.10/lib/python3.10/site-packages/sklearn/model_selection/_validation.py\", line 686, in _fit_and_score\n    estimator.fit(X_train, y_train, **fit_params)\n  File \"/Library/Frameworks/Python.framework/Versions/3.10/lib/python3.10/site-packages/xgboost/core.py\", line 726, in inner_f\n    return func(**kwargs)\n  File \"/Library/Frameworks/Python.framework/Versions/3.10/lib/python3.10/site-packages/xgboost/sklearn.py\", line 1531, in fit\n    self._Booster = train(\n  File \"/Library/Frameworks/Python.framework/Versions/3.10/lib/python3.10/site-packages/xgboost/core.py\", line 726, in inner_f\n    return func(**kwargs)\n  File \"/Library/Frameworks/Python.framework/Versions/3.10/lib/python3.10/site-packages/xgboost/training.py\", line 182, in train\n    if cb_container.after_iteration(bst, i, dtrain, evals):\n  File \"/Library/Frameworks/Python.framework/Versions/3.10/lib/python3.10/site-packages/xgboost/callback.py\", line 261, in after_iteration\n    ret = any(c.after_iteration(model, epoch, self.history) for c in self.callbacks)\n  File \"/Library/Frameworks/Python.framework/Versions/3.10/lib/python3.10/site-packages/xgboost/callback.py\", line 261, in <genexpr>\n    ret = any(c.after_iteration(model, epoch, self.history) for c in self.callbacks)\n  File \"/Library/Frameworks/Python.framework/Versions/3.10/lib/python3.10/site-packages/xgboost/callback.py\", line 446, in after_iteration\n    raise ValueError(msg)\nValueError: Must have at least 1 validation dataset for early stopping.\n",
     "output_type": "error",
     "traceback": [
      "\u001B[0;31m---------------------------------------------------------------------------\u001B[0m",
      "\u001B[0;31mValueError\u001B[0m                                Traceback (most recent call last)",
      "Input \u001B[0;32mIn [16]\u001B[0m, in \u001B[0;36m<cell line: 5>\u001B[0;34m()\u001B[0m\n\u001B[1;32m      2\u001B[0m \u001B[38;5;28;01mfrom\u001B[39;00m \u001B[38;5;21;01msklearn\u001B[39;00m\u001B[38;5;21;01m.\u001B[39;00m\u001B[38;5;21;01mmodel_selection\u001B[39;00m \u001B[38;5;28;01mimport\u001B[39;00m cross_val_score\n\u001B[1;32m      4\u001B[0m kfold \u001B[38;5;241m=\u001B[39m KFold(n_splits\u001B[38;5;241m=\u001B[39m\u001B[38;5;241m5\u001B[39m)\n\u001B[0;32m----> 5\u001B[0m results \u001B[38;5;241m=\u001B[39m \u001B[43mcross_val_score\u001B[49m\u001B[43m(\u001B[49m\u001B[43mclf\u001B[49m\u001B[43m,\u001B[49m\u001B[43m \u001B[49m\u001B[43mX\u001B[49m\u001B[43m,\u001B[49m\u001B[43m \u001B[49m\u001B[43my\u001B[49m\u001B[43m,\u001B[49m\u001B[43m \u001B[49m\u001B[43mcv\u001B[49m\u001B[38;5;241;43m=\u001B[39;49m\u001B[43mkfold\u001B[49m\u001B[43m)\u001B[49m\n\u001B[1;32m      6\u001B[0m \u001B[38;5;28mprint\u001B[39m(\u001B[38;5;124m\"\u001B[39m\u001B[38;5;124mAccuracy: \u001B[39m\u001B[38;5;132;01m%.2f\u001B[39;00m\u001B[38;5;132;01m%%\u001B[39;00m\u001B[38;5;124m (\u001B[39m\u001B[38;5;132;01m%.2f\u001B[39;00m\u001B[38;5;132;01m%%\u001B[39;00m\u001B[38;5;124m)\u001B[39m\u001B[38;5;124m\"\u001B[39m \u001B[38;5;241m%\u001B[39m (results\u001B[38;5;241m.\u001B[39mmean()\u001B[38;5;241m*\u001B[39m\u001B[38;5;241m100\u001B[39m, results\u001B[38;5;241m.\u001B[39mstd()\u001B[38;5;241m*\u001B[39m\u001B[38;5;241m100\u001B[39m))\n",
      "File \u001B[0;32m/Library/Frameworks/Python.framework/Versions/3.10/lib/python3.10/site-packages/sklearn/model_selection/_validation.py:515\u001B[0m, in \u001B[0;36mcross_val_score\u001B[0;34m(estimator, X, y, groups, scoring, cv, n_jobs, verbose, fit_params, pre_dispatch, error_score)\u001B[0m\n\u001B[1;32m    512\u001B[0m \u001B[38;5;66;03m# To ensure multimetric format is not supported\u001B[39;00m\n\u001B[1;32m    513\u001B[0m scorer \u001B[38;5;241m=\u001B[39m check_scoring(estimator, scoring\u001B[38;5;241m=\u001B[39mscoring)\n\u001B[0;32m--> 515\u001B[0m cv_results \u001B[38;5;241m=\u001B[39m \u001B[43mcross_validate\u001B[49m\u001B[43m(\u001B[49m\n\u001B[1;32m    516\u001B[0m \u001B[43m    \u001B[49m\u001B[43mestimator\u001B[49m\u001B[38;5;241;43m=\u001B[39;49m\u001B[43mestimator\u001B[49m\u001B[43m,\u001B[49m\n\u001B[1;32m    517\u001B[0m \u001B[43m    \u001B[49m\u001B[43mX\u001B[49m\u001B[38;5;241;43m=\u001B[39;49m\u001B[43mX\u001B[49m\u001B[43m,\u001B[49m\n\u001B[1;32m    518\u001B[0m \u001B[43m    \u001B[49m\u001B[43my\u001B[49m\u001B[38;5;241;43m=\u001B[39;49m\u001B[43my\u001B[49m\u001B[43m,\u001B[49m\n\u001B[1;32m    519\u001B[0m \u001B[43m    \u001B[49m\u001B[43mgroups\u001B[49m\u001B[38;5;241;43m=\u001B[39;49m\u001B[43mgroups\u001B[49m\u001B[43m,\u001B[49m\n\u001B[1;32m    520\u001B[0m \u001B[43m    \u001B[49m\u001B[43mscoring\u001B[49m\u001B[38;5;241;43m=\u001B[39;49m\u001B[43m{\u001B[49m\u001B[38;5;124;43m\"\u001B[39;49m\u001B[38;5;124;43mscore\u001B[39;49m\u001B[38;5;124;43m\"\u001B[39;49m\u001B[43m:\u001B[49m\u001B[43m \u001B[49m\u001B[43mscorer\u001B[49m\u001B[43m}\u001B[49m\u001B[43m,\u001B[49m\n\u001B[1;32m    521\u001B[0m \u001B[43m    \u001B[49m\u001B[43mcv\u001B[49m\u001B[38;5;241;43m=\u001B[39;49m\u001B[43mcv\u001B[49m\u001B[43m,\u001B[49m\n\u001B[1;32m    522\u001B[0m \u001B[43m    \u001B[49m\u001B[43mn_jobs\u001B[49m\u001B[38;5;241;43m=\u001B[39;49m\u001B[43mn_jobs\u001B[49m\u001B[43m,\u001B[49m\n\u001B[1;32m    523\u001B[0m \u001B[43m    \u001B[49m\u001B[43mverbose\u001B[49m\u001B[38;5;241;43m=\u001B[39;49m\u001B[43mverbose\u001B[49m\u001B[43m,\u001B[49m\n\u001B[1;32m    524\u001B[0m \u001B[43m    \u001B[49m\u001B[43mfit_params\u001B[49m\u001B[38;5;241;43m=\u001B[39;49m\u001B[43mfit_params\u001B[49m\u001B[43m,\u001B[49m\n\u001B[1;32m    525\u001B[0m \u001B[43m    \u001B[49m\u001B[43mpre_dispatch\u001B[49m\u001B[38;5;241;43m=\u001B[39;49m\u001B[43mpre_dispatch\u001B[49m\u001B[43m,\u001B[49m\n\u001B[1;32m    526\u001B[0m \u001B[43m    \u001B[49m\u001B[43merror_score\u001B[49m\u001B[38;5;241;43m=\u001B[39;49m\u001B[43merror_score\u001B[49m\u001B[43m,\u001B[49m\n\u001B[1;32m    527\u001B[0m \u001B[43m\u001B[49m\u001B[43m)\u001B[49m\n\u001B[1;32m    528\u001B[0m \u001B[38;5;28;01mreturn\u001B[39;00m cv_results[\u001B[38;5;124m\"\u001B[39m\u001B[38;5;124mtest_score\u001B[39m\u001B[38;5;124m\"\u001B[39m]\n",
      "File \u001B[0;32m/Library/Frameworks/Python.framework/Versions/3.10/lib/python3.10/site-packages/sklearn/model_selection/_validation.py:285\u001B[0m, in \u001B[0;36mcross_validate\u001B[0;34m(estimator, X, y, groups, scoring, cv, n_jobs, verbose, fit_params, pre_dispatch, return_train_score, return_estimator, error_score)\u001B[0m\n\u001B[1;32m    265\u001B[0m parallel \u001B[38;5;241m=\u001B[39m Parallel(n_jobs\u001B[38;5;241m=\u001B[39mn_jobs, verbose\u001B[38;5;241m=\u001B[39mverbose, pre_dispatch\u001B[38;5;241m=\u001B[39mpre_dispatch)\n\u001B[1;32m    266\u001B[0m results \u001B[38;5;241m=\u001B[39m parallel(\n\u001B[1;32m    267\u001B[0m     delayed(_fit_and_score)(\n\u001B[1;32m    268\u001B[0m         clone(estimator),\n\u001B[0;32m   (...)\u001B[0m\n\u001B[1;32m    282\u001B[0m     \u001B[38;5;28;01mfor\u001B[39;00m train, test \u001B[38;5;129;01min\u001B[39;00m cv\u001B[38;5;241m.\u001B[39msplit(X, y, groups)\n\u001B[1;32m    283\u001B[0m )\n\u001B[0;32m--> 285\u001B[0m \u001B[43m_warn_or_raise_about_fit_failures\u001B[49m\u001B[43m(\u001B[49m\u001B[43mresults\u001B[49m\u001B[43m,\u001B[49m\u001B[43m \u001B[49m\u001B[43merror_score\u001B[49m\u001B[43m)\u001B[49m\n\u001B[1;32m    287\u001B[0m \u001B[38;5;66;03m# For callabe scoring, the return type is only know after calling. If the\u001B[39;00m\n\u001B[1;32m    288\u001B[0m \u001B[38;5;66;03m# return type is a dictionary, the error scores can now be inserted with\u001B[39;00m\n\u001B[1;32m    289\u001B[0m \u001B[38;5;66;03m# the correct key.\u001B[39;00m\n\u001B[1;32m    290\u001B[0m \u001B[38;5;28;01mif\u001B[39;00m callable(scoring):\n",
      "File \u001B[0;32m/Library/Frameworks/Python.framework/Versions/3.10/lib/python3.10/site-packages/sklearn/model_selection/_validation.py:367\u001B[0m, in \u001B[0;36m_warn_or_raise_about_fit_failures\u001B[0;34m(results, error_score)\u001B[0m\n\u001B[1;32m    360\u001B[0m \u001B[38;5;28;01mif\u001B[39;00m num_failed_fits \u001B[38;5;241m==\u001B[39m num_fits:\n\u001B[1;32m    361\u001B[0m     all_fits_failed_message \u001B[38;5;241m=\u001B[39m (\n\u001B[1;32m    362\u001B[0m         \u001B[38;5;124mf\u001B[39m\u001B[38;5;124m\"\u001B[39m\u001B[38;5;130;01m\\n\u001B[39;00m\u001B[38;5;124mAll the \u001B[39m\u001B[38;5;132;01m{\u001B[39;00mnum_fits\u001B[38;5;132;01m}\u001B[39;00m\u001B[38;5;124m fits failed.\u001B[39m\u001B[38;5;130;01m\\n\u001B[39;00m\u001B[38;5;124m\"\u001B[39m\n\u001B[1;32m    363\u001B[0m         \u001B[38;5;124m\"\u001B[39m\u001B[38;5;124mIt is very likely that your model is misconfigured.\u001B[39m\u001B[38;5;130;01m\\n\u001B[39;00m\u001B[38;5;124m\"\u001B[39m\n\u001B[1;32m    364\u001B[0m         \u001B[38;5;124m\"\u001B[39m\u001B[38;5;124mYou can try to debug the error by setting error_score=\u001B[39m\u001B[38;5;124m'\u001B[39m\u001B[38;5;124mraise\u001B[39m\u001B[38;5;124m'\u001B[39m\u001B[38;5;124m.\u001B[39m\u001B[38;5;130;01m\\n\u001B[39;00m\u001B[38;5;130;01m\\n\u001B[39;00m\u001B[38;5;124m\"\u001B[39m\n\u001B[1;32m    365\u001B[0m         \u001B[38;5;124mf\u001B[39m\u001B[38;5;124m\"\u001B[39m\u001B[38;5;124mBelow are more details about the failures:\u001B[39m\u001B[38;5;130;01m\\n\u001B[39;00m\u001B[38;5;132;01m{\u001B[39;00mfit_errors_summary\u001B[38;5;132;01m}\u001B[39;00m\u001B[38;5;124m\"\u001B[39m\n\u001B[1;32m    366\u001B[0m     )\n\u001B[0;32m--> 367\u001B[0m     \u001B[38;5;28;01mraise\u001B[39;00m \u001B[38;5;167;01mValueError\u001B[39;00m(all_fits_failed_message)\n\u001B[1;32m    369\u001B[0m \u001B[38;5;28;01melse\u001B[39;00m:\n\u001B[1;32m    370\u001B[0m     some_fits_failed_message \u001B[38;5;241m=\u001B[39m (\n\u001B[1;32m    371\u001B[0m         \u001B[38;5;124mf\u001B[39m\u001B[38;5;124m\"\u001B[39m\u001B[38;5;130;01m\\n\u001B[39;00m\u001B[38;5;132;01m{\u001B[39;00mnum_failed_fits\u001B[38;5;132;01m}\u001B[39;00m\u001B[38;5;124m fits failed out of a total of \u001B[39m\u001B[38;5;132;01m{\u001B[39;00mnum_fits\u001B[38;5;132;01m}\u001B[39;00m\u001B[38;5;124m.\u001B[39m\u001B[38;5;130;01m\\n\u001B[39;00m\u001B[38;5;124m\"\u001B[39m\n\u001B[1;32m    372\u001B[0m         \u001B[38;5;124m\"\u001B[39m\u001B[38;5;124mThe score on these train-test partitions for these parameters\u001B[39m\u001B[38;5;124m\"\u001B[39m\n\u001B[0;32m   (...)\u001B[0m\n\u001B[1;32m    376\u001B[0m         \u001B[38;5;124mf\u001B[39m\u001B[38;5;124m\"\u001B[39m\u001B[38;5;124mBelow are more details about the failures:\u001B[39m\u001B[38;5;130;01m\\n\u001B[39;00m\u001B[38;5;132;01m{\u001B[39;00mfit_errors_summary\u001B[38;5;132;01m}\u001B[39;00m\u001B[38;5;124m\"\u001B[39m\n\u001B[1;32m    377\u001B[0m     )\n",
      "\u001B[0;31mValueError\u001B[0m: \nAll the 5 fits failed.\nIt is very likely that your model is misconfigured.\nYou can try to debug the error by setting error_score='raise'.\n\nBelow are more details about the failures:\n--------------------------------------------------------------------------------\n5 fits failed with the following error:\nTraceback (most recent call last):\n  File \"/Library/Frameworks/Python.framework/Versions/3.10/lib/python3.10/site-packages/sklearn/model_selection/_validation.py\", line 686, in _fit_and_score\n    estimator.fit(X_train, y_train, **fit_params)\n  File \"/Library/Frameworks/Python.framework/Versions/3.10/lib/python3.10/site-packages/xgboost/core.py\", line 726, in inner_f\n    return func(**kwargs)\n  File \"/Library/Frameworks/Python.framework/Versions/3.10/lib/python3.10/site-packages/xgboost/sklearn.py\", line 1531, in fit\n    self._Booster = train(\n  File \"/Library/Frameworks/Python.framework/Versions/3.10/lib/python3.10/site-packages/xgboost/core.py\", line 726, in inner_f\n    return func(**kwargs)\n  File \"/Library/Frameworks/Python.framework/Versions/3.10/lib/python3.10/site-packages/xgboost/training.py\", line 182, in train\n    if cb_container.after_iteration(bst, i, dtrain, evals):\n  File \"/Library/Frameworks/Python.framework/Versions/3.10/lib/python3.10/site-packages/xgboost/callback.py\", line 261, in after_iteration\n    ret = any(c.after_iteration(model, epoch, self.history) for c in self.callbacks)\n  File \"/Library/Frameworks/Python.framework/Versions/3.10/lib/python3.10/site-packages/xgboost/callback.py\", line 261, in <genexpr>\n    ret = any(c.after_iteration(model, epoch, self.history) for c in self.callbacks)\n  File \"/Library/Frameworks/Python.framework/Versions/3.10/lib/python3.10/site-packages/xgboost/callback.py\", line 446, in after_iteration\n    raise ValueError(msg)\nValueError: Must have at least 1 validation dataset for early stopping.\n"
     ]
    }
   ],
   "execution_count": 16
  },
  {
   "metadata": {},
   "cell_type": "code",
   "outputs": [],
   "execution_count": null,
   "source": "",
   "id": "bbba26429b54c200"
  }
 ],
 "metadata": {
  "kernelspec": {
   "display_name": "Python 3",
   "language": "python",
   "name": "python3"
  },
  "language_info": {
   "codemirror_mode": {
    "name": "ipython",
    "version": 2
   },
   "file_extension": ".py",
   "mimetype": "text/x-python",
   "name": "python",
   "nbconvert_exporter": "python",
   "pygments_lexer": "ipython2",
   "version": "2.7.6"
  }
 },
 "nbformat": 4,
 "nbformat_minor": 5
}
