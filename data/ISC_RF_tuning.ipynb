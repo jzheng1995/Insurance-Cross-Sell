{
 "cells": [
  {
   "metadata": {},
   "cell_type": "markdown",
   "source": "# Random Forest Model tuning",
   "id": "4ece34ede214b772"
  },
  {
   "metadata": {},
   "cell_type": "markdown",
   "source": "Let's see how much improvement can be made on a default random forest model via hyperparameter optimization. We'll work most of our tuning on 10% sample of the entire training set. ",
   "id": "3b368b884d37f6f"
  },
  {
   "metadata": {},
   "cell_type": "markdown",
   "source": "# Set up",
   "id": "b65fadd6a0fc2766"
  },
  {
   "metadata": {
    "ExecuteTime": {
     "end_time": "2024-07-31T00:50:55.279529Z",
     "start_time": "2024-07-31T00:50:09.588017Z"
    }
   },
   "cell_type": "code",
   "source": [
    "import pandas as pd\n",
    "import zipfile \n",
    "from zipfile import ZipFile \n",
    "import pickle\n",
    "pandas.set_option(\"future.no_silent_downcasting\", True)\n",
    "\n",
    "file_name = \"playground-series-s4e7.zip\"\n",
    "with ZipFile(file_name, 'r') as zip: \n",
    "    # printing all the contents of the zip file \n",
    "    zip.printdir()\n",
    "df_zip = zipfile.ZipFile(file_name)\n",
    "train = pd.read_csv(df_zip.open('train.csv'))\n",
    "\n",
    "# import sample\n",
    "import random\n",
    "\n",
    "n = len(train) # Calculate number of rows in file\n",
    "s = n//10  # sample size of 10%\n",
    "skip = sorted(random.sample(range(1, n+1), n-s))   \n",
    "train_sample = pd.read_csv(df_zip.open('train.csv'), skiprows = skip)\n",
    "train_sample\n"
   ],
   "id": "e9a6c20b25f88b0e",
   "outputs": [
    {
     "name": "stdout",
     "output_type": "stream",
     "text": [
      "File Name                                             Modified             Size\n",
      "sample_submission.csv                          2024-06-24 13:46:18     99708270\n",
      "test.csv                                       2024-06-24 13:46:24    433918183\n",
      "train.csv                                      2024-06-24 13:46:48    662779095\n"
     ]
    },
    {
     "data": {
      "text/plain": [
       "               id  Gender  Age  Driving_License  Region_Code  \\\n",
       "0               7  Female   47                1          8.0   \n",
       "1              14  Female   24                1         12.0   \n",
       "2              75  Female   46                1         33.0   \n",
       "3             101  Female   40                1         28.0   \n",
       "4             112  Female   49                1         18.0   \n",
       "...           ...     ...  ...              ...          ...   \n",
       "1150474  11504740    Male   39                1         46.0   \n",
       "1150475  11504742    Male   61                1         28.0   \n",
       "1150476  11504748    Male   63                1         19.0   \n",
       "1150477  11504750  Female   28                1         36.0   \n",
       "1150478  11504756    Male   33                1         47.0   \n",
       "\n",
       "         Previously_Insured Vehicle_Age Vehicle_Damage  Annual_Premium  \\\n",
       "0                         0    1-2 Year            Yes         40659.0   \n",
       "1                         1    < 1 Year             No         23692.0   \n",
       "2                         1    1-2 Year             No         26928.0   \n",
       "3                         0    1-2 Year            Yes         42903.0   \n",
       "4                         0    1-2 Year            Yes          2630.0   \n",
       "...                     ...         ...            ...             ...   \n",
       "1150474                   0    1-2 Year            Yes         28887.0   \n",
       "1150475                   1    1-2 Year             No         39470.0   \n",
       "1150476                   0    1-2 Year            Yes         34870.0   \n",
       "1150477                   0    < 1 Year             No         36303.0   \n",
       "1150478                   1    < 1 Year             No         36660.0   \n",
       "\n",
       "         Policy_Sales_Channel  Vintage  Response  \n",
       "0                        26.0      262         1  \n",
       "1                       152.0      245         0  \n",
       "2                        26.0      262         0  \n",
       "3                        26.0      110         0  \n",
       "4                        26.0       81         0  \n",
       "...                       ...      ...       ...  \n",
       "1150474                  91.0      183         0  \n",
       "1150475                  26.0      130         0  \n",
       "1150476                  26.0      288         0  \n",
       "1150477                 152.0      227         0  \n",
       "1150478                 152.0       28         0  \n",
       "\n",
       "[1150479 rows x 12 columns]"
      ],
      "text/html": [
       "<div>\n",
       "<style scoped>\n",
       "    .dataframe tbody tr th:only-of-type {\n",
       "        vertical-align: middle;\n",
       "    }\n",
       "\n",
       "    .dataframe tbody tr th {\n",
       "        vertical-align: top;\n",
       "    }\n",
       "\n",
       "    .dataframe thead th {\n",
       "        text-align: right;\n",
       "    }\n",
       "</style>\n",
       "<table border=\"1\" class=\"dataframe\">\n",
       "  <thead>\n",
       "    <tr style=\"text-align: right;\">\n",
       "      <th></th>\n",
       "      <th>id</th>\n",
       "      <th>Gender</th>\n",
       "      <th>Age</th>\n",
       "      <th>Driving_License</th>\n",
       "      <th>Region_Code</th>\n",
       "      <th>Previously_Insured</th>\n",
       "      <th>Vehicle_Age</th>\n",
       "      <th>Vehicle_Damage</th>\n",
       "      <th>Annual_Premium</th>\n",
       "      <th>Policy_Sales_Channel</th>\n",
       "      <th>Vintage</th>\n",
       "      <th>Response</th>\n",
       "    </tr>\n",
       "  </thead>\n",
       "  <tbody>\n",
       "    <tr>\n",
       "      <th>0</th>\n",
       "      <td>7</td>\n",
       "      <td>Female</td>\n",
       "      <td>47</td>\n",
       "      <td>1</td>\n",
       "      <td>8.0</td>\n",
       "      <td>0</td>\n",
       "      <td>1-2 Year</td>\n",
       "      <td>Yes</td>\n",
       "      <td>40659.0</td>\n",
       "      <td>26.0</td>\n",
       "      <td>262</td>\n",
       "      <td>1</td>\n",
       "    </tr>\n",
       "    <tr>\n",
       "      <th>1</th>\n",
       "      <td>14</td>\n",
       "      <td>Female</td>\n",
       "      <td>24</td>\n",
       "      <td>1</td>\n",
       "      <td>12.0</td>\n",
       "      <td>1</td>\n",
       "      <td>&lt; 1 Year</td>\n",
       "      <td>No</td>\n",
       "      <td>23692.0</td>\n",
       "      <td>152.0</td>\n",
       "      <td>245</td>\n",
       "      <td>0</td>\n",
       "    </tr>\n",
       "    <tr>\n",
       "      <th>2</th>\n",
       "      <td>75</td>\n",
       "      <td>Female</td>\n",
       "      <td>46</td>\n",
       "      <td>1</td>\n",
       "      <td>33.0</td>\n",
       "      <td>1</td>\n",
       "      <td>1-2 Year</td>\n",
       "      <td>No</td>\n",
       "      <td>26928.0</td>\n",
       "      <td>26.0</td>\n",
       "      <td>262</td>\n",
       "      <td>0</td>\n",
       "    </tr>\n",
       "    <tr>\n",
       "      <th>3</th>\n",
       "      <td>101</td>\n",
       "      <td>Female</td>\n",
       "      <td>40</td>\n",
       "      <td>1</td>\n",
       "      <td>28.0</td>\n",
       "      <td>0</td>\n",
       "      <td>1-2 Year</td>\n",
       "      <td>Yes</td>\n",
       "      <td>42903.0</td>\n",
       "      <td>26.0</td>\n",
       "      <td>110</td>\n",
       "      <td>0</td>\n",
       "    </tr>\n",
       "    <tr>\n",
       "      <th>4</th>\n",
       "      <td>112</td>\n",
       "      <td>Female</td>\n",
       "      <td>49</td>\n",
       "      <td>1</td>\n",
       "      <td>18.0</td>\n",
       "      <td>0</td>\n",
       "      <td>1-2 Year</td>\n",
       "      <td>Yes</td>\n",
       "      <td>2630.0</td>\n",
       "      <td>26.0</td>\n",
       "      <td>81</td>\n",
       "      <td>0</td>\n",
       "    </tr>\n",
       "    <tr>\n",
       "      <th>...</th>\n",
       "      <td>...</td>\n",
       "      <td>...</td>\n",
       "      <td>...</td>\n",
       "      <td>...</td>\n",
       "      <td>...</td>\n",
       "      <td>...</td>\n",
       "      <td>...</td>\n",
       "      <td>...</td>\n",
       "      <td>...</td>\n",
       "      <td>...</td>\n",
       "      <td>...</td>\n",
       "      <td>...</td>\n",
       "    </tr>\n",
       "    <tr>\n",
       "      <th>1150474</th>\n",
       "      <td>11504740</td>\n",
       "      <td>Male</td>\n",
       "      <td>39</td>\n",
       "      <td>1</td>\n",
       "      <td>46.0</td>\n",
       "      <td>0</td>\n",
       "      <td>1-2 Year</td>\n",
       "      <td>Yes</td>\n",
       "      <td>28887.0</td>\n",
       "      <td>91.0</td>\n",
       "      <td>183</td>\n",
       "      <td>0</td>\n",
       "    </tr>\n",
       "    <tr>\n",
       "      <th>1150475</th>\n",
       "      <td>11504742</td>\n",
       "      <td>Male</td>\n",
       "      <td>61</td>\n",
       "      <td>1</td>\n",
       "      <td>28.0</td>\n",
       "      <td>1</td>\n",
       "      <td>1-2 Year</td>\n",
       "      <td>No</td>\n",
       "      <td>39470.0</td>\n",
       "      <td>26.0</td>\n",
       "      <td>130</td>\n",
       "      <td>0</td>\n",
       "    </tr>\n",
       "    <tr>\n",
       "      <th>1150476</th>\n",
       "      <td>11504748</td>\n",
       "      <td>Male</td>\n",
       "      <td>63</td>\n",
       "      <td>1</td>\n",
       "      <td>19.0</td>\n",
       "      <td>0</td>\n",
       "      <td>1-2 Year</td>\n",
       "      <td>Yes</td>\n",
       "      <td>34870.0</td>\n",
       "      <td>26.0</td>\n",
       "      <td>288</td>\n",
       "      <td>0</td>\n",
       "    </tr>\n",
       "    <tr>\n",
       "      <th>1150477</th>\n",
       "      <td>11504750</td>\n",
       "      <td>Female</td>\n",
       "      <td>28</td>\n",
       "      <td>1</td>\n",
       "      <td>36.0</td>\n",
       "      <td>0</td>\n",
       "      <td>&lt; 1 Year</td>\n",
       "      <td>No</td>\n",
       "      <td>36303.0</td>\n",
       "      <td>152.0</td>\n",
       "      <td>227</td>\n",
       "      <td>0</td>\n",
       "    </tr>\n",
       "    <tr>\n",
       "      <th>1150478</th>\n",
       "      <td>11504756</td>\n",
       "      <td>Male</td>\n",
       "      <td>33</td>\n",
       "      <td>1</td>\n",
       "      <td>47.0</td>\n",
       "      <td>1</td>\n",
       "      <td>&lt; 1 Year</td>\n",
       "      <td>No</td>\n",
       "      <td>36660.0</td>\n",
       "      <td>152.0</td>\n",
       "      <td>28</td>\n",
       "      <td>0</td>\n",
       "    </tr>\n",
       "  </tbody>\n",
       "</table>\n",
       "<p>1150479 rows × 12 columns</p>\n",
       "</div>"
      ]
     },
     "execution_count": 38,
     "metadata": {},
     "output_type": "execute_result"
    }
   ],
   "execution_count": 38
  },
  {
   "metadata": {
    "ExecuteTime": {
     "end_time": "2024-07-31T00:50:55.338989Z",
     "start_time": "2024-07-31T00:50:55.287179Z"
    }
   },
   "cell_type": "code",
   "source": "train.info()",
   "id": "7e51d62d8c903a02",
   "outputs": [
    {
     "name": "stdout",
     "output_type": "stream",
     "text": [
      "<class 'pandas.core.frame.DataFrame'>\n",
      "RangeIndex: 11504798 entries, 0 to 11504797\n",
      "Data columns (total 12 columns):\n",
      " #   Column                Dtype  \n",
      "---  ------                -----  \n",
      " 0   id                    int64  \n",
      " 1   Gender                object \n",
      " 2   Age                   int64  \n",
      " 3   Driving_License       int64  \n",
      " 4   Region_Code           float64\n",
      " 5   Previously_Insured    int64  \n",
      " 6   Vehicle_Age           object \n",
      " 7   Vehicle_Damage        object \n",
      " 8   Annual_Premium        float64\n",
      " 9   Policy_Sales_Channel  float64\n",
      " 10  Vintage               int64  \n",
      " 11  Response              int64  \n",
      "dtypes: float64(3), int64(6), object(3)\n",
      "memory usage: 1.0+ GB\n"
     ]
    }
   ],
   "execution_count": 39
  },
  {
   "metadata": {},
   "cell_type": "markdown",
   "source": " # Reduce Memory",
   "id": "dc122fb1be708190"
  },
  {
   "metadata": {},
   "cell_type": "markdown",
   "source": "To reduce memory load we'll change some column types to more memory-friendly formats. ",
   "id": "939a794bef4c7c8a"
  },
  {
   "metadata": {
    "ExecuteTime": {
     "end_time": "2024-07-31T00:51:03.248300Z",
     "start_time": "2024-07-31T00:50:55.343149Z"
    }
   },
   "cell_type": "code",
   "source": [
    "# drop id\n",
    "train = train.drop('id', axis = 1)\n",
    "\n",
    "# convert obj to cat\n",
    "categorical = [\"Region_Code\", \"Policy_Sales_Channel\", \"Gender\", \"Vehicle_Damage\", \"Vehicle_Age\"]\n",
    "train[[\"Region_Code\", \"Policy_Sales_Channel\"]] = train[[\"Region_Code\", \"Policy_Sales_Channel\"]].astype('int32')\n",
    "train[categorical] = train[categorical].astype(\"category\")\n",
    "\n",
    "# train sample\n",
    "train[[\"Region_Code\", \"Policy_Sales_Channel\"]] = train[[\"Region_Code\", \"Policy_Sales_Channel\"]].astype('int32')\n",
    "train[categorical] = train[categorical].astype(\"category\")\n",
    "\n",
    "# convert numerics into int 32 \n",
    "\n",
    "import numpy as np\n",
    "# integer\n",
    "d = dict.fromkeys(train.select_dtypes(np.int64).columns, np.int32)\n",
    "train = train.astype(d)\n",
    "\n",
    "# float\n",
    "d2 = dict.fromkeys(train.select_dtypes(np.float64).columns, np.int32)\n",
    "train = train.astype(d2)"
   ],
   "id": "5564678fce98f394",
   "outputs": [],
   "execution_count": 40
  },
  {
   "metadata": {},
   "cell_type": "markdown",
   "source": "## Sample",
   "id": "3b20af278f733276"
  },
  {
   "metadata": {
    "ExecuteTime": {
     "end_time": "2024-07-31T00:51:03.878833Z",
     "start_time": "2024-07-31T00:51:03.252048Z"
    }
   },
   "cell_type": "code",
   "source": [
    "train_sample = train_sample.drop('id', axis = 1)\n",
    "\n",
    "# convert obj to cat\n",
    "train_sample[[\"Region_Code\", \"Policy_Sales_Channel\"]] = train_sample[[\"Region_Code\", \"Policy_Sales_Channel\"]].astype('int64')\n",
    "train_sample[categorical] = train_sample[categorical].astype(\"category\")\n",
    "\n",
    "# train_sample sample\n",
    "train_sample[[\"Region_Code\", \"Policy_Sales_Channel\"]] = train_sample[[\"Region_Code\", \"Policy_Sales_Channel\"]].astype('int64')\n",
    "train_sample[categorical] = train_sample[categorical].astype(\"category\")\n",
    "\n",
    "# convert numerics into int 32 \n",
    "\n",
    "import numpy as np\n",
    "# integer\n",
    "d = dict.fromkeys(train_sample.select_dtypes(np.int64).columns, np.int64)\n",
    "train_sample = train_sample.astype(d)\n",
    "\n",
    "# float\n",
    "d2 = dict.fromkeys(train_sample.select_dtypes(np.float64).columns, np.int64)\n",
    "train_sample = train_sample.astype(d2)\n"
   ],
   "id": "20e27bd6950372fd",
   "outputs": [],
   "execution_count": 41
  },
  {
   "metadata": {},
   "cell_type": "markdown",
   "source": "# Split",
   "id": "9172269f5b1c1d82"
  },
  {
   "metadata": {
    "ExecuteTime": {
     "end_time": "2024-07-31T00:51:12.212640Z",
     "start_time": "2024-07-31T00:51:03.881761Z"
    }
   },
   "cell_type": "code",
   "source": [
    "from sklearn.model_selection import train_test_split\n",
    "X = train.drop(\"Response\", axis = 1)\n",
    "y = train[\"Response\"]\n",
    "\n",
    "\n",
    "X_train, X_val, y_train, y_val = train_test_split(X,y,\n",
    "                                                    test_size = 0.2,\n",
    "                                                    random_state = 42,\n",
    "                                                    stratify = y)"
   ],
   "id": "2e754827e1aa7331",
   "outputs": [],
   "execution_count": 42
  },
  {
   "metadata": {},
   "cell_type": "markdown",
   "source": "## Sample",
   "id": "37e090ed557f3bd"
  },
  {
   "metadata": {
    "ExecuteTime": {
     "end_time": "2024-07-31T00:51:12.876109Z",
     "start_time": "2024-07-31T00:51:12.214336Z"
    }
   },
   "cell_type": "code",
   "source": [
    "Xs = train_sample.drop(\"Response\", axis = 1)\n",
    "ys = train_sample[\"Response\"]\n",
    "\n",
    "\n",
    "Xs_train, Xs_val, ys_train, ys_val = train_test_split(Xs,ys,\n",
    "                                                    test_size = 0.2,\n",
    "                                                    random_state = 42,\n",
    "                                                    stratify = ys)"
   ],
   "id": "a2a67dd5c67bdb7c",
   "outputs": [],
   "execution_count": 43
  },
  {
   "metadata": {},
   "cell_type": "markdown",
   "source": "",
   "id": "3ff0460cddd310a1"
  },
  {
   "metadata": {},
   "cell_type": "markdown",
   "source": "# Preprocessing",
   "id": "e090cae65b8cf5de"
  },
  {
   "metadata": {},
   "cell_type": "markdown",
   "source": "## Column groups",
   "id": "3d1d84f73af1e1f3"
  },
  {
   "metadata": {
    "ExecuteTime": {
     "end_time": "2024-07-31T00:51:12.943591Z",
     "start_time": "2024-07-31T00:51:12.879615Z"
    }
   },
   "cell_type": "code",
   "source": [
    "unique_values = Xs_train.select_dtypes(include = ['object', 'category']).nunique()\n",
    "\n",
    "binary_cat = unique_values.index[unique_values == 2].tolist()\n",
    "ordinal_cat = [\"Vehicle_Age\"]\n",
    "target_cat = unique_values.index[unique_values > 20].tolist()\n",
    "categorical = Xs_train.select_dtypes(include = ['object', 'category']).columns.values.tolist()\n",
    "categorical.remove(\"Vehicle_Age\")\n",
    "nominal_cat = list(set(categorical).difference(binary_cat))\n",
    "\n",
    "vehicle_age_categories = ['< 1 Year', '1-2 Year', '> 2 Years']\n",
    "\n",
    "# numerical transformer\n",
    "num_col = ['Age','Annual_Premium','Vintage']\n"
   ],
   "id": "d0b5a877316369f3",
   "outputs": [],
   "execution_count": 44
  },
  {
   "metadata": {},
   "cell_type": "markdown",
   "source": "## Encoders",
   "id": "3bc3cfc852c8a1c1"
  },
  {
   "metadata": {
    "ExecuteTime": {
     "end_time": "2024-07-31T00:51:12.965259Z",
     "start_time": "2024-07-31T00:51:12.946854Z"
    }
   },
   "cell_type": "code",
   "source": [
    "from sklearn.preprocessing import OrdinalEncoder\n",
    "from sklearn.pipeline import Pipeline\n",
    "from sklearn.preprocessing import OneHotEncoder\n",
    "from sklearn.preprocessing import StandardScaler\n",
    "from category_encoders import TargetEncoder\n",
    "from category_encoders import BinaryEncoder\n",
    "\n",
    "# ordinal encoder\n",
    "ordinal = Pipeline(steps=[\n",
    "    (\"ordinal\", OrdinalEncoder(categories=[['< 1 Year', '1-2 Year', '> 2 Years']])),\n",
    "])\n",
    "# target encoder\n",
    "target = Pipeline(steps=[\n",
    "    (\"target\", TargetEncoder()),\n",
    "])\n",
    "\n",
    "# ohe encoder\n",
    "ohe  = Pipeline(steps=[\n",
    "    (\"ohe\", OneHotEncoder(handle_unknown= 'ignore')),\n",
    "])\n",
    "\n",
    "# dummy encoder\n",
    "binary = Pipeline(steps=[\n",
    "    (\"dummy\",BinaryEncoder()),\n",
    "])\n",
    "\n",
    "num_pipe = Pipeline(steps=[\n",
    "    (\"standardize\", StandardScaler()) # standardize\n",
    "])\n"
   ],
   "id": "30bba746308d34b4",
   "outputs": [],
   "execution_count": 45
  },
  {
   "metadata": {},
   "cell_type": "markdown",
   "source": "## Preprocessing pipe",
   "id": "44ed9ee7690a8ea5"
  },
  {
   "metadata": {
    "ExecuteTime": {
     "end_time": "2024-07-31T00:51:12.975629Z",
     "start_time": "2024-07-31T00:51:12.967214Z"
    }
   },
   "cell_type": "code",
   "source": [
    "from sklearn.compose import ColumnTransformer\n",
    "\n",
    "default = ColumnTransformer(\n",
    "    transformers=[\n",
    "        (\"ord\", ordinal, ordinal_cat),\n",
    "        (\"dummy\", binary, binary_cat),\n",
    "        (\"num\", num_pipe, num_col),\n",
    "        (\"target\",target, nominal_cat)\n",
    "    ],\n",
    "    remainder = \"passthrough\"\n",
    "    \n",
    ")"
   ],
   "id": "3d1a6dd95ca0233",
   "outputs": [],
   "execution_count": 46
  },
  {
   "metadata": {
    "ExecuteTime": {
     "end_time": "2024-07-31T00:51:13.078705Z",
     "start_time": "2024-07-31T00:51:12.982536Z"
    }
   },
   "cell_type": "code",
   "source": [
    "from sklearn.ensemble import RandomForestClassifier\n",
    "\n",
    "rf = RandomForestClassifier(verbose = 2, n_jobs = -1, random_state = 42,class_weight = \"balanced_subsample\") \n",
    "\n",
    "default_rf = Pipeline(steps=[\n",
    "          ('column_tran',default),\n",
    "          ('model',rf)\n",
    "     ])"
   ],
   "id": "5f3d34073b1371b9",
   "outputs": [],
   "execution_count": 47
  },
  {
   "metadata": {
    "ExecuteTime": {
     "end_time": "2024-07-31T00:52:55.443934Z",
     "start_time": "2024-07-31T00:51:13.080486Z"
    }
   },
   "cell_type": "code",
   "source": [
    "default_rf.fit(Xs_train, ys_train)\n",
    "pred_default_rf = default_rf.predict(Xs_val)"
   ],
   "id": "d0029de1dd598c5b",
   "outputs": [
    {
     "name": "stderr",
     "output_type": "stream",
     "text": [
      "/Library/Frameworks/Python.framework/Versions/3.10/lib/python3.10/site-packages/category_encoders/ordinal.py:198: FutureWarning: Downcasting object dtype arrays on .fillna, .ffill, .bfill is deprecated and will change in a future version. Call result.infer_objects(copy=False) instead. To opt-in to the future behavior, set `pd.set_option('future.no_silent_downcasting', True)`\n",
      "  X[column] = X[column].astype(\"object\").fillna(np.nan).map(col_mapping)\n",
      "/Library/Frameworks/Python.framework/Versions/3.10/lib/python3.10/site-packages/category_encoders/ordinal.py:198: FutureWarning: Downcasting object dtype arrays on .fillna, .ffill, .bfill is deprecated and will change in a future version. Call result.infer_objects(copy=False) instead. To opt-in to the future behavior, set `pd.set_option('future.no_silent_downcasting', True)`\n",
      "  X[column] = X[column].astype(\"object\").fillna(np.nan).map(col_mapping)\n",
      "/Library/Frameworks/Python.framework/Versions/3.10/lib/python3.10/site-packages/category_encoders/ordinal.py:198: FutureWarning: Downcasting object dtype arrays on .fillna, .ffill, .bfill is deprecated and will change in a future version. Call result.infer_objects(copy=False) instead. To opt-in to the future behavior, set `pd.set_option('future.no_silent_downcasting', True)`\n",
      "  X[column] = X[column].astype(\"object\").fillna(np.nan).map(col_mapping)\n",
      "/Library/Frameworks/Python.framework/Versions/3.10/lib/python3.10/site-packages/category_encoders/ordinal.py:198: FutureWarning: Downcasting object dtype arrays on .fillna, .ffill, .bfill is deprecated and will change in a future version. Call result.infer_objects(copy=False) instead. To opt-in to the future behavior, set `pd.set_option('future.no_silent_downcasting', True)`\n",
      "  X[column] = X[column].astype(\"object\").fillna(np.nan).map(col_mapping)\n",
      "/Library/Frameworks/Python.framework/Versions/3.10/lib/python3.10/site-packages/category_encoders/ordinal.py:198: FutureWarning: Downcasting object dtype arrays on .fillna, .ffill, .bfill is deprecated and will change in a future version. Call result.infer_objects(copy=False) instead. To opt-in to the future behavior, set `pd.set_option('future.no_silent_downcasting', True)`\n",
      "  X[column] = X[column].astype(\"object\").fillna(np.nan).map(col_mapping)\n",
      "/Library/Frameworks/Python.framework/Versions/3.10/lib/python3.10/site-packages/category_encoders/ordinal.py:198: FutureWarning: Downcasting object dtype arrays on .fillna, .ffill, .bfill is deprecated and will change in a future version. Call result.infer_objects(copy=False) instead. To opt-in to the future behavior, set `pd.set_option('future.no_silent_downcasting', True)`\n",
      "  X[column] = X[column].astype(\"object\").fillna(np.nan).map(col_mapping)\n",
      "/Library/Frameworks/Python.framework/Versions/3.10/lib/python3.10/site-packages/category_encoders/ordinal.py:198: FutureWarning: Downcasting object dtype arrays on .fillna, .ffill, .bfill is deprecated and will change in a future version. Call result.infer_objects(copy=False) instead. To opt-in to the future behavior, set `pd.set_option('future.no_silent_downcasting', True)`\n",
      "  X[column] = X[column].astype(\"object\").fillna(np.nan).map(col_mapping)\n",
      "/Library/Frameworks/Python.framework/Versions/3.10/lib/python3.10/site-packages/category_encoders/ordinal.py:198: FutureWarning: Downcasting object dtype arrays on .fillna, .ffill, .bfill is deprecated and will change in a future version. Call result.infer_objects(copy=False) instead. To opt-in to the future behavior, set `pd.set_option('future.no_silent_downcasting', True)`\n",
      "  X[column] = X[column].astype(\"object\").fillna(np.nan).map(col_mapping)\n",
      "[Parallel(n_jobs=-1)]: Using backend ThreadingBackend with 8 concurrent workers.\n"
     ]
    },
    {
     "name": "stdout",
     "output_type": "stream",
     "text": [
      "building tree 1 of 100building tree 2 of 100\n",
      "building tree 3 of 100\n",
      "building tree 4 of 100\n",
      "\n",
      "building tree 5 of 100\n",
      "building tree 6 of 100\n",
      "building tree 7 of 100\n",
      "building tree 8 of 100\n",
      "building tree 9 of 100\n",
      "building tree 10 of 100\n",
      "building tree 11 of 100\n",
      "building tree 12 of 100\n",
      "building tree 13 of 100\n",
      "building tree 14 of 100building tree 15 of 100\n",
      "building tree 16 of 100\n",
      "\n",
      "building tree 17 of 100\n",
      "building tree 18 of 100\n",
      "building tree 19 of 100\n",
      "building tree 20 of 100\n",
      "building tree 21 of 100\n",
      "building tree 22 of 100building tree 23 of 100\n",
      "\n",
      "building tree 24 of 100\n",
      "building tree 25 of 100\n",
      "building tree 26 of 100\n",
      "building tree 27 of 100building tree 28 of 100\n",
      "building tree 29 of 100\n",
      "building tree 30 of 100\n",
      "\n",
      "building tree 31 of 100\n",
      "building tree 32 of 100\n",
      "building tree 33 of 100\n"
     ]
    },
    {
     "name": "stderr",
     "output_type": "stream",
     "text": [
      "[Parallel(n_jobs=-1)]: Done  25 tasks      | elapsed:   29.0s\n"
     ]
    },
    {
     "name": "stdout",
     "output_type": "stream",
     "text": [
      "building tree 34 of 100building tree 35 of 100\n",
      "\n",
      "building tree 36 of 100\n",
      "building tree 37 of 100\n",
      "building tree 38 of 100\n",
      "building tree 39 of 100\n",
      "building tree 40 of 100\n",
      "building tree 41 of 100\n",
      "building tree 42 of 100\n",
      "building tree 43 of 100\n",
      "building tree 44 of 100\n",
      "building tree 45 of 100\n",
      "building tree 46 of 100\n",
      "building tree 47 of 100\n",
      "building tree 48 of 100\n",
      "building tree 49 of 100\n",
      "building tree 50 of 100\n",
      "building tree 51 of 100\n",
      "building tree 52 of 100\n",
      "building tree 53 of 100\n",
      "building tree 54 of 100\n",
      "building tree 55 of 100\n",
      "building tree 56 of 100\n",
      "building tree 57 of 100\n",
      "building tree 58 of 100\n",
      "building tree 59 of 100\n",
      "building tree 60 of 100\n",
      "building tree 61 of 100\n",
      "building tree 62 of 100\n",
      "building tree 63 of 100\n",
      "building tree 64 of 100\n",
      "building tree 65 of 100\n",
      "building tree 66 of 100\n",
      "building tree 67 of 100\n",
      "building tree 68 of 100building tree 69 of 100\n",
      "\n",
      "building tree 70 of 100\n",
      "building tree 71 of 100\n",
      "building tree 72 of 100\n",
      "building tree 73 of 100\n",
      "building tree 74 of 100\n",
      "building tree 75 of 100\n",
      "building tree 76 of 100\n",
      "building tree 77 of 100\n",
      "building tree 78 of 100\n",
      "building tree 79 of 100\n",
      "building tree 80 of 100\n",
      "building tree 81 of 100\n",
      "building tree 82 of 100\n",
      "building tree 83 of 100\n",
      "building tree 84 of 100\n",
      "building tree 85 of 100\n",
      "building tree 86 of 100\n",
      "building tree 87 of 100\n",
      "building tree 88 of 100\n",
      "building tree 89 of 100\n",
      "building tree 90 of 100\n",
      "building tree 91 of 100\n",
      "building tree 92 of 100\n",
      "building tree 93 of 100building tree 94 of 100\n",
      "building tree 95 of 100\n",
      "building tree 96 of 100\n",
      "\n",
      "building tree 97 of 100\n",
      "building tree 98 of 100\n",
      "building tree 99 of 100\n",
      "building tree 100 of 100\n"
     ]
    },
    {
     "name": "stderr",
     "output_type": "stream",
     "text": [
      "[Parallel(n_jobs=-1)]: Done 100 out of 100 | elapsed:  1.6min finished\n",
      "/Library/Frameworks/Python.framework/Versions/3.10/lib/python3.10/site-packages/category_encoders/ordinal.py:198: FutureWarning: Downcasting object dtype arrays on .fillna, .ffill, .bfill is deprecated and will change in a future version. Call result.infer_objects(copy=False) instead. To opt-in to the future behavior, set `pd.set_option('future.no_silent_downcasting', True)`\n",
      "  X[column] = X[column].astype(\"object\").fillna(np.nan).map(col_mapping)\n",
      "/Library/Frameworks/Python.framework/Versions/3.10/lib/python3.10/site-packages/category_encoders/ordinal.py:198: FutureWarning: Downcasting object dtype arrays on .fillna, .ffill, .bfill is deprecated and will change in a future version. Call result.infer_objects(copy=False) instead. To opt-in to the future behavior, set `pd.set_option('future.no_silent_downcasting', True)`\n",
      "  X[column] = X[column].astype(\"object\").fillna(np.nan).map(col_mapping)\n",
      "[Parallel(n_jobs=8)]: Using backend ThreadingBackend with 8 concurrent workers.\n",
      "[Parallel(n_jobs=8)]: Done  25 tasks      | elapsed:    1.1s\n",
      "[Parallel(n_jobs=8)]: Done 100 out of 100 | elapsed:    3.9s finished\n"
     ]
    }
   ],
   "execution_count": 48
  },
  {
   "metadata": {},
   "cell_type": "markdown",
   "source": "# Default model",
   "id": "a2842032274fb180"
  },
  {
   "metadata": {},
   "cell_type": "markdown",
   "source": "## Performance",
   "id": "47f4d7b30fd90b1"
  },
  {
   "metadata": {
    "ExecuteTime": {
     "end_time": "2024-07-31T01:54:26.420045Z",
     "start_time": "2024-07-31T01:54:26.155008Z"
    }
   },
   "cell_type": "code",
   "source": [
    "from sklearn.metrics import precision_score,accuracy_score,recall_score,f1_score, roc_auc_score\n",
    "def return_eval(pred, eval):\n",
    "    acc = accuracy_score(eval,pred)\n",
    "    ps = precision_score(eval, pred)\n",
    "    rec = recall_score(eval,pred)\n",
    "    f1 = f1_score(eval, pred)\n",
    "    auc = roc_auc_score(eval, pred)\n",
    "    return acc , ps ,rec, f1, auc\n",
    "default_metric = return_eval(pred_default_rf, ys_val)\n",
    "default_metric"
   ],
   "id": "1724e672b36adeb0",
   "outputs": [
    {
     "data": {
      "text/plain": [
       "(0.8681333008831097,\n",
       " 0.3995709828393136,\n",
       " 0.14489781486457817,\n",
       " 0.21267320566713374,\n",
       " 0.5571922849977702)"
      ]
     },
     "execution_count": 81,
     "metadata": {},
     "output_type": "execute_result"
    }
   ],
   "execution_count": 81
  },
  {
   "metadata": {
    "ExecuteTime": {
     "end_time": "2024-07-31T00:52:56.021312Z",
     "start_time": "2024-07-31T00:52:56.009385Z"
    }
   },
   "cell_type": "code",
   "source": "default_rf['model'].get_params()",
   "id": "3aa0e0eba79ab9cf",
   "outputs": [
    {
     "data": {
      "text/plain": [
       "{'bootstrap': True,\n",
       " 'ccp_alpha': 0.0,\n",
       " 'class_weight': 'balanced_subsample',\n",
       " 'criterion': 'gini',\n",
       " 'max_depth': None,\n",
       " 'max_features': 'sqrt',\n",
       " 'max_leaf_nodes': None,\n",
       " 'max_samples': None,\n",
       " 'min_impurity_decrease': 0.0,\n",
       " 'min_samples_leaf': 1,\n",
       " 'min_samples_split': 2,\n",
       " 'min_weight_fraction_leaf': 0.0,\n",
       " 'monotonic_cst': None,\n",
       " 'n_estimators': 100,\n",
       " 'n_jobs': -1,\n",
       " 'oob_score': False,\n",
       " 'random_state': 42,\n",
       " 'verbose': 2,\n",
       " 'warm_start': False}"
      ]
     },
     "execution_count": 50,
     "metadata": {},
     "output_type": "execute_result"
    }
   ],
   "execution_count": 50
  },
  {
   "metadata": {},
   "cell_type": "markdown",
   "source": "Our default random forest has a 86.7% accuracy, a little lower than our naive model run. Looking back, I believe that both nominal variables (Policy_Sales_Channel, Region_Code) were both ignored in the previous notebook. This performance difference is likely due to our explicit target-encoding of these two variables. Let's look at other details of the default.",
   "id": "8308d04f60d40e52"
  },
  {
   "metadata": {},
   "cell_type": "markdown",
   "source": "## Depth",
   "id": "1db8b21e314991f6"
  },
  {
   "metadata": {
    "ExecuteTime": {
     "end_time": "2024-07-31T00:52:56.935232Z",
     "start_time": "2024-07-31T00:52:56.023770Z"
    }
   },
   "cell_type": "code",
   "source": [
    "max_depth = list()\n",
    "\n",
    "for tree in default_rf['model'].estimators_:\n",
    "    max_depth.append(tree.tree_.max_depth)\n",
    "\n",
    "print(\"avg max depth %0.1f\" % (sum(max_depth) / len(max_depth)))\n",
    "\n",
    "import seaborn as sns\n",
    "sns.histplot(data = max_depth)"
   ],
   "id": "e6ec3012ee6b7cbd",
   "outputs": [
    {
     "name": "stdout",
     "output_type": "stream",
     "text": [
      "avg max depth 63.3\n"
     ]
    },
    {
     "name": "stderr",
     "output_type": "stream",
     "text": [
      "/Library/Frameworks/Python.framework/Versions/3.10/lib/python3.10/site-packages/seaborn/_oldcore.py:1119: FutureWarning: use_inf_as_na option is deprecated and will be removed in a future version. Convert inf values to NaN before operating instead.\n",
      "  with pd.option_context('mode.use_inf_as_na', True):\n"
     ]
    },
    {
     "data": {
      "text/plain": [
       "<Axes: ylabel='Count'>"
      ]
     },
     "execution_count": 51,
     "metadata": {},
     "output_type": "execute_result"
    },
    {
     "data": {
      "text/plain": [
       "<Figure size 640x480 with 1 Axes>"
      ],
      "image/png": "[encoded data removed]"
     },
     "metadata": {},
     "output_type": "display_data"
    }
   ],
   "execution_count": 51
  },
  {
   "metadata": {
    "ExecuteTime": {
     "end_time": "2024-07-31T00:52:57.496078Z",
     "start_time": "2024-07-31T00:52:56.939418Z"
    }
   },
   "cell_type": "code",
   "source": [
    "import matplotlib.pyplot as plt\n",
    "from sklearn.metrics import RocCurveDisplay\n",
    "ax = plt.gca()\n",
    "rfc_disp = RocCurveDisplay.from_predictions(pred_default_rf, ys_val, ax=ax)\n",
    "plt.show()"
   ],
   "id": "3538cd7112852f4f",
   "outputs": [
    {
     "data": {
      "text/plain": [
       "<Figure size 640x480 with 1 Axes>"
      ],
      "image/png": "[encoded data removed]"
     },
     "metadata": {},
     "output_type": "display_data"
    }
   ],
   "execution_count": 52
  },
  {
   "metadata": {
    "ExecuteTime": {
     "end_time": "2024-07-31T00:52:57.638337Z",
     "start_time": "2024-07-31T00:52:57.500960Z"
    }
   },
   "cell_type": "code",
   "source": [
    "global_importances = pd.Series(default_rf['model'].feature_importances_, index=default_rf['column_tran'].get_feature_names_out())\n",
    "global_importances.reset_index()"
   ],
   "id": "34bef604e854e72a",
   "outputs": [
    {
     "data": {
      "text/plain": [
       "                            index         0\n",
       "0                ord__Vehicle_Age  0.021931\n",
       "1                 dummy__Gender_0  0.002485\n",
       "2                 dummy__Gender_1  0.002353\n",
       "3         dummy__Vehicle_Damage_0  0.107775\n",
       "4         dummy__Vehicle_Damage_1  0.123457\n",
       "5                        num__Age  0.112696\n",
       "6             num__Annual_Premium  0.179479\n",
       "7                    num__Vintage  0.188867\n",
       "8             target__Region_Code  0.073761\n",
       "9    target__Policy_Sales_Channel  0.087751\n",
       "10     remainder__Driving_License  0.000563\n",
       "11  remainder__Previously_Insured  0.098883"
      ],
      "text/html": [
       "<div>\n",
       "<style scoped>\n",
       "    .dataframe tbody tr th:only-of-type {\n",
       "        vertical-align: middle;\n",
       "    }\n",
       "\n",
       "    .dataframe tbody tr th {\n",
       "        vertical-align: top;\n",
       "    }\n",
       "\n",
       "    .dataframe thead th {\n",
       "        text-align: right;\n",
       "    }\n",
       "</style>\n",
       "<table border=\"1\" class=\"dataframe\">\n",
       "  <thead>\n",
       "    <tr style=\"text-align: right;\">\n",
       "      <th></th>\n",
       "      <th>index</th>\n",
       "      <th>0</th>\n",
       "    </tr>\n",
       "  </thead>\n",
       "  <tbody>\n",
       "    <tr>\n",
       "      <th>0</th>\n",
       "      <td>ord__Vehicle_Age</td>\n",
       "      <td>0.021931</td>\n",
       "    </tr>\n",
       "    <tr>\n",
       "      <th>1</th>\n",
       "      <td>dummy__Gender_0</td>\n",
       "      <td>0.002485</td>\n",
       "    </tr>\n",
       "    <tr>\n",
       "      <th>2</th>\n",
       "      <td>dummy__Gender_1</td>\n",
       "      <td>0.002353</td>\n",
       "    </tr>\n",
       "    <tr>\n",
       "      <th>3</th>\n",
       "      <td>dummy__Vehicle_Damage_0</td>\n",
       "      <td>0.107775</td>\n",
       "    </tr>\n",
       "    <tr>\n",
       "      <th>4</th>\n",
       "      <td>dummy__Vehicle_Damage_1</td>\n",
       "      <td>0.123457</td>\n",
       "    </tr>\n",
       "    <tr>\n",
       "      <th>5</th>\n",
       "      <td>num__Age</td>\n",
       "      <td>0.112696</td>\n",
       "    </tr>\n",
       "    <tr>\n",
       "      <th>6</th>\n",
       "      <td>num__Annual_Premium</td>\n",
       "      <td>0.179479</td>\n",
       "    </tr>\n",
       "    <tr>\n",
       "      <th>7</th>\n",
       "      <td>num__Vintage</td>\n",
       "      <td>0.188867</td>\n",
       "    </tr>\n",
       "    <tr>\n",
       "      <th>8</th>\n",
       "      <td>target__Region_Code</td>\n",
       "      <td>0.073761</td>\n",
       "    </tr>\n",
       "    <tr>\n",
       "      <th>9</th>\n",
       "      <td>target__Policy_Sales_Channel</td>\n",
       "      <td>0.087751</td>\n",
       "    </tr>\n",
       "    <tr>\n",
       "      <th>10</th>\n",
       "      <td>remainder__Driving_License</td>\n",
       "      <td>0.000563</td>\n",
       "    </tr>\n",
       "    <tr>\n",
       "      <th>11</th>\n",
       "      <td>remainder__Previously_Insured</td>\n",
       "      <td>0.098883</td>\n",
       "    </tr>\n",
       "  </tbody>\n",
       "</table>\n",
       "</div>"
      ]
     },
     "execution_count": 53,
     "metadata": {},
     "output_type": "execute_result"
    }
   ],
   "execution_count": 53
  },
  {
   "metadata": {
    "ExecuteTime": {
     "end_time": "2024-07-31T00:52:57.652111Z",
     "start_time": "2024-07-31T00:52:57.640384Z"
    }
   },
   "cell_type": "code",
   "source": "importance_df  =global_importances.reset_index().rename(columns = {0:'values'}).sort_values(by = 'values')",
   "id": "85fd9fa0c5fe6801",
   "outputs": [],
   "execution_count": 54
  },
  {
   "metadata": {
    "ExecuteTime": {
     "end_time": "2024-07-31T00:52:58.409257Z",
     "start_time": "2024-07-31T00:52:57.654628Z"
    }
   },
   "cell_type": "code",
   "source": [
    "importance_df.plot.barh(x = 'index', y = 'values', color=\"green\", edgecolor='green',legend=False)\n",
    "plt.title(\"Feature Importance\")\n",
    "plt.xlabel(\"Importance\", fontsize=13)\n",
    "plt.ylabel(\"Features\", fontsize=13)"
   ],
   "id": "d0bb82d14ed30e83",
   "outputs": [
    {
     "data": {
      "text/plain": [
       "Text(0, 0.5, 'Features')"
      ]
     },
     "execution_count": 55,
     "metadata": {},
     "output_type": "execute_result"
    },
    {
     "data": {
      "text/plain": [
       "<Figure size 640x480 with 1 Axes>"
      ],
      "image/png": "[encoded data removed]"
     },
     "metadata": {},
     "output_type": "display_data"
    }
   ],
   "execution_count": 55
  },
  {
   "metadata": {},
   "cell_type": "markdown",
   "source": "# Model tuning",
   "id": "deb9fcd91d4f8934"
  },
  {
   "metadata": {},
   "cell_type": "markdown",
   "source": [
    "Now that we have our baseline random forest model, let's try tuning a model and see if it does better! Hyperoptimization can be done in several ways, including but not limited to:\n",
    "- Grid search: We specify a finite set of values for each hyperparameter and the grid search evaluates a cartesian product of these values. The method is limited to the values we define and since the grid search evaluates all combinations, this method suffers from dimensionality of our hyperparameter space.\n",
    "- Random search: We also specify a finite set of values. However, random search will evaluate combinations, well, randomly until a stopping criteria is met. This is useful for trying out varying combinations of our hypothesized values to test what seems to work. This is typically be used to start an optimization process by finding promising values and then fine-tuning with a grid search around those initial values. \n",
    "- Bayesian Optimization: We define a range of hyperparameter values and this method uses a function to determine which combination to test each round. Specifically, we define an 'objective' function (eg accuracy) that is then approximated by Bayesian Optimizer as a probability model. This probability model is then used to estimate the next selections of hyperparameters values that yield the highest Expected Improvement. If you want to learn more about how this is done, you can check out Tree Parzen Estimators (TPE)(https://towardsdatascience.com/bayesian-optimization-concept-explained-in-layman-terms-1d2bcdeaf12f) and the (Hyperopt)[https://hyperopt.github.io/hyperopt/ ] documentation.\n",
    "\n"
   ],
   "id": "f42f3c3bb01d9d6"
  },
  {
   "metadata": {},
   "cell_type": "markdown",
   "source": "## Bayesian Optimization",
   "id": "41ee48c1227c4f87"
  },
  {
   "metadata": {},
   "cell_type": "markdown",
   "source": "For a brief taste of how hyperparameter tuning using bayesian optimization works, this code snippet below runs 10 trials to optimize accuracy with an early round stop of 3. Each trial tests a combination of pre-defined parameter `space` and produces a set of evaluation metric I have asked for (accuracy, precision, recall, auc, f1). However, this is just a snippet to allow replication. Hyperopt actually uses the first 20 rounds to \"warm up\" and it uses random combinations to test the parameter space. The real modeling requires tens, hundreds of rounds to really find optimizations. I have tested custom loss equations (accuracy + auc, recall + accuracy) and different number of evaluation trials (200, stopped at 70).",
   "id": "fc11953ca11a0244"
  },
  {
   "metadata": {
    "ExecuteTime": {
     "end_time": "2024-07-31T01:32:22.390305Z",
     "start_time": "2024-07-31T01:13:41.832239Z"
    }
   },
   "cell_type": "code",
   "source": [
    "from hyperopt import Trials, STATUS_OK, tpe, hp, fmin, STATUS_FAIL, space_eval\n",
    "from sklearn.model_selection import KFold, cross_val_score, train_test_split\n",
    "from hyperopt import hp, fmin, tpe, STATUS_OK, Trials\n",
    "from hyperopt.early_stop import no_progress_loss\n",
    "from sklearn.metrics import make_scorer, roc_auc_score\n",
    "from sklearn.model_selection import cross_validate, StratifiedKFold\n",
    "import numpy as np\n",
    "\n",
    "\n",
    "Xs_trans = default.transform(Xs_train)\n",
    "space = {'criterion': hp.choice('criterion', [ 'gini']),\n",
    "        'max_depth': hp.choice('max_depth', np.arange(20, 120,dtype=int)),\n",
    "        'max_features': hp.choice('max_features', ['sqrt','log2',0.25,.5,.75, None]),\n",
    "        'min_samples_leaf': hp.uniform ('min_samples_leaf', 0, 0.5),\n",
    "        'min_samples_split' : hp.uniform ('min_samples_split', 0, 1),\n",
    "        'n_estimators' : hp.choice('n_estimators', np.arange(100, 1000 ,dtype=int))\n",
    "    }\n",
    "\n",
    "def objective(space):\n",
    "    model = RandomForestClassifier(criterion = space['criterion'], \n",
    "                                   n_jobs = -1, random_state = 42,\n",
    "                                   class_weight = 'balanced_subsample',\n",
    "                                   max_depth = space['max_depth'],\n",
    "                                 max_features = space['max_features'],\n",
    "                                 min_samples_leaf = space['min_samples_leaf'],\n",
    "                                 min_samples_split = space['min_samples_split'],\n",
    "                                 n_estimators = space['n_estimators'], \n",
    "                                 )\n",
    "    cv = StratifiedKFold(n_splits=4)\n",
    "    scoring = {'prec_macro': 'precision_macro',\n",
    "               'accuracy': 'accuracy',\n",
    "               'rec_macro': 'recall_macro',\n",
    "               'auc':'roc_auc',\n",
    "               'f1_macro':'f1_macro'}\n",
    "    scores = cross_validate(model, Xs_trans, ys_train, scoring=scoring,\n",
    "                            cv=cv)\n",
    "    accuracy = scores['test_accuracy'].mean()\n",
    "    precision = scores['test_prec_macro'].mean()\n",
    "    recall = scores['test_rec_macro'].mean()\n",
    "    f1 = scores['test_f1_macro'].mean()\n",
    "    auc = scores['test_auc'].mean()\n",
    "    loss = -accuracy\n",
    "    \n",
    "    return {'loss': loss, 'status': STATUS_OK , 'accuracy': accuracy, 'precision': precision, 'recall': recall,'f1':f1,\n",
    "            'auc':auc}\n",
    "            \n",
    "    \n",
    "trials = Trials()\n",
    "best = fmin(fn= objective,\n",
    "            space= space,\n",
    "            algo= tpe.suggest,\n",
    "            max_evals = 10,\n",
    "            early_stop_fn=no_progress_loss(3),\n",
    "            trials= trials)"
   ],
   "id": "2aa08593f20e7037",
   "outputs": [
    {
     "name": "stderr",
     "output_type": "stream",
     "text": [
      "/Library/Frameworks/Python.framework/Versions/3.10/lib/python3.10/site-packages/category_encoders/ordinal.py:198: FutureWarning: Downcasting object dtype arrays on .fillna, .ffill, .bfill is deprecated and will change in a future version. Call result.infer_objects(copy=False) instead. To opt-in to the future behavior, set `pd.set_option('future.no_silent_downcasting', True)`\n",
      "  X[column] = X[column].astype(\"object\").fillna(np.nan).map(col_mapping)\n",
      "/Library/Frameworks/Python.framework/Versions/3.10/lib/python3.10/site-packages/category_encoders/ordinal.py:198: FutureWarning: Downcasting object dtype arrays on .fillna, .ffill, .bfill is deprecated and will change in a future version. Call result.infer_objects(copy=False) instead. To opt-in to the future behavior, set `pd.set_option('future.no_silent_downcasting', True)`\n",
      "  X[column] = X[column].astype(\"object\").fillna(np.nan).map(col_mapping)\n"
     ]
    },
    {
     "name": "stdout",
     "output_type": "stream",
     "text": [
      "  0%|          | 0/10 [00:00<?, ?trial/s, best loss=?]"
     ]
    },
    {
     "name": "stderr",
     "output_type": "stream",
     "text": [
      "/Library/Frameworks/Python.framework/Versions/3.10/lib/python3.10/site-packages/sklearn/metrics/_classification.py:1531: UndefinedMetricWarning: Precision is ill-defined and being set to 0.0 in labels with no predicted samples. Use `zero_division` parameter to control this behavior.\n",
      "  _warn_prf(average, modifier, f\"{metric.capitalize()} is\", len(result))\n",
      "\n",
      "/Library/Frameworks/Python.framework/Versions/3.10/lib/python3.10/site-packages/sklearn/metrics/_classification.py:1531: UndefinedMetricWarning: Precision is ill-defined and being set to 0.0 in labels with no predicted samples. Use `zero_division` parameter to control this behavior.\n",
      "  _warn_prf(average, modifier, f\"{metric.capitalize()} is\", len(result))\n",
      "\n",
      "/Library/Frameworks/Python.framework/Versions/3.10/lib/python3.10/site-packages/sklearn/metrics/_classification.py:1531: UndefinedMetricWarning: Precision is ill-defined and being set to 0.0 in labels with no predicted samples. Use `zero_division` parameter to control this behavior.\n",
      "  _warn_prf(average, modifier, f\"{metric.capitalize()} is\", len(result))\n",
      "\n",
      "/Library/Frameworks/Python.framework/Versions/3.10/lib/python3.10/site-packages/sklearn/metrics/_classification.py:1531: UndefinedMetricWarning: Precision is ill-defined and being set to 0.0 in labels with no predicted samples. Use `zero_division` parameter to control this behavior.\n",
      "  _warn_prf(average, modifier, f\"{metric.capitalize()} is\", len(result))\n",
      "\n"
     ]
    },
    {
     "name": "stdout",
     "output_type": "stream",
     "text": [
      " 10%|█         | 1/10 [02:06<18:54, 126.03s/trial, best loss: -0.6885420899430046]"
     ]
    },
    {
     "name": "stderr",
     "output_type": "stream",
     "text": [
      "/Library/Frameworks/Python.framework/Versions/3.10/lib/python3.10/site-packages/sklearn/metrics/_classification.py:1531: UndefinedMetricWarning: Precision is ill-defined and being set to 0.0 in labels with no predicted samples. Use `zero_division` parameter to control this behavior.\n",
      "  _warn_prf(average, modifier, f\"{metric.capitalize()} is\", len(result))\n",
      "\n",
      "/Library/Frameworks/Python.framework/Versions/3.10/lib/python3.10/site-packages/sklearn/metrics/_classification.py:1531: UndefinedMetricWarning: Precision is ill-defined and being set to 0.0 in labels with no predicted samples. Use `zero_division` parameter to control this behavior.\n",
      "  _warn_prf(average, modifier, f\"{metric.capitalize()} is\", len(result))\n",
      "\n",
      "/Library/Frameworks/Python.framework/Versions/3.10/lib/python3.10/site-packages/sklearn/metrics/_classification.py:1531: UndefinedMetricWarning: Precision is ill-defined and being set to 0.0 in labels with no predicted samples. Use `zero_division` parameter to control this behavior.\n",
      "  _warn_prf(average, modifier, f\"{metric.capitalize()} is\", len(result))\n",
      "\n",
      "/Library/Frameworks/Python.framework/Versions/3.10/lib/python3.10/site-packages/sklearn/metrics/_classification.py:1531: UndefinedMetricWarning: Precision is ill-defined and being set to 0.0 in labels with no predicted samples. Use `zero_division` parameter to control this behavior.\n",
      "  _warn_prf(average, modifier, f\"{metric.capitalize()} is\", len(result))\n",
      "\n"
     ]
    },
    {
     "name": "stdout",
     "output_type": "stream",
     "text": [
      " 30%|███       | 3/10 [11:26<30:04, 257.72s/trial, best loss: -0.8770870387684897]"
     ]
    },
    {
     "name": "stderr",
     "output_type": "stream",
     "text": [
      "/Library/Frameworks/Python.framework/Versions/3.10/lib/python3.10/site-packages/sklearn/metrics/_classification.py:1531: UndefinedMetricWarning: Precision is ill-defined and being set to 0.0 in labels with no predicted samples. Use `zero_division` parameter to control this behavior.\n",
      "  _warn_prf(average, modifier, f\"{metric.capitalize()} is\", len(result))\n",
      "\n",
      "/Library/Frameworks/Python.framework/Versions/3.10/lib/python3.10/site-packages/sklearn/metrics/_classification.py:1531: UndefinedMetricWarning: Precision is ill-defined and being set to 0.0 in labels with no predicted samples. Use `zero_division` parameter to control this behavior.\n",
      "  _warn_prf(average, modifier, f\"{metric.capitalize()} is\", len(result))\n",
      "\n",
      "/Library/Frameworks/Python.framework/Versions/3.10/lib/python3.10/site-packages/sklearn/metrics/_classification.py:1531: UndefinedMetricWarning: Precision is ill-defined and being set to 0.0 in labels with no predicted samples. Use `zero_division` parameter to control this behavior.\n",
      "  _warn_prf(average, modifier, f\"{metric.capitalize()} is\", len(result))\n",
      "\n",
      "/Library/Frameworks/Python.framework/Versions/3.10/lib/python3.10/site-packages/sklearn/metrics/_classification.py:1531: UndefinedMetricWarning: Precision is ill-defined and being set to 0.0 in labels with no predicted samples. Use `zero_division` parameter to control this behavior.\n",
      "  _warn_prf(average, modifier, f\"{metric.capitalize()} is\", len(result))\n",
      "\n"
     ]
    },
    {
     "name": "stdout",
     "output_type": "stream",
     "text": [
      " 50%|█████     | 5/10 [18:36<18:36, 223.22s/trial, best loss: -0.8770870387684897]\n"
     ]
    }
   ],
   "execution_count": 57
  },
  {
   "metadata": {
    "ExecuteTime": {
     "end_time": "2024-07-31T01:44:58.075240Z",
     "start_time": "2024-07-31T01:44:58.044495Z"
    }
   },
   "cell_type": "code",
   "source": "best",
   "id": "1c0ccab22c5a71fe",
   "outputs": [
    {
     "data": {
      "text/plain": [
       "{'criterion': 0,\n",
       " 'max_depth': 67,\n",
       " 'max_features': 2,\n",
       " 'min_samples_leaf': 0.37586589603181564,\n",
       " 'min_samples_split': 0.9939426378037503,\n",
       " 'n_estimators': 374}"
      ]
     },
     "execution_count": 59,
     "metadata": {},
     "output_type": "execute_result"
    }
   ],
   "execution_count": 59
  },
  {
   "metadata": {},
   "cell_type": "markdown",
   "source": "## Trial results",
   "id": "cabbec6e64622a78"
  },
  {
   "metadata": {
    "ExecuteTime": {
     "end_time": "2024-07-31T01:45:02.338382Z",
     "start_time": "2024-07-31T01:45:02.327129Z"
    }
   },
   "cell_type": "code",
   "source": "trials.results",
   "id": "4a3815fe8f8b2a2f",
   "outputs": [
    {
     "data": {
      "text/plain": [
       "[{'loss': -0.6885420899430046,\n",
       "  'status': 'ok',\n",
       "  'accuracy': 0.6885420899430046,\n",
       "  'precision': 0.3442710449715023,\n",
       "  'recall': 0.5,\n",
       "  'f1': 0.377808727228793,\n",
       "  'auc': 0.5},\n",
       " {'loss': -0.8770870387684897,\n",
       "  'status': 'ok',\n",
       "  'accuracy': 0.8770870387684897,\n",
       "  'precision': 0.43854351938424485,\n",
       "  'recall': 0.5,\n",
       "  'f1': 0.4672596532034825,\n",
       "  'auc': 0.5},\n",
       " {'loss': -0.6788728181668776,\n",
       "  'status': 'ok',\n",
       "  'accuracy': 0.6788728181668776,\n",
       "  'precision': 0.6286459121091863,\n",
       "  'recall': 0.7924910357573517,\n",
       "  'f1': 0.598676397297732,\n",
       "  'auc': 0.8392015906551122},\n",
       " {'loss': -0.8770870387684897,\n",
       "  'status': 'ok',\n",
       "  'accuracy': 0.8770870387684897,\n",
       "  'precision': 0.43854351938424485,\n",
       "  'recall': 0.5,\n",
       "  'f1': 0.4672596532034825,\n",
       "  'auc': 0.5},\n",
       " {'loss': -0.6157632215060238,\n",
       "  'status': 'ok',\n",
       "  'accuracy': 0.6157632215060238,\n",
       "  'precision': 0.6180710343281364,\n",
       "  'recall': 0.7737947704953825,\n",
       "  'f1': 0.5532645708029039,\n",
       "  'auc': 0.7737947704953825}]"
      ]
     },
     "execution_count": 60,
     "metadata": {},
     "output_type": "execute_result"
    }
   ],
   "execution_count": 60
  },
  {
   "metadata": {},
   "cell_type": "markdown",
   "source": "## Trials EDA",
   "id": "790f9c3e798285b6"
  },
  {
   "metadata": {
    "ExecuteTime": {
     "end_time": "2024-07-31T01:45:06.394908Z",
     "start_time": "2024-07-31T01:45:06.328368Z"
    }
   },
   "cell_type": "code",
   "source": [
    "def unpack(x):\n",
    "    if x:\n",
    "        return x[0]\n",
    "    return np.nan\n",
    "\n",
    "\n",
    "# We'll first turn each trial into a series and then stack those series together as a dataframe.\n",
    "trials_df = pd.DataFrame([pd.Series(t[\"misc\"][\"vals\"]).apply(unpack) for t in trials])"
   ],
   "id": "5ab5483c91533628",
   "outputs": [],
   "execution_count": 61
  },
  {
   "metadata": {
    "ExecuteTime": {
     "end_time": "2024-07-31T01:45:06.789094Z",
     "start_time": "2024-07-31T01:45:06.766810Z"
    }
   },
   "cell_type": "code",
   "source": [
    "\n",
    "# Then we'll add other relevant bits of information to the correct rows and perform a couple of\n",
    "# mappings for convenience\n",
    "trials_df[\"loss\"] = [t[\"result\"][\"loss\"] for t in trials]\n",
    "trials_df[\"accuracy\"] = [t[\"result\"][\"accuracy\"] for t in trials]\n",
    "trials_df[\"precision\"] = [t[\"result\"][\"precision\"] for t in trials]\n",
    "trials_df[\"recall\"] = [t[\"result\"][\"recall\"] for t in trials]\n",
    "trials_df[\"f1\"] = [t[\"result\"][\"f1\"] for t in trials]\n",
    "trials_df[\"auc\"] = [t[\"result\"][\"auc\"] for t in trials]\n",
    "trials_df[\"trial_number\"] = trials_df.index\n",
    "\n"
   ],
   "id": "ea472c1360885397",
   "outputs": [],
   "execution_count": 62
  },
  {
   "metadata": {
    "ExecuteTime": {
     "end_time": "2024-07-31T01:45:08.065715Z",
     "start_time": "2024-07-31T01:45:08.044086Z"
    }
   },
   "cell_type": "code",
   "source": "trials_df",
   "id": "46d02bdde2513bae",
   "outputs": [
    {
     "data": {
      "text/plain": [
       "   criterion  max_depth  max_features  min_samples_leaf  min_samples_split  \\\n",
       "0        0.0       18.0           4.0          0.045795           0.891790   \n",
       "1        0.0       67.0           2.0          0.375866           0.993943   \n",
       "2        0.0       96.0           2.0          0.102586           0.192436   \n",
       "3        0.0       90.0           5.0          0.350661           0.775052   \n",
       "4        0.0       18.0           5.0          0.275117           0.519044   \n",
       "\n",
       "   n_estimators      loss  accuracy  precision    recall        f1       auc  \\\n",
       "0         239.0 -0.688542  0.688542   0.344271  0.500000  0.377809  0.500000   \n",
       "1         374.0 -0.877087  0.877087   0.438544  0.500000  0.467260  0.500000   \n",
       "2         349.0 -0.678873  0.678873   0.628646  0.792491  0.598676  0.839202   \n",
       "3         408.0 -0.877087  0.877087   0.438544  0.500000  0.467260  0.500000   \n",
       "4          46.0 -0.615763  0.615763   0.618071  0.773795  0.553265  0.773795   \n",
       "\n",
       "   trial_number  \n",
       "0             0  \n",
       "1             1  \n",
       "2             2  \n",
       "3             3  \n",
       "4             4  "
      ],
      "text/html": [
       "<div>\n",
       "<style scoped>\n",
       "    .dataframe tbody tr th:only-of-type {\n",
       "        vertical-align: middle;\n",
       "    }\n",
       "\n",
       "    .dataframe tbody tr th {\n",
       "        vertical-align: top;\n",
       "    }\n",
       "\n",
       "    .dataframe thead th {\n",
       "        text-align: right;\n",
       "    }\n",
       "</style>\n",
       "<table border=\"1\" class=\"dataframe\">\n",
       "  <thead>\n",
       "    <tr style=\"text-align: right;\">\n",
       "      <th></th>\n",
       "      <th>criterion</th>\n",
       "      <th>max_depth</th>\n",
       "      <th>max_features</th>\n",
       "      <th>min_samples_leaf</th>\n",
       "      <th>min_samples_split</th>\n",
       "      <th>n_estimators</th>\n",
       "      <th>loss</th>\n",
       "      <th>accuracy</th>\n",
       "      <th>precision</th>\n",
       "      <th>recall</th>\n",
       "      <th>f1</th>\n",
       "      <th>auc</th>\n",
       "      <th>trial_number</th>\n",
       "    </tr>\n",
       "  </thead>\n",
       "  <tbody>\n",
       "    <tr>\n",
       "      <th>0</th>\n",
       "      <td>0.0</td>\n",
       "      <td>18.0</td>\n",
       "      <td>4.0</td>\n",
       "      <td>0.045795</td>\n",
       "      <td>0.891790</td>\n",
       "      <td>239.0</td>\n",
       "      <td>-0.688542</td>\n",
       "      <td>0.688542</td>\n",
       "      <td>0.344271</td>\n",
       "      <td>0.500000</td>\n",
       "      <td>0.377809</td>\n",
       "      <td>0.500000</td>\n",
       "      <td>0</td>\n",
       "    </tr>\n",
       "    <tr>\n",
       "      <th>1</th>\n",
       "      <td>0.0</td>\n",
       "      <td>67.0</td>\n",
       "      <td>2.0</td>\n",
       "      <td>0.375866</td>\n",
       "      <td>0.993943</td>\n",
       "      <td>374.0</td>\n",
       "      <td>-0.877087</td>\n",
       "      <td>0.877087</td>\n",
       "      <td>0.438544</td>\n",
       "      <td>0.500000</td>\n",
       "      <td>0.467260</td>\n",
       "      <td>0.500000</td>\n",
       "      <td>1</td>\n",
       "    </tr>\n",
       "    <tr>\n",
       "      <th>2</th>\n",
       "      <td>0.0</td>\n",
       "      <td>96.0</td>\n",
       "      <td>2.0</td>\n",
       "      <td>0.102586</td>\n",
       "      <td>0.192436</td>\n",
       "      <td>349.0</td>\n",
       "      <td>-0.678873</td>\n",
       "      <td>0.678873</td>\n",
       "      <td>0.628646</td>\n",
       "      <td>0.792491</td>\n",
       "      <td>0.598676</td>\n",
       "      <td>0.839202</td>\n",
       "      <td>2</td>\n",
       "    </tr>\n",
       "    <tr>\n",
       "      <th>3</th>\n",
       "      <td>0.0</td>\n",
       "      <td>90.0</td>\n",
       "      <td>5.0</td>\n",
       "      <td>0.350661</td>\n",
       "      <td>0.775052</td>\n",
       "      <td>408.0</td>\n",
       "      <td>-0.877087</td>\n",
       "      <td>0.877087</td>\n",
       "      <td>0.438544</td>\n",
       "      <td>0.500000</td>\n",
       "      <td>0.467260</td>\n",
       "      <td>0.500000</td>\n",
       "      <td>3</td>\n",
       "    </tr>\n",
       "    <tr>\n",
       "      <th>4</th>\n",
       "      <td>0.0</td>\n",
       "      <td>18.0</td>\n",
       "      <td>5.0</td>\n",
       "      <td>0.275117</td>\n",
       "      <td>0.519044</td>\n",
       "      <td>46.0</td>\n",
       "      <td>-0.615763</td>\n",
       "      <td>0.615763</td>\n",
       "      <td>0.618071</td>\n",
       "      <td>0.773795</td>\n",
       "      <td>0.553265</td>\n",
       "      <td>0.773795</td>\n",
       "      <td>4</td>\n",
       "    </tr>\n",
       "  </tbody>\n",
       "</table>\n",
       "</div>"
      ]
     },
     "execution_count": 63,
     "metadata": {},
     "output_type": "execute_result"
    }
   ],
   "execution_count": 63
  },
  {
   "metadata": {
    "ExecuteTime": {
     "end_time": "2024-07-31T01:45:09.472004Z",
     "start_time": "2024-07-31T01:45:08.846322Z"
    }
   },
   "cell_type": "code",
   "source": "sns.relplot(trials_df, x = \"trial_number\", y = \"loss\")",
   "id": "ba8c6bb1280d7601",
   "outputs": [
    {
     "data": {
      "text/plain": [
       "<seaborn.axisgrid.FacetGrid at 0x136298fd0>"
      ]
     },
     "execution_count": 64,
     "metadata": {},
     "output_type": "execute_result"
    },
    {
     "data": {
      "text/plain": [
       "<Figure size 500x500 with 1 Axes>"
      ],
      "image/png": "[encoded data removed]"
     },
     "metadata": {},
     "output_type": "display_data"
    }
   ],
   "execution_count": 64
  },
  {
   "metadata": {
    "ExecuteTime": {
     "end_time": "2024-07-31T01:48:12.759421Z",
     "start_time": "2024-07-31T01:48:12.753189Z"
    }
   },
   "cell_type": "code",
   "source": "trials_df['trial_number']  = trials_df['trial_number'].astype(\"int\")",
   "id": "92a733b236e8345",
   "outputs": [],
   "execution_count": 71
  },
  {
   "metadata": {
    "ExecuteTime": {
     "end_time": "2024-07-31T01:49:31.647735Z",
     "start_time": "2024-07-31T01:49:31.268669Z"
    }
   },
   "cell_type": "code",
   "source": [
    "\n",
    "for i in ['accuracy','precision','recall','f1', 'auc']:\n",
    "    sns.lineplot(x=\"trial_number\", y=i, data=trials_df, label = str(i))\n",
    "plt.xticks(range(0,5))\n",
    "plt.ylabel('value')"
   ],
   "id": "c2118a62f7799838",
   "outputs": [
    {
     "name": "stderr",
     "output_type": "stream",
     "text": [
      "/Library/Frameworks/Python.framework/Versions/3.10/lib/python3.10/site-packages/seaborn/_oldcore.py:1119: FutureWarning: use_inf_as_na option is deprecated and will be removed in a future version. Convert inf values to NaN before operating instead.\n",
      "  with pd.option_context('mode.use_inf_as_na', True):\n",
      "/Library/Frameworks/Python.framework/Versions/3.10/lib/python3.10/site-packages/seaborn/_oldcore.py:1119: FutureWarning: use_inf_as_na option is deprecated and will be removed in a future version. Convert inf values to NaN before operating instead.\n",
      "  with pd.option_context('mode.use_inf_as_na', True):\n",
      "/Library/Frameworks/Python.framework/Versions/3.10/lib/python3.10/site-packages/seaborn/_oldcore.py:1119: FutureWarning: use_inf_as_na option is deprecated and will be removed in a future version. Convert inf values to NaN before operating instead.\n",
      "  with pd.option_context('mode.use_inf_as_na', True):\n",
      "/Library/Frameworks/Python.framework/Versions/3.10/lib/python3.10/site-packages/seaborn/_oldcore.py:1119: FutureWarning: use_inf_as_na option is deprecated and will be removed in a future version. Convert inf values to NaN before operating instead.\n",
      "  with pd.option_context('mode.use_inf_as_na', True):\n",
      "/Library/Frameworks/Python.framework/Versions/3.10/lib/python3.10/site-packages/seaborn/_oldcore.py:1119: FutureWarning: use_inf_as_na option is deprecated and will be removed in a future version. Convert inf values to NaN before operating instead.\n",
      "  with pd.option_context('mode.use_inf_as_na', True):\n",
      "/Library/Frameworks/Python.framework/Versions/3.10/lib/python3.10/site-packages/seaborn/_oldcore.py:1119: FutureWarning: use_inf_as_na option is deprecated and will be removed in a future version. Convert inf values to NaN before operating instead.\n",
      "  with pd.option_context('mode.use_inf_as_na', True):\n",
      "/Library/Frameworks/Python.framework/Versions/3.10/lib/python3.10/site-packages/seaborn/_oldcore.py:1119: FutureWarning: use_inf_as_na option is deprecated and will be removed in a future version. Convert inf values to NaN before operating instead.\n",
      "  with pd.option_context('mode.use_inf_as_na', True):\n",
      "/Library/Frameworks/Python.framework/Versions/3.10/lib/python3.10/site-packages/seaborn/_oldcore.py:1119: FutureWarning: use_inf_as_na option is deprecated and will be removed in a future version. Convert inf values to NaN before operating instead.\n",
      "  with pd.option_context('mode.use_inf_as_na', True):\n",
      "/Library/Frameworks/Python.framework/Versions/3.10/lib/python3.10/site-packages/seaborn/_oldcore.py:1119: FutureWarning: use_inf_as_na option is deprecated and will be removed in a future version. Convert inf values to NaN before operating instead.\n",
      "  with pd.option_context('mode.use_inf_as_na', True):\n",
      "/Library/Frameworks/Python.framework/Versions/3.10/lib/python3.10/site-packages/seaborn/_oldcore.py:1119: FutureWarning: use_inf_as_na option is deprecated and will be removed in a future version. Convert inf values to NaN before operating instead.\n",
      "  with pd.option_context('mode.use_inf_as_na', True):\n"
     ]
    },
    {
     "data": {
      "text/plain": [
       "Text(0, 0.5, 'value')"
      ]
     },
     "execution_count": 75,
     "metadata": {},
     "output_type": "execute_result"
    },
    {
     "data": {
      "text/plain": [
       "<Figure size 640x480 with 1 Axes>"
      ],
      "image/png": "[encoded data removed]"
     },
     "metadata": {},
     "output_type": "display_data"
    }
   ],
   "execution_count": 75
  },
  {
   "metadata": {},
   "cell_type": "markdown",
   "source": "# Accuracy tuned model - brief",
   "id": "24be44decf1088b9"
  },
  {
   "metadata": {
    "ExecuteTime": {
     "end_time": "2024-07-31T01:49:44.412910Z",
     "start_time": "2024-07-31T01:49:44.407051Z"
    }
   },
   "cell_type": "code",
   "source": [
    "best_params = best.copy()\n",
    "best_params.pop('criterion')"
   ],
   "id": "39b1f89a706ed3e2",
   "outputs": [
    {
     "data": {
      "text/plain": [
       "0"
      ]
     },
     "execution_count": 76,
     "metadata": {},
     "output_type": "execute_result"
    }
   ],
   "execution_count": 76
  },
  {
   "metadata": {
    "ExecuteTime": {
     "end_time": "2024-07-31T01:49:44.997185Z",
     "start_time": "2024-07-31T01:49:44.991428Z"
    }
   },
   "cell_type": "code",
   "source": [
    "rf_tuned_initial = RandomForestClassifier( n_jobs = -1, random_state = 42,\n",
    "                                   class_weight = 'balanced_subsample', **best_params, criterion = 'gini')"
   ],
   "id": "5beea5b7823f711e",
   "outputs": [],
   "execution_count": 77
  },
  {
   "metadata": {
    "ExecuteTime": {
     "end_time": "2024-07-31T01:51:17.425335Z",
     "start_time": "2024-07-31T01:49:45.837973Z"
    }
   },
   "cell_type": "code",
   "source": [
    "tuned_rf = Pipeline(steps=[\n",
    "          ('column_tran',default),\n",
    "          ('model',rf_tuned_initial)\n",
    "     ])\n",
    "tuned_rf.fit(Xs_train, ys_train)\n",
    "pred_tuned_rf = tuned_rf.predict(Xs_val)"
   ],
   "id": "c30b6642896d31c4",
   "outputs": [
    {
     "name": "stderr",
     "output_type": "stream",
     "text": [
      "/Library/Frameworks/Python.framework/Versions/3.10/lib/python3.10/site-packages/category_encoders/ordinal.py:198: FutureWarning: Downcasting object dtype arrays on .fillna, .ffill, .bfill is deprecated and will change in a future version. Call result.infer_objects(copy=False) instead. To opt-in to the future behavior, set `pd.set_option('future.no_silent_downcasting', True)`\n",
      "  X[column] = X[column].astype(\"object\").fillna(np.nan).map(col_mapping)\n",
      "/Library/Frameworks/Python.framework/Versions/3.10/lib/python3.10/site-packages/category_encoders/ordinal.py:198: FutureWarning: Downcasting object dtype arrays on .fillna, .ffill, .bfill is deprecated and will change in a future version. Call result.infer_objects(copy=False) instead. To opt-in to the future behavior, set `pd.set_option('future.no_silent_downcasting', True)`\n",
      "  X[column] = X[column].astype(\"object\").fillna(np.nan).map(col_mapping)\n",
      "/Library/Frameworks/Python.framework/Versions/3.10/lib/python3.10/site-packages/category_encoders/ordinal.py:198: FutureWarning: Downcasting object dtype arrays on .fillna, .ffill, .bfill is deprecated and will change in a future version. Call result.infer_objects(copy=False) instead. To opt-in to the future behavior, set `pd.set_option('future.no_silent_downcasting', True)`\n",
      "  X[column] = X[column].astype(\"object\").fillna(np.nan).map(col_mapping)\n",
      "/Library/Frameworks/Python.framework/Versions/3.10/lib/python3.10/site-packages/category_encoders/ordinal.py:198: FutureWarning: Downcasting object dtype arrays on .fillna, .ffill, .bfill is deprecated and will change in a future version. Call result.infer_objects(copy=False) instead. To opt-in to the future behavior, set `pd.set_option('future.no_silent_downcasting', True)`\n",
      "  X[column] = X[column].astype(\"object\").fillna(np.nan).map(col_mapping)\n",
      "/Library/Frameworks/Python.framework/Versions/3.10/lib/python3.10/site-packages/category_encoders/ordinal.py:198: FutureWarning: Downcasting object dtype arrays on .fillna, .ffill, .bfill is deprecated and will change in a future version. Call result.infer_objects(copy=False) instead. To opt-in to the future behavior, set `pd.set_option('future.no_silent_downcasting', True)`\n",
      "  X[column] = X[column].astype(\"object\").fillna(np.nan).map(col_mapping)\n",
      "/Library/Frameworks/Python.framework/Versions/3.10/lib/python3.10/site-packages/category_encoders/ordinal.py:198: FutureWarning: Downcasting object dtype arrays on .fillna, .ffill, .bfill is deprecated and will change in a future version. Call result.infer_objects(copy=False) instead. To opt-in to the future behavior, set `pd.set_option('future.no_silent_downcasting', True)`\n",
      "  X[column] = X[column].astype(\"object\").fillna(np.nan).map(col_mapping)\n",
      "/Library/Frameworks/Python.framework/Versions/3.10/lib/python3.10/site-packages/category_encoders/ordinal.py:198: FutureWarning: Downcasting object dtype arrays on .fillna, .ffill, .bfill is deprecated and will change in a future version. Call result.infer_objects(copy=False) instead. To opt-in to the future behavior, set `pd.set_option('future.no_silent_downcasting', True)`\n",
      "  X[column] = X[column].astype(\"object\").fillna(np.nan).map(col_mapping)\n",
      "/Library/Frameworks/Python.framework/Versions/3.10/lib/python3.10/site-packages/category_encoders/ordinal.py:198: FutureWarning: Downcasting object dtype arrays on .fillna, .ffill, .bfill is deprecated and will change in a future version. Call result.infer_objects(copy=False) instead. To opt-in to the future behavior, set `pd.set_option('future.no_silent_downcasting', True)`\n",
      "  X[column] = X[column].astype(\"object\").fillna(np.nan).map(col_mapping)\n",
      "/Library/Frameworks/Python.framework/Versions/3.10/lib/python3.10/site-packages/category_encoders/ordinal.py:198: FutureWarning: Downcasting object dtype arrays on .fillna, .ffill, .bfill is deprecated and will change in a future version. Call result.infer_objects(copy=False) instead. To opt-in to the future behavior, set `pd.set_option('future.no_silent_downcasting', True)`\n",
      "  X[column] = X[column].astype(\"object\").fillna(np.nan).map(col_mapping)\n",
      "/Library/Frameworks/Python.framework/Versions/3.10/lib/python3.10/site-packages/category_encoders/ordinal.py:198: FutureWarning: Downcasting object dtype arrays on .fillna, .ffill, .bfill is deprecated and will change in a future version. Call result.infer_objects(copy=False) instead. To opt-in to the future behavior, set `pd.set_option('future.no_silent_downcasting', True)`\n",
      "  X[column] = X[column].astype(\"object\").fillna(np.nan).map(col_mapping)\n"
     ]
    }
   ],
   "execution_count": 78
  },
  {
   "metadata": {
    "ExecuteTime": {
     "end_time": "2024-07-31T01:51:17.788911Z",
     "start_time": "2024-07-31T01:51:17.428431Z"
    }
   },
   "cell_type": "code",
   "source": [
    "def return_eval(pred, eval):\n",
    "    acc = accuracy_score(eval,pred)\n",
    "    ps = precision_score(eval, pred)\n",
    "    rec = recall_score(eval,pred)\n",
    "    f1 = f1_score(eval, pred)\n",
    "    auc = roc_auc_score(eval, pred)\n",
    "    return acc , ps ,rec, f1, auc\n",
    "\n",
    "return_eval(pred_tuned_rf, ys_val)"
   ],
   "id": "f0ce0a6014882771",
   "outputs": [
    {
     "data": {
      "text/plain": [
       "(0.12291391419233712, 0.12291391419233712, 1.0, 0.2189195674554335, 0.5)"
      ]
     },
     "execution_count": 79,
     "metadata": {},
     "output_type": "execute_result"
    }
   ],
   "execution_count": 79
  },
  {
   "metadata": {},
   "cell_type": "markdown",
   "source": "The model is not significantly better than our default random forest classifier. This is not surprising given that we only allowed for 10 iterations and the optimizer simply uses a random grid search during the first 20 rounds. Let's see if our model that ran for 70 rounds performed better.",
   "id": "35f0d63e6226da7c"
  },
  {
   "metadata": {},
   "cell_type": "markdown",
   "source": "# Accuracy tuned - 200 rounds",
   "id": "fcf2b26d4f1e45ee"
  },
  {
   "metadata": {
    "ExecuteTime": {
     "end_time": "2024-07-30T23:13:55.949632Z",
     "start_time": "2024-07-30T23:13:55.925126Z"
    }
   },
   "cell_type": "code",
   "source": [
    "trials_200 = pd.read_csv('trials.csv')\n",
    "trials_200.sort_values(by = 'accuracy', ascending= False)"
   ],
   "id": "e9f973b96bc1d2d5",
   "outputs": [
    {
     "data": {
      "text/plain": [
       "    Unnamed: 0  criterion  max_depth  max_features  min_samples_leaf  \\\n",
       "44          44        0.0       64.0           4.0          0.001203   \n",
       "30          30        0.0        2.0           0.0          0.000863   \n",
       "55          55        0.0       25.0           3.0          0.000884   \n",
       "34          34        0.0       42.0           2.0          0.009476   \n",
       "32          32        0.0       37.0           0.0          0.007479   \n",
       "..         ...        ...        ...           ...               ...   \n",
       "18          18        0.0       57.0           3.0          0.373254   \n",
       "5            5        0.0       23.0           1.0          0.005949   \n",
       "49          49        0.0       76.0           3.0          0.342647   \n",
       "17          17        0.0       34.0           5.0          0.121750   \n",
       "3            3        0.0       97.0           3.0          0.418184   \n",
       "\n",
       "    min_samples_split  n_estimators      loss  trial_number  accuracy  \\\n",
       "44           0.215710         255.0  0.294162            44  0.705838   \n",
       "30           0.092020          81.0  0.297172            30  0.702828   \n",
       "55           0.203873         856.0  0.298231            55  0.701769   \n",
       "34           0.247936         562.0  0.298588            34  0.701412   \n",
       "32           0.160020         806.0  0.298917            32  0.701083   \n",
       "..                ...           ...       ...           ...       ...   \n",
       "18           0.314609         274.0  0.575389            18  0.424611   \n",
       "5            0.721384         161.0  0.575389             5  0.424611   \n",
       "49           0.130582          94.0  0.726166            49  0.273834   \n",
       "17           0.741832          21.0  0.726166            17  0.273834   \n",
       "3            0.994407          83.0  0.726166             3  0.273834   \n",
       "\n",
       "    precision    recall        f1       auc  \n",
       "44   0.634241  0.797880  0.618050  0.850588  \n",
       "30   0.633832  0.798039  0.616083  0.851013  \n",
       "55   0.633582  0.797788  0.615310  0.850679  \n",
       "34   0.632941  0.796260  0.614661  0.843894  \n",
       "32   0.633527  0.797894  0.614882  0.849058  \n",
       "..        ...       ...       ...       ...  \n",
       "18   0.212306  0.500000  0.252631  0.500000  \n",
       "5    0.212306  0.500000  0.252631  0.500000  \n",
       "49   0.136917  0.500000  0.181102  0.500000  \n",
       "17   0.136917  0.500000  0.181102  0.500000  \n",
       "3    0.136917  0.500000  0.181102  0.500000  \n",
       "\n",
       "[70 rows x 14 columns]"
      ],
      "text/html": [
       "<div>\n",
       "<style scoped>\n",
       "    .dataframe tbody tr th:only-of-type {\n",
       "        vertical-align: middle;\n",
       "    }\n",
       "\n",
       "    .dataframe tbody tr th {\n",
       "        vertical-align: top;\n",
       "    }\n",
       "\n",
       "    .dataframe thead th {\n",
       "        text-align: right;\n",
       "    }\n",
       "</style>\n",
       "<table border=\"1\" class=\"dataframe\">\n",
       "  <thead>\n",
       "    <tr style=\"text-align: right;\">\n",
       "      <th></th>\n",
       "      <th>Unnamed: 0</th>\n",
       "      <th>criterion</th>\n",
       "      <th>max_depth</th>\n",
       "      <th>max_features</th>\n",
       "      <th>min_samples_leaf</th>\n",
       "      <th>min_samples_split</th>\n",
       "      <th>n_estimators</th>\n",
       "      <th>loss</th>\n",
       "      <th>trial_number</th>\n",
       "      <th>accuracy</th>\n",
       "      <th>precision</th>\n",
       "      <th>recall</th>\n",
       "      <th>f1</th>\n",
       "      <th>auc</th>\n",
       "    </tr>\n",
       "  </thead>\n",
       "  <tbody>\n",
       "    <tr>\n",
       "      <th>44</th>\n",
       "      <td>44</td>\n",
       "      <td>0.0</td>\n",
       "      <td>64.0</td>\n",
       "      <td>4.0</td>\n",
       "      <td>0.001203</td>\n",
       "      <td>0.215710</td>\n",
       "      <td>255.0</td>\n",
       "      <td>0.294162</td>\n",
       "      <td>44</td>\n",
       "      <td>0.705838</td>\n",
       "      <td>0.634241</td>\n",
       "      <td>0.797880</td>\n",
       "      <td>0.618050</td>\n",
       "      <td>0.850588</td>\n",
       "    </tr>\n",
       "    <tr>\n",
       "      <th>30</th>\n",
       "      <td>30</td>\n",
       "      <td>0.0</td>\n",
       "      <td>2.0</td>\n",
       "      <td>0.0</td>\n",
       "      <td>0.000863</td>\n",
       "      <td>0.092020</td>\n",
       "      <td>81.0</td>\n",
       "      <td>0.297172</td>\n",
       "      <td>30</td>\n",
       "      <td>0.702828</td>\n",
       "      <td>0.633832</td>\n",
       "      <td>0.798039</td>\n",
       "      <td>0.616083</td>\n",
       "      <td>0.851013</td>\n",
       "    </tr>\n",
       "    <tr>\n",
       "      <th>55</th>\n",
       "      <td>55</td>\n",
       "      <td>0.0</td>\n",
       "      <td>25.0</td>\n",
       "      <td>3.0</td>\n",
       "      <td>0.000884</td>\n",
       "      <td>0.203873</td>\n",
       "      <td>856.0</td>\n",
       "      <td>0.298231</td>\n",
       "      <td>55</td>\n",
       "      <td>0.701769</td>\n",
       "      <td>0.633582</td>\n",
       "      <td>0.797788</td>\n",
       "      <td>0.615310</td>\n",
       "      <td>0.850679</td>\n",
       "    </tr>\n",
       "    <tr>\n",
       "      <th>34</th>\n",
       "      <td>34</td>\n",
       "      <td>0.0</td>\n",
       "      <td>42.0</td>\n",
       "      <td>2.0</td>\n",
       "      <td>0.009476</td>\n",
       "      <td>0.247936</td>\n",
       "      <td>562.0</td>\n",
       "      <td>0.298588</td>\n",
       "      <td>34</td>\n",
       "      <td>0.701412</td>\n",
       "      <td>0.632941</td>\n",
       "      <td>0.796260</td>\n",
       "      <td>0.614661</td>\n",
       "      <td>0.843894</td>\n",
       "    </tr>\n",
       "    <tr>\n",
       "      <th>32</th>\n",
       "      <td>32</td>\n",
       "      <td>0.0</td>\n",
       "      <td>37.0</td>\n",
       "      <td>0.0</td>\n",
       "      <td>0.007479</td>\n",
       "      <td>0.160020</td>\n",
       "      <td>806.0</td>\n",
       "      <td>0.298917</td>\n",
       "      <td>32</td>\n",
       "      <td>0.701083</td>\n",
       "      <td>0.633527</td>\n",
       "      <td>0.797894</td>\n",
       "      <td>0.614882</td>\n",
       "      <td>0.849058</td>\n",
       "    </tr>\n",
       "    <tr>\n",
       "      <th>...</th>\n",
       "      <td>...</td>\n",
       "      <td>...</td>\n",
       "      <td>...</td>\n",
       "      <td>...</td>\n",
       "      <td>...</td>\n",
       "      <td>...</td>\n",
       "      <td>...</td>\n",
       "      <td>...</td>\n",
       "      <td>...</td>\n",
       "      <td>...</td>\n",
       "      <td>...</td>\n",
       "      <td>...</td>\n",
       "      <td>...</td>\n",
       "      <td>...</td>\n",
       "    </tr>\n",
       "    <tr>\n",
       "      <th>18</th>\n",
       "      <td>18</td>\n",
       "      <td>0.0</td>\n",
       "      <td>57.0</td>\n",
       "      <td>3.0</td>\n",
       "      <td>0.373254</td>\n",
       "      <td>0.314609</td>\n",
       "      <td>274.0</td>\n",
       "      <td>0.575389</td>\n",
       "      <td>18</td>\n",
       "      <td>0.424611</td>\n",
       "      <td>0.212306</td>\n",
       "      <td>0.500000</td>\n",
       "      <td>0.252631</td>\n",
       "      <td>0.500000</td>\n",
       "    </tr>\n",
       "    <tr>\n",
       "      <th>5</th>\n",
       "      <td>5</td>\n",
       "      <td>0.0</td>\n",
       "      <td>23.0</td>\n",
       "      <td>1.0</td>\n",
       "      <td>0.005949</td>\n",
       "      <td>0.721384</td>\n",
       "      <td>161.0</td>\n",
       "      <td>0.575389</td>\n",
       "      <td>5</td>\n",
       "      <td>0.424611</td>\n",
       "      <td>0.212306</td>\n",
       "      <td>0.500000</td>\n",
       "      <td>0.252631</td>\n",
       "      <td>0.500000</td>\n",
       "    </tr>\n",
       "    <tr>\n",
       "      <th>49</th>\n",
       "      <td>49</td>\n",
       "      <td>0.0</td>\n",
       "      <td>76.0</td>\n",
       "      <td>3.0</td>\n",
       "      <td>0.342647</td>\n",
       "      <td>0.130582</td>\n",
       "      <td>94.0</td>\n",
       "      <td>0.726166</td>\n",
       "      <td>49</td>\n",
       "      <td>0.273834</td>\n",
       "      <td>0.136917</td>\n",
       "      <td>0.500000</td>\n",
       "      <td>0.181102</td>\n",
       "      <td>0.500000</td>\n",
       "    </tr>\n",
       "    <tr>\n",
       "      <th>17</th>\n",
       "      <td>17</td>\n",
       "      <td>0.0</td>\n",
       "      <td>34.0</td>\n",
       "      <td>5.0</td>\n",
       "      <td>0.121750</td>\n",
       "      <td>0.741832</td>\n",
       "      <td>21.0</td>\n",
       "      <td>0.726166</td>\n",
       "      <td>17</td>\n",
       "      <td>0.273834</td>\n",
       "      <td>0.136917</td>\n",
       "      <td>0.500000</td>\n",
       "      <td>0.181102</td>\n",
       "      <td>0.500000</td>\n",
       "    </tr>\n",
       "    <tr>\n",
       "      <th>3</th>\n",
       "      <td>3</td>\n",
       "      <td>0.0</td>\n",
       "      <td>97.0</td>\n",
       "      <td>3.0</td>\n",
       "      <td>0.418184</td>\n",
       "      <td>0.994407</td>\n",
       "      <td>83.0</td>\n",
       "      <td>0.726166</td>\n",
       "      <td>3</td>\n",
       "      <td>0.273834</td>\n",
       "      <td>0.136917</td>\n",
       "      <td>0.500000</td>\n",
       "      <td>0.181102</td>\n",
       "      <td>0.500000</td>\n",
       "    </tr>\n",
       "  </tbody>\n",
       "</table>\n",
       "<p>70 rows × 14 columns</p>\n",
       "</div>"
      ]
     },
     "execution_count": 21,
     "metadata": {},
     "output_type": "execute_result"
    }
   ],
   "execution_count": 21
  },
  {
   "metadata": {
    "ExecuteTime": {
     "end_time": "2024-07-31T01:59:09.333059Z",
     "start_time": "2024-07-31T01:59:09.307928Z"
    }
   },
   "cell_type": "code",
   "source": [
    "best_200 = trials_200[trials_200['trial_number']==44]\n",
    "best_200"
   ],
   "id": "47772bc68d5e6434",
   "outputs": [
    {
     "data": {
      "text/plain": [
       "    Unnamed: 0  criterion  max_depth  max_features  min_samples_leaf  \\\n",
       "44          44        0.0       64.0           4.0          0.001203   \n",
       "\n",
       "    min_samples_split  n_estimators      loss  trial_number  accuracy  \\\n",
       "44            0.21571         255.0  0.294162            44  0.705838   \n",
       "\n",
       "    precision   recall       f1       auc  \n",
       "44   0.634241  0.79788  0.61805  0.850588  "
      ],
      "text/html": [
       "<div>\n",
       "<style scoped>\n",
       "    .dataframe tbody tr th:only-of-type {\n",
       "        vertical-align: middle;\n",
       "    }\n",
       "\n",
       "    .dataframe tbody tr th {\n",
       "        vertical-align: top;\n",
       "    }\n",
       "\n",
       "    .dataframe thead th {\n",
       "        text-align: right;\n",
       "    }\n",
       "</style>\n",
       "<table border=\"1\" class=\"dataframe\">\n",
       "  <thead>\n",
       "    <tr style=\"text-align: right;\">\n",
       "      <th></th>\n",
       "      <th>Unnamed: 0</th>\n",
       "      <th>criterion</th>\n",
       "      <th>max_depth</th>\n",
       "      <th>max_features</th>\n",
       "      <th>min_samples_leaf</th>\n",
       "      <th>min_samples_split</th>\n",
       "      <th>n_estimators</th>\n",
       "      <th>loss</th>\n",
       "      <th>trial_number</th>\n",
       "      <th>accuracy</th>\n",
       "      <th>precision</th>\n",
       "      <th>recall</th>\n",
       "      <th>f1</th>\n",
       "      <th>auc</th>\n",
       "    </tr>\n",
       "  </thead>\n",
       "  <tbody>\n",
       "    <tr>\n",
       "      <th>44</th>\n",
       "      <td>44</td>\n",
       "      <td>0.0</td>\n",
       "      <td>64.0</td>\n",
       "      <td>4.0</td>\n",
       "      <td>0.001203</td>\n",
       "      <td>0.21571</td>\n",
       "      <td>255.0</td>\n",
       "      <td>0.294162</td>\n",
       "      <td>44</td>\n",
       "      <td>0.705838</td>\n",
       "      <td>0.634241</td>\n",
       "      <td>0.79788</td>\n",
       "      <td>0.61805</td>\n",
       "      <td>0.850588</td>\n",
       "    </tr>\n",
       "  </tbody>\n",
       "</table>\n",
       "</div>"
      ]
     },
     "execution_count": 88,
     "metadata": {},
     "output_type": "execute_result"
    }
   ],
   "execution_count": 88
  },
  {
   "metadata": {
    "ExecuteTime": {
     "end_time": "2024-07-31T01:59:13.947932Z",
     "start_time": "2024-07-31T01:59:13.932506Z"
    }
   },
   "cell_type": "code",
   "source": [
    "remove = ['Unnamed: 0', 'criterion', 'loss', 'trial_number', 'accuracy', 'precision', 'recall', 'f1', 'auc']\n",
    "best_200_params = best_200.to_dict(orient = 'records')[0]\n",
    "for i in remove:\n",
    "    best_200_params.pop(i)"
   ],
   "id": "877e84514c95b427",
   "outputs": [],
   "execution_count": 89
  },
  {
   "metadata": {
    "ExecuteTime": {
     "end_time": "2024-07-31T01:59:16.260236Z",
     "start_time": "2024-07-31T01:59:16.254254Z"
    }
   },
   "cell_type": "code",
   "source": [
    "for i in ['max_depth', 'n_estimators', 'max_features']:\n",
    "        best_200_params[i] = int(best_200_params[i])\n",
    "best_200_params"
   ],
   "id": "e39461de7587475b",
   "outputs": [
    {
     "data": {
      "text/plain": [
       "{'max_depth': 64,\n",
       " 'max_features': 4,\n",
       " 'min_samples_leaf': 0.0012025420150464,\n",
       " 'min_samples_split': 0.2157102541161757,\n",
       " 'n_estimators': 255}"
      ]
     },
     "execution_count": 90,
     "metadata": {},
     "output_type": "execute_result"
    }
   ],
   "execution_count": 90
  },
  {
   "metadata": {
    "ExecuteTime": {
     "end_time": "2024-07-31T01:59:21.968983Z",
     "start_time": "2024-07-31T01:59:21.962694Z"
    }
   },
   "cell_type": "code",
   "source": [
    "rf_tuned_200 = RandomForestClassifier( n_jobs = -1, random_state = 42,\n",
    "                                   class_weight = 'balanced_subsample', **best_200_params, criterion = 'gini')"
   ],
   "id": "cd2b80d7221aae0f",
   "outputs": [],
   "execution_count": 91
  },
  {
   "metadata": {
    "ExecuteTime": {
     "end_time": "2024-07-31T02:00:57.919945Z",
     "start_time": "2024-07-31T01:59:35.671215Z"
    }
   },
   "cell_type": "code",
   "source": [
    "tuned_rf_200 = Pipeline(steps=[\n",
    "    ('column_tran', default),\n",
    "    ('model', rf_tuned_200)\n",
    "])\n",
    "tuned_rf_200.fit(Xs_train, ys_train)\n",
    "pred_tuned_rf_200 = tuned_rf_200.predict(Xs_val)"
   ],
   "id": "5170c843c83582f6",
   "outputs": [
    {
     "name": "stderr",
     "output_type": "stream",
     "text": [
      "/Library/Frameworks/Python.framework/Versions/3.10/lib/python3.10/site-packages/category_encoders/ordinal.py:198: FutureWarning: Downcasting object dtype arrays on .fillna, .ffill, .bfill is deprecated and will change in a future version. Call result.infer_objects(copy=False) instead. To opt-in to the future behavior, set `pd.set_option('future.no_silent_downcasting', True)`\n",
      "  X[column] = X[column].astype(\"object\").fillna(np.nan).map(col_mapping)\n",
      "/Library/Frameworks/Python.framework/Versions/3.10/lib/python3.10/site-packages/category_encoders/ordinal.py:198: FutureWarning: Downcasting object dtype arrays on .fillna, .ffill, .bfill is deprecated and will change in a future version. Call result.infer_objects(copy=False) instead. To opt-in to the future behavior, set `pd.set_option('future.no_silent_downcasting', True)`\n",
      "  X[column] = X[column].astype(\"object\").fillna(np.nan).map(col_mapping)\n",
      "/Library/Frameworks/Python.framework/Versions/3.10/lib/python3.10/site-packages/category_encoders/ordinal.py:198: FutureWarning: Downcasting object dtype arrays on .fillna, .ffill, .bfill is deprecated and will change in a future version. Call result.infer_objects(copy=False) instead. To opt-in to the future behavior, set `pd.set_option('future.no_silent_downcasting', True)`\n",
      "  X[column] = X[column].astype(\"object\").fillna(np.nan).map(col_mapping)\n",
      "/Library/Frameworks/Python.framework/Versions/3.10/lib/python3.10/site-packages/category_encoders/ordinal.py:198: FutureWarning: Downcasting object dtype arrays on .fillna, .ffill, .bfill is deprecated and will change in a future version. Call result.infer_objects(copy=False) instead. To opt-in to the future behavior, set `pd.set_option('future.no_silent_downcasting', True)`\n",
      "  X[column] = X[column].astype(\"object\").fillna(np.nan).map(col_mapping)\n",
      "/Library/Frameworks/Python.framework/Versions/3.10/lib/python3.10/site-packages/category_encoders/ordinal.py:198: FutureWarning: Downcasting object dtype arrays on .fillna, .ffill, .bfill is deprecated and will change in a future version. Call result.infer_objects(copy=False) instead. To opt-in to the future behavior, set `pd.set_option('future.no_silent_downcasting', True)`\n",
      "  X[column] = X[column].astype(\"object\").fillna(np.nan).map(col_mapping)\n",
      "/Library/Frameworks/Python.framework/Versions/3.10/lib/python3.10/site-packages/category_encoders/ordinal.py:198: FutureWarning: Downcasting object dtype arrays on .fillna, .ffill, .bfill is deprecated and will change in a future version. Call result.infer_objects(copy=False) instead. To opt-in to the future behavior, set `pd.set_option('future.no_silent_downcasting', True)`\n",
      "  X[column] = X[column].astype(\"object\").fillna(np.nan).map(col_mapping)\n",
      "/Library/Frameworks/Python.framework/Versions/3.10/lib/python3.10/site-packages/category_encoders/ordinal.py:198: FutureWarning: Downcasting object dtype arrays on .fillna, .ffill, .bfill is deprecated and will change in a future version. Call result.infer_objects(copy=False) instead. To opt-in to the future behavior, set `pd.set_option('future.no_silent_downcasting', True)`\n",
      "  X[column] = X[column].astype(\"object\").fillna(np.nan).map(col_mapping)\n",
      "/Library/Frameworks/Python.framework/Versions/3.10/lib/python3.10/site-packages/category_encoders/ordinal.py:198: FutureWarning: Downcasting object dtype arrays on .fillna, .ffill, .bfill is deprecated and will change in a future version. Call result.infer_objects(copy=False) instead. To opt-in to the future behavior, set `pd.set_option('future.no_silent_downcasting', True)`\n",
      "  X[column] = X[column].astype(\"object\").fillna(np.nan).map(col_mapping)\n",
      "/Library/Frameworks/Python.framework/Versions/3.10/lib/python3.10/site-packages/category_encoders/ordinal.py:198: FutureWarning: Downcasting object dtype arrays on .fillna, .ffill, .bfill is deprecated and will change in a future version. Call result.infer_objects(copy=False) instead. To opt-in to the future behavior, set `pd.set_option('future.no_silent_downcasting', True)`\n",
      "  X[column] = X[column].astype(\"object\").fillna(np.nan).map(col_mapping)\n",
      "/Library/Frameworks/Python.framework/Versions/3.10/lib/python3.10/site-packages/category_encoders/ordinal.py:198: FutureWarning: Downcasting object dtype arrays on .fillna, .ffill, .bfill is deprecated and will change in a future version. Call result.infer_objects(copy=False) instead. To opt-in to the future behavior, set `pd.set_option('future.no_silent_downcasting', True)`\n",
      "  X[column] = X[column].astype(\"object\").fillna(np.nan).map(col_mapping)\n"
     ]
    }
   ],
   "execution_count": 92
  },
  {
   "metadata": {
    "ExecuteTime": {
     "end_time": "2024-07-31T02:02:19.693811Z",
     "start_time": "2024-07-31T02:02:19.376735Z"
    }
   },
   "cell_type": "code",
   "source": [
    "rf_200_metric = return_eval(pred_tuned_rf_200, ys_val)\n",
    "rf_200_metric"
   ],
   "id": "aee26472abe314ec",
   "outputs": [
    {
     "data": {
      "text/plain": [
       "(0.7000556289548711,\n",
       " 0.2811929266668099,\n",
       " 0.9254649600452585,\n",
       " 0.43133054282983424,\n",
       " 0.7969659821582591)"
      ]
     },
     "execution_count": 93,
     "metadata": {},
     "output_type": "execute_result"
    }
   ],
   "execution_count": 93
  },
  {
   "metadata": {
    "ExecuteTime": {
     "end_time": "2024-07-31T02:08:01.034719Z",
     "start_time": "2024-07-31T02:08:01.023624Z"
    }
   },
   "cell_type": "code",
   "source": [
    "eval_metric = ['accuracy', 'precision', 'recall', 'f1', 'auc']\n",
    "metric = pd.DataFrame({'name':eval_metric, 'default':default_metric,'rf_200':rf_200_metric })\n",
    "metric['percent change'] = (  metric['rf_200'] - metric['default'] )/metric['default'] * 100\n",
    "metric"
   ],
   "id": "e79f48d77af83471",
   "outputs": [
    {
     "data": {
      "text/plain": [
       "        name   default    rf_200  percent change\n",
       "0   accuracy  0.868133  0.700056      -19.360814\n",
       "1  precision  0.399571  0.281193      -29.626290\n",
       "2     recall  0.144898  0.925465      538.701806\n",
       "3         f1  0.212673  0.431331      102.813768\n",
       "4        auc  0.557192  0.796966       43.032487"
      ],
      "text/html": [
       "<div>\n",
       "<style scoped>\n",
       "    .dataframe tbody tr th:only-of-type {\n",
       "        vertical-align: middle;\n",
       "    }\n",
       "\n",
       "    .dataframe tbody tr th {\n",
       "        vertical-align: top;\n",
       "    }\n",
       "\n",
       "    .dataframe thead th {\n",
       "        text-align: right;\n",
       "    }\n",
       "</style>\n",
       "<table border=\"1\" class=\"dataframe\">\n",
       "  <thead>\n",
       "    <tr style=\"text-align: right;\">\n",
       "      <th></th>\n",
       "      <th>name</th>\n",
       "      <th>default</th>\n",
       "      <th>rf_200</th>\n",
       "      <th>percent change</th>\n",
       "    </tr>\n",
       "  </thead>\n",
       "  <tbody>\n",
       "    <tr>\n",
       "      <th>0</th>\n",
       "      <td>accuracy</td>\n",
       "      <td>0.868133</td>\n",
       "      <td>0.700056</td>\n",
       "      <td>-19.360814</td>\n",
       "    </tr>\n",
       "    <tr>\n",
       "      <th>1</th>\n",
       "      <td>precision</td>\n",
       "      <td>0.399571</td>\n",
       "      <td>0.281193</td>\n",
       "      <td>-29.626290</td>\n",
       "    </tr>\n",
       "    <tr>\n",
       "      <th>2</th>\n",
       "      <td>recall</td>\n",
       "      <td>0.144898</td>\n",
       "      <td>0.925465</td>\n",
       "      <td>538.701806</td>\n",
       "    </tr>\n",
       "    <tr>\n",
       "      <th>3</th>\n",
       "      <td>f1</td>\n",
       "      <td>0.212673</td>\n",
       "      <td>0.431331</td>\n",
       "      <td>102.813768</td>\n",
       "    </tr>\n",
       "    <tr>\n",
       "      <th>4</th>\n",
       "      <td>auc</td>\n",
       "      <td>0.557192</td>\n",
       "      <td>0.796966</td>\n",
       "      <td>43.032487</td>\n",
       "    </tr>\n",
       "  </tbody>\n",
       "</table>\n",
       "</div>"
      ]
     },
     "execution_count": 102,
     "metadata": {},
     "output_type": "execute_result"
    }
   ],
   "execution_count": 102
  },
  {
   "metadata": {},
   "cell_type": "markdown",
   "source": "It looks like overall accuracy came down to 70% but recall and auc increased significantly. We traded off a 20% decrease in accuracy to improve recall by 500%, f1 by 100%, and auc by 40%.",
   "id": "538f26fd196140e9"
  }
 ],
 "metadata": {
  "kernelspec": {
   "display_name": "Python 3",
   "language": "python",
   "name": "python3"
  },
  "language_info": {
   "codemirror_mode": {
    "name": "ipython",
    "version": 2
   },
   "file_extension": ".py",
   "mimetype": "text/x-python",
   "name": "python",
   "nbconvert_exporter": "python",
   "pygments_lexer": "ipython2",
   "version": "2.7.6"
  }
 },
 "nbformat": 4,
 "nbformat_minor": 5
}
