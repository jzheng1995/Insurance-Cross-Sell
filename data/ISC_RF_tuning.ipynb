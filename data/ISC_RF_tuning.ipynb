{
 "cells": [
  {
   "metadata": {},
   "cell_type": "markdown",
   "source": "# Random Forest Model tuning",
   "id": "4ece34ede214b772"
  },
  {
   "metadata": {},
   "cell_type": "markdown",
   "source": "Let's see how much improvement can be made on a default random forest model via hyperparameter optimization. We'll work most of our tuning on 10% sample of the entire training set. ",
   "id": "3b368b884d37f6f"
  },
  {
   "metadata": {},
   "cell_type": "markdown",
   "source": "# Set up",
   "id": "b65fadd6a0fc2766"
  },
  {
   "metadata": {
    "ExecuteTime": {
     "end_time": "2024-07-28T10:34:50.972023Z",
     "start_time": "2024-07-28T10:34:02.852779Z"
    }
   },
   "cell_type": "code",
   "source": [
    "import pandas as pd\n",
    "import zipfile \n",
    "from zipfile import ZipFile \n",
    "\n",
    "\n",
    "file_name = \"playground-series-s4e7.zip\"\n",
    "with ZipFile(file_name, 'r') as zip: \n",
    "    # printing all the contents of the zip file \n",
    "    zip.printdir()\n",
    "df_zip = zipfile.ZipFile(file_name)\n",
    "train = pd.read_csv(df_zip.open('train.csv'))\n",
    "\n",
    "# import sample\n",
    "import random\n",
    "\n",
    "n = len(train) # Calculate number of rows in file\n",
    "s = n//10  # sample size of 10%\n",
    "skip = sorted(random.sample(range(1, n+1), n-s))   \n",
    "train_sample = pd.read_csv(df_zip.open('train.csv'), skiprows = skip)\n",
    "train_sample\n"
   ],
   "id": "e9a6c20b25f88b0e",
   "outputs": [
    {
     "name": "stdout",
     "output_type": "stream",
     "text": [
      "File Name                                             Modified             Size\n",
      "sample_submission.csv                          2024-06-24 13:46:18     99708270\n",
      "test.csv                                       2024-06-24 13:46:24    433918183\n",
      "train.csv                                      2024-06-24 13:46:48    662779095\n"
     ]
    },
    {
     "data": {
      "text/plain": [
       "               id  Gender  Age  Driving_License  Region_Code  \\\n",
       "0               1    Male   43                1         28.0   \n",
       "1               5  Female   31                1         47.0   \n",
       "2              13    Male   27                1         28.0   \n",
       "3              15    Male   79                1          8.0   \n",
       "4              17  Female   20                1         50.0   \n",
       "...           ...     ...  ...              ...          ...   \n",
       "1150474  11504726  Female   36                1          3.0   \n",
       "1150475  11504738    Male   24                1         17.0   \n",
       "1150476  11504771    Male   32                1         44.0   \n",
       "1150477  11504777    Male   42                1          3.0   \n",
       "1150478  11504793    Male   48                1          6.0   \n",
       "\n",
       "         Previously_Insured Vehicle_Age Vehicle_Damage  Annual_Premium  \\\n",
       "0                         0   > 2 Years            Yes         58911.0   \n",
       "1                         1    < 1 Year             No         28150.0   \n",
       "2                         1    < 1 Year             No         43746.0   \n",
       "3                         0   > 2 Years            Yes         66887.0   \n",
       "4                         1    < 1 Year             No         36389.0   \n",
       "...                     ...         ...            ...             ...   \n",
       "1150474                   0    1-2 Year            Yes         18090.0   \n",
       "1150475                   0    < 1 Year            Yes          2630.0   \n",
       "1150476                   0    1-2 Year            Yes          2630.0   \n",
       "1150477                   0    1-2 Year            Yes         47788.0   \n",
       "1150478                   0    1-2 Year            Yes         27412.0   \n",
       "\n",
       "         Policy_Sales_Channel  Vintage  Response  \n",
       "0                        26.0      288         1  \n",
       "1                       152.0      197         0  \n",
       "2                       152.0      259         0  \n",
       "3                       124.0      150         0  \n",
       "4                       160.0      242         0  \n",
       "...                       ...      ...       ...  \n",
       "1150474                 124.0      159         1  \n",
       "1150475                 160.0      105         0  \n",
       "1150476                  26.0      270         0  \n",
       "1150477                  26.0      283         0  \n",
       "1150478                  26.0      218         0  \n",
       "\n",
       "[1150479 rows x 12 columns]"
      ],
      "text/html": [
       "<div>\n",
       "<style scoped>\n",
       "    .dataframe tbody tr th:only-of-type {\n",
       "        vertical-align: middle;\n",
       "    }\n",
       "\n",
       "    .dataframe tbody tr th {\n",
       "        vertical-align: top;\n",
       "    }\n",
       "\n",
       "    .dataframe thead th {\n",
       "        text-align: right;\n",
       "    }\n",
       "</style>\n",
       "<table border=\"1\" class=\"dataframe\">\n",
       "  <thead>\n",
       "    <tr style=\"text-align: right;\">\n",
       "      <th></th>\n",
       "      <th>id</th>\n",
       "      <th>Gender</th>\n",
       "      <th>Age</th>\n",
       "      <th>Driving_License</th>\n",
       "      <th>Region_Code</th>\n",
       "      <th>Previously_Insured</th>\n",
       "      <th>Vehicle_Age</th>\n",
       "      <th>Vehicle_Damage</th>\n",
       "      <th>Annual_Premium</th>\n",
       "      <th>Policy_Sales_Channel</th>\n",
       "      <th>Vintage</th>\n",
       "      <th>Response</th>\n",
       "    </tr>\n",
       "  </thead>\n",
       "  <tbody>\n",
       "    <tr>\n",
       "      <th>0</th>\n",
       "      <td>1</td>\n",
       "      <td>Male</td>\n",
       "      <td>43</td>\n",
       "      <td>1</td>\n",
       "      <td>28.0</td>\n",
       "      <td>0</td>\n",
       "      <td>&gt; 2 Years</td>\n",
       "      <td>Yes</td>\n",
       "      <td>58911.0</td>\n",
       "      <td>26.0</td>\n",
       "      <td>288</td>\n",
       "      <td>1</td>\n",
       "    </tr>\n",
       "    <tr>\n",
       "      <th>1</th>\n",
       "      <td>5</td>\n",
       "      <td>Female</td>\n",
       "      <td>31</td>\n",
       "      <td>1</td>\n",
       "      <td>47.0</td>\n",
       "      <td>1</td>\n",
       "      <td>&lt; 1 Year</td>\n",
       "      <td>No</td>\n",
       "      <td>28150.0</td>\n",
       "      <td>152.0</td>\n",
       "      <td>197</td>\n",
       "      <td>0</td>\n",
       "    </tr>\n",
       "    <tr>\n",
       "      <th>2</th>\n",
       "      <td>13</td>\n",
       "      <td>Male</td>\n",
       "      <td>27</td>\n",
       "      <td>1</td>\n",
       "      <td>28.0</td>\n",
       "      <td>1</td>\n",
       "      <td>&lt; 1 Year</td>\n",
       "      <td>No</td>\n",
       "      <td>43746.0</td>\n",
       "      <td>152.0</td>\n",
       "      <td>259</td>\n",
       "      <td>0</td>\n",
       "    </tr>\n",
       "    <tr>\n",
       "      <th>3</th>\n",
       "      <td>15</td>\n",
       "      <td>Male</td>\n",
       "      <td>79</td>\n",
       "      <td>1</td>\n",
       "      <td>8.0</td>\n",
       "      <td>0</td>\n",
       "      <td>&gt; 2 Years</td>\n",
       "      <td>Yes</td>\n",
       "      <td>66887.0</td>\n",
       "      <td>124.0</td>\n",
       "      <td>150</td>\n",
       "      <td>0</td>\n",
       "    </tr>\n",
       "    <tr>\n",
       "      <th>4</th>\n",
       "      <td>17</td>\n",
       "      <td>Female</td>\n",
       "      <td>20</td>\n",
       "      <td>1</td>\n",
       "      <td>50.0</td>\n",
       "      <td>1</td>\n",
       "      <td>&lt; 1 Year</td>\n",
       "      <td>No</td>\n",
       "      <td>36389.0</td>\n",
       "      <td>160.0</td>\n",
       "      <td>242</td>\n",
       "      <td>0</td>\n",
       "    </tr>\n",
       "    <tr>\n",
       "      <th>...</th>\n",
       "      <td>...</td>\n",
       "      <td>...</td>\n",
       "      <td>...</td>\n",
       "      <td>...</td>\n",
       "      <td>...</td>\n",
       "      <td>...</td>\n",
       "      <td>...</td>\n",
       "      <td>...</td>\n",
       "      <td>...</td>\n",
       "      <td>...</td>\n",
       "      <td>...</td>\n",
       "      <td>...</td>\n",
       "    </tr>\n",
       "    <tr>\n",
       "      <th>1150474</th>\n",
       "      <td>11504726</td>\n",
       "      <td>Female</td>\n",
       "      <td>36</td>\n",
       "      <td>1</td>\n",
       "      <td>3.0</td>\n",
       "      <td>0</td>\n",
       "      <td>1-2 Year</td>\n",
       "      <td>Yes</td>\n",
       "      <td>18090.0</td>\n",
       "      <td>124.0</td>\n",
       "      <td>159</td>\n",
       "      <td>1</td>\n",
       "    </tr>\n",
       "    <tr>\n",
       "      <th>1150475</th>\n",
       "      <td>11504738</td>\n",
       "      <td>Male</td>\n",
       "      <td>24</td>\n",
       "      <td>1</td>\n",
       "      <td>17.0</td>\n",
       "      <td>0</td>\n",
       "      <td>&lt; 1 Year</td>\n",
       "      <td>Yes</td>\n",
       "      <td>2630.0</td>\n",
       "      <td>160.0</td>\n",
       "      <td>105</td>\n",
       "      <td>0</td>\n",
       "    </tr>\n",
       "    <tr>\n",
       "      <th>1150476</th>\n",
       "      <td>11504771</td>\n",
       "      <td>Male</td>\n",
       "      <td>32</td>\n",
       "      <td>1</td>\n",
       "      <td>44.0</td>\n",
       "      <td>0</td>\n",
       "      <td>1-2 Year</td>\n",
       "      <td>Yes</td>\n",
       "      <td>2630.0</td>\n",
       "      <td>26.0</td>\n",
       "      <td>270</td>\n",
       "      <td>0</td>\n",
       "    </tr>\n",
       "    <tr>\n",
       "      <th>1150477</th>\n",
       "      <td>11504777</td>\n",
       "      <td>Male</td>\n",
       "      <td>42</td>\n",
       "      <td>1</td>\n",
       "      <td>3.0</td>\n",
       "      <td>0</td>\n",
       "      <td>1-2 Year</td>\n",
       "      <td>Yes</td>\n",
       "      <td>47788.0</td>\n",
       "      <td>26.0</td>\n",
       "      <td>283</td>\n",
       "      <td>0</td>\n",
       "    </tr>\n",
       "    <tr>\n",
       "      <th>1150478</th>\n",
       "      <td>11504793</td>\n",
       "      <td>Male</td>\n",
       "      <td>48</td>\n",
       "      <td>1</td>\n",
       "      <td>6.0</td>\n",
       "      <td>0</td>\n",
       "      <td>1-2 Year</td>\n",
       "      <td>Yes</td>\n",
       "      <td>27412.0</td>\n",
       "      <td>26.0</td>\n",
       "      <td>218</td>\n",
       "      <td>0</td>\n",
       "    </tr>\n",
       "  </tbody>\n",
       "</table>\n",
       "<p>1150479 rows × 12 columns</p>\n",
       "</div>"
      ]
     },
     "execution_count": 2,
     "metadata": {},
     "output_type": "execute_result"
    }
   ],
   "execution_count": 2
  },
  {
   "metadata": {
    "ExecuteTime": {
     "end_time": "2024-07-28T10:34:50.992789Z",
     "start_time": "2024-07-28T10:34:50.975078Z"
    }
   },
   "cell_type": "code",
   "source": "train.info()",
   "id": "7e51d62d8c903a02",
   "outputs": [
    {
     "name": "stdout",
     "output_type": "stream",
     "text": [
      "<class 'pandas.core.frame.DataFrame'>\n",
      "RangeIndex: 11504798 entries, 0 to 11504797\n",
      "Data columns (total 12 columns):\n",
      " #   Column                Dtype  \n",
      "---  ------                -----  \n",
      " 0   id                    int64  \n",
      " 1   Gender                object \n",
      " 2   Age                   int64  \n",
      " 3   Driving_License       int64  \n",
      " 4   Region_Code           float64\n",
      " 5   Previously_Insured    int64  \n",
      " 6   Vehicle_Age           object \n",
      " 7   Vehicle_Damage        object \n",
      " 8   Annual_Premium        float64\n",
      " 9   Policy_Sales_Channel  float64\n",
      " 10  Vintage               int64  \n",
      " 11  Response              int64  \n",
      "dtypes: float64(3), int64(6), object(3)\n",
      "memory usage: 1.0+ GB\n"
     ]
    }
   ],
   "execution_count": 3
  },
  {
   "metadata": {},
   "cell_type": "markdown",
   "source": " # Reduce Memory",
   "id": "dc122fb1be708190"
  },
  {
   "metadata": {},
   "cell_type": "markdown",
   "source": "To reduce memory load we'll change some column types to more memory-friendly formats. ",
   "id": "939a794bef4c7c8a"
  },
  {
   "metadata": {
    "ExecuteTime": {
     "end_time": "2024-07-28T10:34:58.018458Z",
     "start_time": "2024-07-28T10:34:50.994848Z"
    }
   },
   "cell_type": "code",
   "source": [
    "# drop id\n",
    "train = train.drop('id', axis = 1)\n",
    "\n",
    "# convert obj to cat\n",
    "categorical = [\"Region_Code\", \"Policy_Sales_Channel\", \"Gender\", \"Vehicle_Damage\", \"Vehicle_Age\"]\n",
    "train[[\"Region_Code\", \"Policy_Sales_Channel\"]] = train[[\"Region_Code\", \"Policy_Sales_Channel\"]].astype('int32')\n",
    "train[categorical] = train[categorical].astype(\"category\")\n",
    "\n",
    "# train sample\n",
    "train[[\"Region_Code\", \"Policy_Sales_Channel\"]] = train[[\"Region_Code\", \"Policy_Sales_Channel\"]].astype('int32')\n",
    "train[categorical] = train[categorical].astype(\"category\")\n",
    "\n",
    "# convert numerics into int 32 \n",
    "\n",
    "import numpy as np\n",
    "# integer\n",
    "d = dict.fromkeys(train.select_dtypes(np.int64).columns, np.int32)\n",
    "train = train.astype(d)\n",
    "\n",
    "# float\n",
    "d2 = dict.fromkeys(train.select_dtypes(np.float64).columns, np.int32)\n",
    "train = train.astype(d2)"
   ],
   "id": "5564678fce98f394",
   "outputs": [],
   "execution_count": 4
  },
  {
   "metadata": {},
   "cell_type": "markdown",
   "source": "## Sample",
   "id": "3b20af278f733276"
  },
  {
   "metadata": {
    "ExecuteTime": {
     "end_time": "2024-07-28T10:34:58.698706Z",
     "start_time": "2024-07-28T10:34:58.022067Z"
    }
   },
   "cell_type": "code",
   "source": [
    "train_sample = train_sample.drop('id', axis = 1)\n",
    "\n",
    "# convert obj to cat\n",
    "train_sample[[\"Region_Code\", \"Policy_Sales_Channel\"]] = train_sample[[\"Region_Code\", \"Policy_Sales_Channel\"]].astype('int64')\n",
    "train_sample[categorical] = train_sample[categorical].astype(\"category\")\n",
    "\n",
    "# train_sample sample\n",
    "train_sample[[\"Region_Code\", \"Policy_Sales_Channel\"]] = train_sample[[\"Region_Code\", \"Policy_Sales_Channel\"]].astype('int64')\n",
    "train_sample[categorical] = train_sample[categorical].astype(\"category\")\n",
    "\n",
    "# convert numerics into int 32 \n",
    "\n",
    "import numpy as np\n",
    "# integer\n",
    "d = dict.fromkeys(train_sample.select_dtypes(np.int64).columns, np.int64)\n",
    "train_sample = train_sample.astype(d)\n",
    "\n",
    "# float\n",
    "d2 = dict.fromkeys(train_sample.select_dtypes(np.float64).columns, np.int64)\n",
    "train_sample = train_sample.astype(d2)\n"
   ],
   "id": "20e27bd6950372fd",
   "outputs": [],
   "execution_count": 5
  },
  {
   "metadata": {},
   "cell_type": "markdown",
   "source": "# Split",
   "id": "9172269f5b1c1d82"
  },
  {
   "metadata": {
    "ExecuteTime": {
     "end_time": "2024-07-28T10:35:12.169074Z",
     "start_time": "2024-07-28T10:34:58.700603Z"
    }
   },
   "cell_type": "code",
   "source": [
    "from sklearn.model_selection import train_test_split\n",
    "X = train.drop(\"Response\", axis = 1)\n",
    "y = train[\"Response\"]\n",
    "\n",
    "\n",
    "X_train, X_val, y_train, y_val = train_test_split(X,y,\n",
    "                                                    test_size = 0.2,\n",
    "                                                    random_state = 42,\n",
    "                                                    stratify = y)"
   ],
   "id": "2e754827e1aa7331",
   "outputs": [],
   "execution_count": 6
  },
  {
   "metadata": {},
   "cell_type": "markdown",
   "source": "## Sample",
   "id": "37e090ed557f3bd"
  },
  {
   "metadata": {
    "ExecuteTime": {
     "end_time": "2024-07-28T10:35:13.664948Z",
     "start_time": "2024-07-28T10:35:12.175909Z"
    }
   },
   "cell_type": "code",
   "source": [
    "Xs = train_sample.drop(\"Response\", axis = 1)\n",
    "ys = train_sample[\"Response\"]\n",
    "\n",
    "\n",
    "Xs_train, Xs_val, ys_train, ys_val = train_test_split(Xs,ys,\n",
    "                                                    test_size = 0.2,\n",
    "                                                    random_state = 42,\n",
    "                                                    stratify = ys)"
   ],
   "id": "a2a67dd5c67bdb7c",
   "outputs": [],
   "execution_count": 7
  },
  {
   "metadata": {},
   "cell_type": "markdown",
   "source": "",
   "id": "3ff0460cddd310a1"
  },
  {
   "metadata": {},
   "cell_type": "markdown",
   "source": "# Preprocessing",
   "id": "e090cae65b8cf5de"
  },
  {
   "metadata": {},
   "cell_type": "markdown",
   "source": "## Column groups",
   "id": "3d1d84f73af1e1f3"
  },
  {
   "metadata": {
    "ExecuteTime": {
     "end_time": "2024-07-28T10:35:13.732447Z",
     "start_time": "2024-07-28T10:35:13.667453Z"
    }
   },
   "cell_type": "code",
   "source": [
    "unique_values = Xs_train.select_dtypes(include = ['object', 'category']).nunique()\n",
    "\n",
    "binary_cat = unique_values.index[unique_values == 2].tolist()\n",
    "ordinal_cat = [\"Vehicle_Age\"]\n",
    "target_cat = unique_values.index[unique_values > 20].tolist()\n",
    "categorical = Xs_train.select_dtypes(include = ['object', 'category']).columns.values.tolist()\n",
    "categorical.remove(\"Vehicle_Age\")\n",
    "nominal_cat = list(set(categorical).difference(binary_cat))\n",
    "\n",
    "vehicle_age_categories = ['< 1 Year', '1-2 Year', '> 2 Years']\n",
    "\n",
    "# numerical transformer\n",
    "num_col = ['Age','Annual_Premium','Vintage']\n"
   ],
   "id": "d0b5a877316369f3",
   "outputs": [],
   "execution_count": 8
  },
  {
   "metadata": {},
   "cell_type": "markdown",
   "source": "## Encoders",
   "id": "3bc3cfc852c8a1c1"
  },
  {
   "metadata": {
    "ExecuteTime": {
     "end_time": "2024-07-28T10:35:13.954766Z",
     "start_time": "2024-07-28T10:35:13.735679Z"
    }
   },
   "cell_type": "code",
   "source": [
    "from sklearn.preprocessing import OrdinalEncoder\n",
    "from sklearn.pipeline import Pipeline\n",
    "from sklearn.preprocessing import OneHotEncoder\n",
    "from sklearn.preprocessing import StandardScaler\n",
    "from category_encoders import TargetEncoder\n",
    "from category_encoders import BinaryEncoder\n",
    "\n",
    "# ordinal encoder\n",
    "ordinal = Pipeline(steps=[\n",
    "    (\"ordinal\", OrdinalEncoder(categories=[['< 1 Year', '1-2 Year', '> 2 Years']])),\n",
    "])\n",
    "# target encoder\n",
    "target = Pipeline(steps=[\n",
    "    (\"target\", TargetEncoder()),\n",
    "])\n",
    "\n",
    "# ohe encoder\n",
    "ohe  = Pipeline(steps=[\n",
    "    (\"ohe\", OneHotEncoder(handle_unknown= 'ignore')),\n",
    "])\n",
    "\n",
    "# dummy encoder\n",
    "binary = Pipeline(steps=[\n",
    "    (\"dummy\",BinaryEncoder()),\n",
    "])\n",
    "\n",
    "num_pipe = Pipeline(steps=[\n",
    "    (\"standardize\", StandardScaler()) # standardize\n",
    "])\n"
   ],
   "id": "30bba746308d34b4",
   "outputs": [],
   "execution_count": 9
  },
  {
   "metadata": {},
   "cell_type": "markdown",
   "source": "## Preprocessing pipe",
   "id": "44ed9ee7690a8ea5"
  },
  {
   "metadata": {
    "ExecuteTime": {
     "end_time": "2024-07-28T10:35:13.970859Z",
     "start_time": "2024-07-28T10:35:13.957981Z"
    }
   },
   "cell_type": "code",
   "source": [
    "from sklearn.compose import ColumnTransformer\n",
    "\n",
    "default = ColumnTransformer(\n",
    "    transformers=[\n",
    "        (\"ord\", ordinal, ordinal_cat),\n",
    "        (\"dummy\", binary, binary_cat),\n",
    "        (\"num\", num_pipe, num_col),\n",
    "        (\"target\",target, nominal_cat)\n",
    "    ],\n",
    "    remainder = \"passthrough\"\n",
    "    \n",
    ")"
   ],
   "id": "3d1a6dd95ca0233",
   "outputs": [],
   "execution_count": 10
  },
  {
   "metadata": {
    "ExecuteTime": {
     "end_time": "2024-07-28T20:20:24.506059Z",
     "start_time": "2024-07-28T20:20:24.284170Z"
    }
   },
   "cell_type": "code",
   "source": [
    "from sklearn.ensemble import RandomForestClassifier\n",
    "\n",
    "rf = RandomForestClassifier(verbose = 2, n_jobs = -1, random_state = 42,class_weight = \"balanced_subsample\") \n",
    "\n",
    "default_rf = Pipeline(steps=[\n",
    "          ('column_tran',default),\n",
    "          ('model',rf)\n",
    "     ])"
   ],
   "id": "5f3d34073b1371b9",
   "outputs": [],
   "execution_count": 24
  },
  {
   "metadata": {
    "ExecuteTime": {
     "end_time": "2024-07-28T20:21:34.447517Z",
     "start_time": "2024-07-28T20:20:26.411669Z"
    }
   },
   "cell_type": "code",
   "source": [
    "default_rf.fit(Xs_train, ys_train)\n",
    "pred_default_rf = default_rf.predict(Xs_val)"
   ],
   "id": "d0029de1dd598c5b",
   "outputs": [
    {
     "name": "stderr",
     "output_type": "stream",
     "text": [
      "[Parallel(n_jobs=-1)]: Using backend ThreadingBackend with 8 concurrent workers.\n"
     ]
    },
    {
     "name": "stdout",
     "output_type": "stream",
     "text": [
      "building tree 1 of 100building tree 2 of 100\n",
      "\n",
      "building tree 3 of 100\n",
      "building tree 4 of 100\n",
      "building tree 5 of 100\n",
      "building tree 6 of 100\n",
      "building tree 7 of 100\n",
      "building tree 8 of 100\n",
      "building tree 9 of 100\n",
      "building tree 10 of 100\n",
      "building tree 11 of 100\n",
      "building tree 12 of 100\n",
      "building tree 13 of 100\n",
      "building tree 14 of 100\n",
      "building tree 15 of 100\n",
      "building tree 16 of 100\n",
      "building tree 17 of 100\n",
      "building tree 18 of 100\n",
      "building tree 19 of 100\n",
      "building tree 20 of 100\n",
      "building tree 21 of 100\n",
      "building tree 22 of 100\n",
      "building tree 23 of 100\n",
      "building tree 24 of 100\n",
      "building tree 25 of 100\n",
      "building tree 26 of 100\n",
      "building tree 27 of 100\n",
      "building tree 28 of 100\n",
      "building tree 29 of 100building tree 30 of 100\n",
      "\n",
      "building tree 31 of 100\n",
      "building tree 32 of 100\n",
      "building tree 33 of 100\n",
      "building tree 34 of 100\n"
     ]
    },
    {
     "name": "stderr",
     "output_type": "stream",
     "text": [
      "[Parallel(n_jobs=-1)]: Done  25 tasks      | elapsed:   17.5s\n"
     ]
    },
    {
     "name": "stdout",
     "output_type": "stream",
     "text": [
      "building tree 35 of 100\n",
      "building tree 36 of 100\n",
      "building tree 37 of 100\n",
      "building tree 38 of 100\n",
      "building tree 39 of 100\n",
      "building tree 40 of 100\n",
      "building tree 41 of 100\n",
      "building tree 42 of 100\n",
      "building tree 43 of 100building tree 44 of 100\n",
      "building tree 45 of 100\n",
      "building tree 46 of 100\n",
      "\n",
      "building tree 47 of 100\n",
      "building tree 48 of 100\n",
      "building tree 49 of 100\n",
      "building tree 50 of 100\n",
      "building tree 51 of 100building tree 52 of 100\n",
      "building tree 53 of 100building tree 54 of 100\n",
      "\n",
      "\n",
      "building tree 55 of 100\n",
      "building tree 56 of 100\n",
      "building tree 57 of 100\n",
      "building tree 58 of 100\n",
      "building tree 59 of 100\n",
      "building tree 60 of 100\n",
      "building tree 61 of 100\n",
      "building tree 62 of 100\n",
      "building tree 63 of 100\n",
      "building tree 64 of 100\n",
      "building tree 65 of 100\n",
      "building tree 66 of 100\n",
      "building tree 67 of 100\n",
      "building tree 68 of 100\n",
      "building tree 69 of 100\n",
      "building tree 70 of 100\n",
      "building tree 71 of 100\n",
      "building tree 72 of 100\n",
      "building tree 73 of 100\n",
      "building tree 74 of 100\n",
      "building tree 75 of 100building tree 76 of 100\n",
      "\n",
      "building tree 77 of 100\n",
      "building tree 78 of 100\n",
      "building tree 79 of 100\n",
      "building tree 80 of 100\n",
      "building tree 81 of 100\n",
      "building tree 82 of 100\n",
      "building tree 83 of 100\n",
      "building tree 84 of 100\n",
      "building tree 85 of 100\n",
      "building tree 86 of 100\n",
      "building tree 87 of 100\n",
      "building tree 88 of 100\n",
      "building tree 89 of 100\n",
      "building tree 90 of 100\n",
      "building tree 91 of 100\n",
      "building tree 92 of 100\n",
      "building tree 93 of 100\n",
      "building tree 94 of 100\n",
      "building tree 95 of 100building tree 96 of 100\n",
      "\n",
      "building tree 97 of 100\n",
      "building tree 98 of 100\n",
      "building tree 99 of 100\n",
      "building tree 100 of 100\n"
     ]
    },
    {
     "name": "stderr",
     "output_type": "stream",
     "text": [
      "[Parallel(n_jobs=-1)]: Done 100 out of 100 | elapsed:  1.0min finished\n",
      "[Parallel(n_jobs=8)]: Using backend ThreadingBackend with 8 concurrent workers.\n",
      "[Parallel(n_jobs=8)]: Done  25 tasks      | elapsed:    1.1s\n",
      "[Parallel(n_jobs=8)]: Done 100 out of 100 | elapsed:    3.3s finished\n"
     ]
    }
   ],
   "execution_count": 25
  },
  {
   "metadata": {},
   "cell_type": "markdown",
   "source": "# Default model",
   "id": "a2842032274fb180"
  },
  {
   "metadata": {},
   "cell_type": "markdown",
   "source": "## Performance",
   "id": "47f4d7b30fd90b1"
  },
  {
   "metadata": {
    "ExecuteTime": {
     "end_time": "2024-07-28T20:21:41.804198Z",
     "start_time": "2024-07-28T20:21:41.521998Z"
    }
   },
   "cell_type": "code",
   "source": [
    "from sklearn.metrics import precision_score,accuracy_score,recall_score,f1_score\n",
    "acc = accuracy_score(ys_val,pred_default_rf )\n",
    "ps = precision_score(ys_val, pred_default_rf)\n",
    "rec = recall_score(ys_val,pred_default_rf)\n",
    "f1 = f1_score(ys_val, pred_default_rf)\n",
    "acc , ps ,rec, f1"
   ],
   "id": "1724e672b36adeb0",
   "outputs": [],
   "execution_count": null
  },
  {
   "metadata": {
    "ExecuteTime": {
     "end_time": "2024-07-28T22:13:04.760328Z",
     "start_time": "2024-07-28T22:13:04.751986Z"
    }
   },
   "cell_type": "code",
   "source": "default_rf['model'].get_params()",
   "id": "3aa0e0eba79ab9cf",
   "outputs": [
    {
     "data": {
      "text/plain": [
       "{'bootstrap': True,\n",
       " 'ccp_alpha': 0.0,\n",
       " 'class_weight': 'balanced_subsample',\n",
       " 'criterion': 'gini',\n",
       " 'max_depth': None,\n",
       " 'max_features': 'sqrt',\n",
       " 'max_leaf_nodes': None,\n",
       " 'max_samples': None,\n",
       " 'min_impurity_decrease': 0.0,\n",
       " 'min_samples_leaf': 1,\n",
       " 'min_samples_split': 2,\n",
       " 'min_weight_fraction_leaf': 0.0,\n",
       " 'monotonic_cst': None,\n",
       " 'n_estimators': 100,\n",
       " 'n_jobs': -1,\n",
       " 'oob_score': False,\n",
       " 'random_state': 42,\n",
       " 'verbose': 2,\n",
       " 'warm_start': False}"
      ]
     },
     "execution_count": 35,
     "metadata": {},
     "output_type": "execute_result"
    }
   ],
   "execution_count": 35
  },
  {
   "metadata": {},
   "cell_type": "markdown",
   "source": "Our default random forest has a 86.7% accuracy, a little lower than our naive model run. Looking back, I believe that both nominal variables (Policy_Sales_Channel, Region_Code) were both ignored in the previous notebook. This performance difference is likely due to our explicit target-encoding of these two variables. Let's look at other details of the default.",
   "id": "8308d04f60d40e52"
  },
  {
   "metadata": {},
   "cell_type": "markdown",
   "source": "## Depth",
   "id": "1db8b21e314991f6"
  },
  {
   "metadata": {
    "ExecuteTime": {
     "end_time": "2024-07-28T20:21:50.887149Z",
     "start_time": "2024-07-28T20:21:50.416826Z"
    }
   },
   "cell_type": "code",
   "source": [
    "max_depth = list()\n",
    "\n",
    "for tree in default_rf['model'].estimators_:\n",
    "    max_depth.append(tree.tree_.max_depth)\n",
    "\n",
    "print(\"avg max depth %0.1f\" % (sum(max_depth) / len(max_depth)))\n",
    "\n",
    "import seaborn as sns\n",
    "sns.histplot(data = max_depth)"
   ],
   "id": "e6ec3012ee6b7cbd",
   "outputs": [
    {
     "name": "stdout",
     "output_type": "stream",
     "text": [
      "avg max depth 62.9\n"
     ]
    },
    {
     "data": {
      "text/plain": [
       "<Axes: ylabel='Count'>"
      ]
     },
     "execution_count": 27,
     "metadata": {},
     "output_type": "execute_result"
    },
    {
     "data": {
      "text/plain": [
       "<Figure size 640x480 with 1 Axes>"
      ],
      "image/png": "[encoded data removed]"
     },
     "metadata": {},
     "output_type": "display_data"
    }
   ],
   "execution_count": 27
  },
  {
   "metadata": {
    "ExecuteTime": {
     "end_time": "2024-07-28T20:21:58.915763Z",
     "start_time": "2024-07-28T20:21:58.660541Z"
    }
   },
   "cell_type": "code",
   "source": [
    "import matplotlib.pyplot as plt\n",
    "from sklearn.metrics import RocCurveDisplay\n",
    "ax = plt.gca()\n",
    "rfc_disp = RocCurveDisplay.from_predictions(pred_default_rf, ys_val, ax=ax)\n",
    "plt.show()"
   ],
   "id": "3538cd7112852f4f",
   "outputs": [
    {
     "data": {
      "text/plain": [
       "<Figure size 640x480 with 1 Axes>"
      ],
      "image/png": "[encoded data removed]"
     },
     "metadata": {},
     "output_type": "display_data"
    }
   ],
   "execution_count": 28
  },
  {
   "metadata": {},
   "cell_type": "markdown",
   "source": "# Model tuning",
   "id": "deb9fcd91d4f8934"
  },
  {
   "metadata": {},
   "cell_type": "markdown",
   "source": [
    "Now that we have our baseline random forest model, let's try tuning a model and see if it does better! Hyperoptimization can be done in several ways, including but not limited to:\n",
    "- Grid search: We specify a finite set of values for each hyperparameter and the grid search evaluates a cartesian product of these values. The method is limited to the values we define and since the grid search evaluates all combinations, this method suffers from dimensionality of our hyperparameter space.\n",
    "- Random search: We also specify a finite set of values. However, random search will evaluate combinations, well, randomly until a stopping criteria is met. This is useful for trying out varying combinations of our hypothesized values to test what seems to work. This is typically be used to start an optimization process by finding promising values and then fine-tuning with a grid search around those initial values. \n",
    "- Bayesian Optimization: We define a range of hyperparameter values and this method uses a function to determine which combination to test each round. Specifically, we define an 'objective' function (eg accuracy) that is then approximated by Bayesian Optimizer as a probability model. This probability model is then used to estimate the next selections of hyperparameters values that yield the highest Expected Improvement. If you want to learn more about how this is done, you can check out Tree Parzen Estimators (TPE)(https://towardsdatascience.com/bayesian-optimization-concept-explained-in-layman-terms-1d2bcdeaf12f) and the (Hyperopt)[https://hyperopt.github.io/hyperopt/ ] documentation.\n",
    "\n"
   ],
   "id": "f42f3c3bb01d9d6"
  },
  {
   "metadata": {
    "ExecuteTime": {
     "end_time": "2024-07-28T10:37:12.652363Z",
     "start_time": "2024-07-28T10:37:06.191199Z"
    }
   },
   "cell_type": "code",
   "source": "default.fit(Xs_train, ys_train)",
   "id": "eb37be96aeeb5a2a",
   "outputs": [],
   "execution_count": null
  },
  {
   "metadata": {
    "ExecuteTime": {
     "end_time": "2024-07-28T20:36:41.897988Z",
     "start_time": "2024-07-28T20:31:15.889609Z"
    }
   },
   "cell_type": "code",
   "source": [
    "from sklearn.model_selection import cross_validate\n",
    "scoring = {'prec_macro': 'precision_macro',\n",
    "               'accuracy': 'accuracy',\n",
    "               'rec_macro': 'recall_macro',\n",
    "               'f1_macro': 'f1_macro'}\n",
    "cv = StratifiedKFold(n_splits=5)\n",
    "scores = cross_validate(default_rf, Xs_train, ys_train, scoring=scoring,\n",
    "                            cv=cv, return_train_score=True)"
   ],
   "id": "8873ceadbd79b46d",
   "outputs": [],
   "execution_count": null
  },
  {
   "metadata": {
    "ExecuteTime": {
     "end_time": "2024-07-28T20:37:56.581258Z",
     "start_time": "2024-07-28T20:37:56.567613Z"
    }
   },
   "cell_type": "code",
   "source": "scores",
   "id": "aea38a00f22555b6",
   "outputs": [],
   "execution_count": null
  },
  {
   "metadata": {},
   "cell_type": "code",
   "outputs": [],
   "execution_count": null,
   "source": [
    "grid_space={'max_depth':[3,5,10,None],\n",
    "              'n_estimators':[10,100,200],\n",
    "              'max_features':[1,3,5,7],\n",
    "              'min_samples_leaf':[1,2,3],\n",
    "              'min_samples_split':[1,2,3]\n",
    "           }"
   ],
   "id": "7d2d60c8ca9a1ec0"
  },
  {
   "metadata": {},
   "cell_type": "code",
   "outputs": [
    {
     "data": {
      "text/plain": [
       "{'fit_time': array([48.02896786, 51.91205001, 52.74810386, 53.7912693 , 54.28028917]),\n",
       " 'score_time': array([3.56469893, 2.66041183, 2.22732997, 2.08008385, 2.14721203]),\n",
       " 'test_prec_macro': array([0.64613199, 0.6467409 , 0.64735234, 0.64605539, 0.64472924]),\n",
       " 'train_prec_macro': array([0.99998374, 0.99998684, 0.99998142, 0.99998838, 0.99998529]),\n",
       " 'test_accuracy': array([0.86808781, 0.86852241, 0.86856587, 0.86822834, 0.8683044 ]),\n",
       " 'train_accuracy': array([0.99997148, 0.99997691, 0.9999674 , 0.99997963, 0.9999742 ]),\n",
       " 'test_rec_macro': array([0.55844362, 0.55679379, 0.55736881, 0.55755635, 0.55539866]),\n",
       " 'train_rec_macro': array([0.99988412, 0.99990619, 0.99986757, 0.99991723, 0.99989516]),\n",
       " 'test_f1_macro': array([0.57201861, 0.5698945 , 0.57067233, 0.5708655 , 0.56798035]),\n",
       " 'train_f1_macro': array([0.99993392, 0.99994651, 0.99992448, 0.9999528 , 0.99994022])}"
      ]
     },
     "execution_count": 31,
     "metadata": {},
     "output_type": "execute_result"
    }
   ],
   "execution_count": 31,
   "source": "",
   "id": "cb31bf0023980813"
  },
  {
   "metadata": {
    "ExecuteTime": {
     "end_time": "2024-07-28T23:42:31.594879Z",
     "start_time": "2024-07-28T23:16:53.934918Z"
    }
   },
   "cell_type": "code",
   "source": [
    "from hyperopt import Trials, STATUS_OK, tpe, hp, fmin, STATUS_FAIL, space_eval\n",
    "from sklearn.model_selection import KFold, cross_val_score, train_test_split\n",
    "from hyperopt import hp, fmin, tpe, STATUS_OK, Trials\n",
    "from hyperopt.early_stop import no_progress_loss\n",
    "from sklearn.metrics import make_scorer\n",
    "from sklearn.model_selection import cross_validate, StratifiedKFold\n",
    "import numpy as np\n",
    "\n",
    "Xs_trans = default.transform(Xs_train)\n",
    "space = {'criterion': hp.choice('criterion', ['entropy', 'gini']),\n",
    "        'max_depth': hp.choice('max_depth', np.arange(20, 120,dtype=int)),\n",
    "        'max_features': hp.choice('max_features', ['sqrt','log2',0.25,.5,.75, None]),\n",
    "        'min_samples_leaf': hp.uniform ('min_samples_leaf', 0, 0.5),\n",
    "        'min_samples_split' : hp.uniform ('min_samples_split', 0, 1),\n",
    "        'n_estimators' : hp.choice('n_estimators', np.arange(100, 1000 ,dtype=int))\n",
    "    }\n",
    "\n",
    "def objective(space):\n",
    "    model = RandomForestClassifier(criterion = space['criterion'], \n",
    "                                   n_jobs = -1, random_state = 42,\n",
    "                                   max_depth = space['max_depth'],\n",
    "                                 max_features = space['max_features'],\n",
    "                                    class_weight= 'balanced_subsample',\n",
    "                                 min_samples_leaf = space['min_samples_leaf'],\n",
    "                                 min_samples_split = space['min_samples_split'],\n",
    "                                 n_estimators = space['n_estimators'], \n",
    "                                 )\n",
    "    cv = StratifiedKFold(n_splits=5)\n",
    "    scoring = {'prec_macro': 'precision_macro',\n",
    "               'accuracy': 'accuracy',\n",
    "               'rec_macro': 'recall_macro',\n",
    "               'f1_macro': 'f1_macro'}\n",
    "    scores = cross_validate(model, Xs_trans, ys_train, scoring=scoring,\n",
    "                            cv=cv, return_train_score=True)\n",
    "    accuracy = scores['train_accuracy'].mean()\n",
    "    precision = scores['train_prec_macro'].mean()\n",
    "    recall = scores['train_rec_macro'].mean()\n",
    "    f1 = scores['train_f1_macro'].mean()\n",
    "    loss = (1 - accuracy) * (1 - precision) \n",
    "    # accuracy = cross_val_score(model, xs_trans, ys_train, cv = 4).mean()\n",
    "    # We aim to maximize accuracy, therefore we return it as a negative value\n",
    "    return {'loss': loss, 'status': STATUS_OK , 'accuracy': accuracy, 'precision': precision, 'recall': recall,'f1':f1 }\n",
    "    \n",
    "trials = Trials()\n",
    "best = fmin(fn= objective,\n",
    "            space= space,\n",
    "            algo= tpe.suggest,\n",
    "            max_evals = 10,\n",
    "            early_stop_fn=no_progress_loss(3),\n",
    "            trials= trials)\n",
    "best"
   ],
   "id": "1c0ccab22c5a71fe",
   "outputs": [
    {
     "name": "stdout",
     "output_type": "stream",
     "text": [
      " 10%|█         | 1/10 [07:27<1:07:09, 447.74s/trial, best loss: 0.11397475994939452]"
     ]
    },
    {
     "name": "stderr",
     "output_type": "stream",
     "text": [
      "/Library/Frameworks/Python.framework/Versions/3.10/lib/python3.10/site-packages/sklearn/metrics/_classification.py:1531: UndefinedMetricWarning: Precision is ill-defined and being set to 0.0 in labels with no predicted samples. Use `zero_division` parameter to control this behavior.\n",
      "  _warn_prf(average, modifier, f\"{metric.capitalize()} is\", len(result))\n",
      "\n",
      "/Library/Frameworks/Python.framework/Versions/3.10/lib/python3.10/site-packages/sklearn/metrics/_classification.py:1531: UndefinedMetricWarning: Precision is ill-defined and being set to 0.0 in labels with no predicted samples. Use `zero_division` parameter to control this behavior.\n",
      "  _warn_prf(average, modifier, f\"{metric.capitalize()} is\", len(result))\n",
      "\n",
      "/Library/Frameworks/Python.framework/Versions/3.10/lib/python3.10/site-packages/sklearn/metrics/_classification.py:1531: UndefinedMetricWarning: Precision is ill-defined and being set to 0.0 in labels with no predicted samples. Use `zero_division` parameter to control this behavior.\n",
      "  _warn_prf(average, modifier, f\"{metric.capitalize()} is\", len(result))\n",
      "\n",
      "/Library/Frameworks/Python.framework/Versions/3.10/lib/python3.10/site-packages/sklearn/metrics/_classification.py:1531: UndefinedMetricWarning: Precision is ill-defined and being set to 0.0 in labels with no predicted samples. Use `zero_division` parameter to control this behavior.\n",
      "  _warn_prf(average, modifier, f\"{metric.capitalize()} is\", len(result))\n",
      "\n",
      "/Library/Frameworks/Python.framework/Versions/3.10/lib/python3.10/site-packages/sklearn/metrics/_classification.py:1531: UndefinedMetricWarning: Precision is ill-defined and being set to 0.0 in labels with no predicted samples. Use `zero_division` parameter to control this behavior.\n",
      "  _warn_prf(average, modifier, f\"{metric.capitalize()} is\", len(result))\n",
      "\n",
      "/Library/Frameworks/Python.framework/Versions/3.10/lib/python3.10/site-packages/sklearn/metrics/_classification.py:1531: UndefinedMetricWarning: Precision is ill-defined and being set to 0.0 in labels with no predicted samples. Use `zero_division` parameter to control this behavior.\n",
      "  _warn_prf(average, modifier, f\"{metric.capitalize()} is\", len(result))\n",
      "\n",
      "/Library/Frameworks/Python.framework/Versions/3.10/lib/python3.10/site-packages/sklearn/metrics/_classification.py:1531: UndefinedMetricWarning: Precision is ill-defined and being set to 0.0 in labels with no predicted samples. Use `zero_division` parameter to control this behavior.\n",
      "  _warn_prf(average, modifier, f\"{metric.capitalize()} is\", len(result))\n",
      "\n",
      "/Library/Frameworks/Python.framework/Versions/3.10/lib/python3.10/site-packages/sklearn/metrics/_classification.py:1531: UndefinedMetricWarning: Precision is ill-defined and being set to 0.0 in labels with no predicted samples. Use `zero_division` parameter to control this behavior.\n",
      "  _warn_prf(average, modifier, f\"{metric.capitalize()} is\", len(result))\n",
      "\n",
      "/Library/Frameworks/Python.framework/Versions/3.10/lib/python3.10/site-packages/sklearn/metrics/_classification.py:1531: UndefinedMetricWarning: Precision is ill-defined and being set to 0.0 in labels with no predicted samples. Use `zero_division` parameter to control this behavior.\n",
      "  _warn_prf(average, modifier, f\"{metric.capitalize()} is\", len(result))\n",
      "\n",
      "/Library/Frameworks/Python.framework/Versions/3.10/lib/python3.10/site-packages/sklearn/metrics/_classification.py:1531: UndefinedMetricWarning: Precision is ill-defined and being set to 0.0 in labels with no predicted samples. Use `zero_division` parameter to control this behavior.\n",
      "  _warn_prf(average, modifier, f\"{metric.capitalize()} is\", len(result))\n",
      "\n"
     ]
    },
    {
     "name": "stdout",
     "output_type": "stream",
     "text": [
      " 20%|██        | 2/10 [16:45<1:08:19, 512.45s/trial, best loss: 0.11397475994939452]"
     ]
    },
    {
     "name": "stderr",
     "output_type": "stream",
     "text": [
      "/Library/Frameworks/Python.framework/Versions/3.10/lib/python3.10/site-packages/sklearn/metrics/_classification.py:1531: UndefinedMetricWarning: Precision is ill-defined and being set to 0.0 in labels with no predicted samples. Use `zero_division` parameter to control this behavior.\n",
      "  _warn_prf(average, modifier, f\"{metric.capitalize()} is\", len(result))\n",
      "\n",
      "/Library/Frameworks/Python.framework/Versions/3.10/lib/python3.10/site-packages/sklearn/metrics/_classification.py:1531: UndefinedMetricWarning: Precision is ill-defined and being set to 0.0 in labels with no predicted samples. Use `zero_division` parameter to control this behavior.\n",
      "  _warn_prf(average, modifier, f\"{metric.capitalize()} is\", len(result))\n",
      "\n",
      "/Library/Frameworks/Python.framework/Versions/3.10/lib/python3.10/site-packages/sklearn/metrics/_classification.py:1531: UndefinedMetricWarning: Precision is ill-defined and being set to 0.0 in labels with no predicted samples. Use `zero_division` parameter to control this behavior.\n",
      "  _warn_prf(average, modifier, f\"{metric.capitalize()} is\", len(result))\n",
      "\n",
      "/Library/Frameworks/Python.framework/Versions/3.10/lib/python3.10/site-packages/sklearn/metrics/_classification.py:1531: UndefinedMetricWarning: Precision is ill-defined and being set to 0.0 in labels with no predicted samples. Use `zero_division` parameter to control this behavior.\n",
      "  _warn_prf(average, modifier, f\"{metric.capitalize()} is\", len(result))\n",
      "\n",
      "/Library/Frameworks/Python.framework/Versions/3.10/lib/python3.10/site-packages/sklearn/metrics/_classification.py:1531: UndefinedMetricWarning: Precision is ill-defined and being set to 0.0 in labels with no predicted samples. Use `zero_division` parameter to control this behavior.\n",
      "  _warn_prf(average, modifier, f\"{metric.capitalize()} is\", len(result))\n",
      "\n",
      "/Library/Frameworks/Python.framework/Versions/3.10/lib/python3.10/site-packages/sklearn/metrics/_classification.py:1531: UndefinedMetricWarning: Precision is ill-defined and being set to 0.0 in labels with no predicted samples. Use `zero_division` parameter to control this behavior.\n",
      "  _warn_prf(average, modifier, f\"{metric.capitalize()} is\", len(result))\n",
      "\n",
      "/Library/Frameworks/Python.framework/Versions/3.10/lib/python3.10/site-packages/sklearn/metrics/_classification.py:1531: UndefinedMetricWarning: Precision is ill-defined and being set to 0.0 in labels with no predicted samples. Use `zero_division` parameter to control this behavior.\n",
      "  _warn_prf(average, modifier, f\"{metric.capitalize()} is\", len(result))\n",
      "\n",
      "/Library/Frameworks/Python.framework/Versions/3.10/lib/python3.10/site-packages/sklearn/metrics/_classification.py:1531: UndefinedMetricWarning: Precision is ill-defined and being set to 0.0 in labels with no predicted samples. Use `zero_division` parameter to control this behavior.\n",
      "  _warn_prf(average, modifier, f\"{metric.capitalize()} is\", len(result))\n",
      "\n",
      "/Library/Frameworks/Python.framework/Versions/3.10/lib/python3.10/site-packages/sklearn/metrics/_classification.py:1531: UndefinedMetricWarning: Precision is ill-defined and being set to 0.0 in labels with no predicted samples. Use `zero_division` parameter to control this behavior.\n",
      "  _warn_prf(average, modifier, f\"{metric.capitalize()} is\", len(result))\n",
      "\n",
      "/Library/Frameworks/Python.framework/Versions/3.10/lib/python3.10/site-packages/sklearn/metrics/_classification.py:1531: UndefinedMetricWarning: Precision is ill-defined and being set to 0.0 in labels with no predicted samples. Use `zero_division` parameter to control this behavior.\n",
      "  _warn_prf(average, modifier, f\"{metric.capitalize()} is\", len(result))\n",
      "\n"
     ]
    },
    {
     "name": "stdout",
     "output_type": "stream",
     "text": [
      " 30%|███       | 3/10 [25:34<59:40, 511.52s/trial, best loss: 0.11397475994939452]  \n"
     ]
    },
    {
     "data": {
      "text/plain": [
       "{'criterion': 1,\n",
       " 'max_depth': 88,\n",
       " 'max_features': 0,\n",
       " 'min_samples_leaf': 0.06238780856717763,\n",
       " 'min_samples_split': 0.2725193856190983,\n",
       " 'n_estimators': 472}"
      ]
     },
     "execution_count": 65,
     "metadata": {},
     "output_type": "execute_result"
    }
   ],
   "execution_count": 65
  },
  {
   "metadata": {
    "ExecuteTime": {
     "end_time": "2024-07-28T23:13:30.831853Z",
     "start_time": "2024-07-28T23:13:30.826659Z"
    }
   },
   "cell_type": "code",
   "source": "trials.results",
   "id": "4a3815fe8f8b2a2f",
   "outputs": [
    {
     "data": {
      "text/plain": [
       "[{'loss': 0.17441324345808268,\n",
       "  'status': 'ok',\n",
       "  'accuracy': 0.7261612009493416,\n",
       "  'precision': 0.3630806004746708,\n",
       "  'recall': 0.5}]"
      ]
     },
     "execution_count": 64,
     "metadata": {},
     "output_type": "execute_result"
    }
   ],
   "execution_count": 64
  },
  {
   "metadata": {
    "ExecuteTime": {
     "end_time": "2024-07-28T22:54:05.272384Z",
     "start_time": "2024-07-28T22:54:05.232865Z"
    }
   },
   "cell_type": "code",
   "source": [
    "def unpack(x):\n",
    "    if x:\n",
    "        return x[0]\n",
    "    return np.nan\n",
    "\n",
    "\n",
    "# We'll first turn each trial into a series and then stack those series together as a dataframe.\n",
    "trials_df = pd.DataFrame([pd.Series(t[\"misc\"][\"vals\"]).apply(unpack) for t in trials])\n",
    "# Then we'll add other relevant bits of information to the correct rows and perform a couple of\n",
    "# mappings for convenience\n",
    "trials_df[\"loss\"] = [t[\"result\"][\"loss\"] for t in trials]\n",
    "trials_df[\"trial_number\"] = trials_df.index\n",
    "for i in space.keys():\n",
    "    trials_df[i] = [t[\"result\"][i] for t in trials]\n"
   ],
   "id": "ea472c1360885397",
   "outputs": [
    {
     "ename": "KeyError",
     "evalue": "'criterion'",
     "output_type": "error",
     "traceback": [
      "\u001B[0;31m---------------------------------------------------------------------------\u001B[0m",
      "\u001B[0;31mKeyError\u001B[0m                                  Traceback (most recent call last)",
      "Input \u001B[0;32mIn [48]\u001B[0m, in \u001B[0;36m<cell line: 13>\u001B[0;34m()\u001B[0m\n\u001B[1;32m     12\u001B[0m trials_df[\u001B[38;5;124m\"\u001B[39m\u001B[38;5;124mtrial_number\u001B[39m\u001B[38;5;124m\"\u001B[39m] \u001B[38;5;241m=\u001B[39m trials_df\u001B[38;5;241m.\u001B[39mindex\n\u001B[1;32m     13\u001B[0m \u001B[38;5;28;01mfor\u001B[39;00m i \u001B[38;5;129;01min\u001B[39;00m space\u001B[38;5;241m.\u001B[39mkeys():\n\u001B[0;32m---> 14\u001B[0m     trials_df[i] \u001B[38;5;241m=\u001B[39m [t[\u001B[38;5;124m\"\u001B[39m\u001B[38;5;124mresult\u001B[39m\u001B[38;5;124m\"\u001B[39m][i] \u001B[38;5;28;01mfor\u001B[39;00m t \u001B[38;5;129;01min\u001B[39;00m trials]\n",
      "Input \u001B[0;32mIn [48]\u001B[0m, in \u001B[0;36m<listcomp>\u001B[0;34m(.0)\u001B[0m\n\u001B[1;32m     12\u001B[0m trials_df[\u001B[38;5;124m\"\u001B[39m\u001B[38;5;124mtrial_number\u001B[39m\u001B[38;5;124m\"\u001B[39m] \u001B[38;5;241m=\u001B[39m trials_df\u001B[38;5;241m.\u001B[39mindex\n\u001B[1;32m     13\u001B[0m \u001B[38;5;28;01mfor\u001B[39;00m i \u001B[38;5;129;01min\u001B[39;00m space\u001B[38;5;241m.\u001B[39mkeys():\n\u001B[0;32m---> 14\u001B[0m     trials_df[i] \u001B[38;5;241m=\u001B[39m [\u001B[43mt\u001B[49m\u001B[43m[\u001B[49m\u001B[38;5;124;43m\"\u001B[39;49m\u001B[38;5;124;43mresult\u001B[39;49m\u001B[38;5;124;43m\"\u001B[39;49m\u001B[43m]\u001B[49m\u001B[43m[\u001B[49m\u001B[43mi\u001B[49m\u001B[43m]\u001B[49m \u001B[38;5;28;01mfor\u001B[39;00m t \u001B[38;5;129;01min\u001B[39;00m trials]\n",
      "\u001B[0;31mKeyError\u001B[0m: 'criterion'"
     ]
    }
   ],
   "execution_count": 48
  },
  {
   "metadata": {
    "ExecuteTime": {
     "end_time": "2024-07-28T23:01:48.901318Z",
     "start_time": "2024-07-28T23:01:48.884170Z"
    }
   },
   "cell_type": "code",
   "source": "trials.trials",
   "id": "46d02bdde2513bae",
   "outputs": [
    {
     "data": {
      "text/plain": [
       "[{'state': 2,\n",
       "  'tid': 0,\n",
       "  'spec': None,\n",
       "  'result': {'loss': 0.3024542855064006, 'status': 'ok'},\n",
       "  'misc': {'tid': 0,\n",
       "   'cmd': ('domain_attachment', 'FMinIter_Domain'),\n",
       "   'workdir': None,\n",
       "   'idxs': {'criterion': [0],\n",
       "    'max_depth': [0],\n",
       "    'max_features': [0],\n",
       "    'min_samples_leaf': [0],\n",
       "    'min_samples_split': [0],\n",
       "    'n_estimators': [0]},\n",
       "   'vals': {'criterion': [1],\n",
       "    'max_depth': [36],\n",
       "    'max_features': [4],\n",
       "    'min_samples_leaf': [0.28806202786090557],\n",
       "    'min_samples_split': [0.839876635221341],\n",
       "    'n_estimators': [159]}},\n",
       "  'exp_key': None,\n",
       "  'owner': None,\n",
       "  'version': 0,\n",
       "  'book_time': datetime.datetime(2024, 7, 28, 21, 21, 22, 339000),\n",
       "  'refresh_time': datetime.datetime(2024, 7, 28, 21, 23, 44, 213000)},\n",
       " {'state': 2,\n",
       "  'tid': 1,\n",
       "  'spec': None,\n",
       "  'result': {'loss': 0.1418802105217502, 'status': 'ok'},\n",
       "  'misc': {'tid': 1,\n",
       "   'cmd': ('domain_attachment', 'FMinIter_Domain'),\n",
       "   'workdir': None,\n",
       "   'idxs': {'criterion': [1],\n",
       "    'max_depth': [1],\n",
       "    'max_features': [1],\n",
       "    'min_samples_leaf': [1],\n",
       "    'min_samples_split': [1],\n",
       "    'n_estimators': [1]},\n",
       "   'vals': {'criterion': [1],\n",
       "    'max_depth': [42],\n",
       "    'max_features': [2],\n",
       "    'min_samples_leaf': [0.1464072127528671],\n",
       "    'min_samples_split': [0.009081155774367633],\n",
       "    'n_estimators': [390]}},\n",
       "  'exp_key': None,\n",
       "  'owner': None,\n",
       "  'version': 0,\n",
       "  'book_time': datetime.datetime(2024, 7, 28, 21, 23, 44, 824000),\n",
       "  'refresh_time': datetime.datetime(2024, 7, 28, 21, 30, 19, 429000)},\n",
       " {'state': 2,\n",
       "  'tid': 2,\n",
       "  'spec': None,\n",
       "  'result': {'loss': 0.13910289923152186, 'status': 'ok'},\n",
       "  'misc': {'tid': 2,\n",
       "   'cmd': ('domain_attachment', 'FMinIter_Domain'),\n",
       "   'workdir': None,\n",
       "   'idxs': {'criterion': [2],\n",
       "    'max_depth': [2],\n",
       "    'max_features': [2],\n",
       "    'min_samples_leaf': [2],\n",
       "    'min_samples_split': [2],\n",
       "    'n_estimators': [2]},\n",
       "   'vals': {'criterion': [0],\n",
       "    'max_depth': [52],\n",
       "    'max_features': [1],\n",
       "    'min_samples_leaf': [0.15473081875833267],\n",
       "    'min_samples_split': [0.3295760213141915],\n",
       "    'n_estimators': [808]}},\n",
       "  'exp_key': None,\n",
       "  'owner': None,\n",
       "  'version': 0,\n",
       "  'book_time': datetime.datetime(2024, 7, 28, 21, 30, 19, 498000),\n",
       "  'refresh_time': datetime.datetime(2024, 7, 28, 21, 42, 27, 970000)},\n",
       " {'state': 2,\n",
       "  'tid': 3,\n",
       "  'spec': None,\n",
       "  'result': {'loss': 0.1744132951935699, 'status': 'ok'},\n",
       "  'misc': {'tid': 3,\n",
       "   'cmd': ('domain_attachment', 'FMinIter_Domain'),\n",
       "   'workdir': None,\n",
       "   'idxs': {'criterion': [3],\n",
       "    'max_depth': [3],\n",
       "    'max_features': [3],\n",
       "    'min_samples_leaf': [3],\n",
       "    'min_samples_split': [3],\n",
       "    'n_estimators': [3]},\n",
       "   'vals': {'criterion': [1],\n",
       "    'max_depth': [77],\n",
       "    'max_features': [4],\n",
       "    'min_samples_leaf': [0.09266962657383815],\n",
       "    'min_samples_split': [0.7116876037364596],\n",
       "    'n_estimators': [1]}},\n",
       "  'exp_key': None,\n",
       "  'owner': None,\n",
       "  'version': 0,\n",
       "  'book_time': datetime.datetime(2024, 7, 28, 21, 42, 28, 109000),\n",
       "  'refresh_time': datetime.datetime(2024, 7, 28, 21, 44, 6, 355000)},\n",
       " {'state': 2,\n",
       "  'tid': 4,\n",
       "  'spec': None,\n",
       "  'result': {'loss': 0.3024542855064006, 'status': 'ok'},\n",
       "  'misc': {'tid': 4,\n",
       "   'cmd': ('domain_attachment', 'FMinIter_Domain'),\n",
       "   'workdir': None,\n",
       "   'idxs': {'criterion': [4],\n",
       "    'max_depth': [4],\n",
       "    'max_features': [4],\n",
       "    'min_samples_leaf': [4],\n",
       "    'min_samples_split': [4],\n",
       "    'n_estimators': [4]},\n",
       "   'vals': {'criterion': [1],\n",
       "    'max_depth': [85],\n",
       "    'max_features': [2],\n",
       "    'min_samples_leaf': [0.44808976557635094],\n",
       "    'min_samples_split': [0.1812426006495793],\n",
       "    'n_estimators': [248]}},\n",
       "  'exp_key': None,\n",
       "  'owner': None,\n",
       "  'version': 0,\n",
       "  'book_time': datetime.datetime(2024, 7, 28, 21, 44, 6, 431000),\n",
       "  'refresh_time': datetime.datetime(2024, 7, 28, 21, 48, 23, 847000)},\n",
       " {'state': 2,\n",
       "  'tid': 5,\n",
       "  'spec': None,\n",
       "  'result': {'loss': 0.10726759123167176, 'status': 'ok'},\n",
       "  'misc': {'tid': 5,\n",
       "   'cmd': ('domain_attachment', 'FMinIter_Domain'),\n",
       "   'workdir': None,\n",
       "   'idxs': {'criterion': [5],\n",
       "    'max_depth': [5],\n",
       "    'max_features': [5],\n",
       "    'min_samples_leaf': [5],\n",
       "    'min_samples_split': [5],\n",
       "    'n_estimators': [5]},\n",
       "   'vals': {'criterion': [0],\n",
       "    'max_depth': [85],\n",
       "    'max_features': [0],\n",
       "    'min_samples_leaf': [0.030882577393579802],\n",
       "    'min_samples_split': [0.2792977579504822],\n",
       "    'n_estimators': [424]}},\n",
       "  'exp_key': None,\n",
       "  'owner': None,\n",
       "  'version': 0,\n",
       "  'book_time': datetime.datetime(2024, 7, 28, 21, 48, 23, 952000),\n",
       "  'refresh_time': datetime.datetime(2024, 7, 28, 21, 58, 39, 637000)},\n",
       " {'state': 2,\n",
       "  'tid': 6,\n",
       "  'spec': None,\n",
       "  'result': {'loss': 0.1744132951935699, 'status': 'ok'},\n",
       "  'misc': {'tid': 6,\n",
       "   'cmd': ('domain_attachment', 'FMinIter_Domain'),\n",
       "   'workdir': None,\n",
       "   'idxs': {'criterion': [6],\n",
       "    'max_depth': [6],\n",
       "    'max_features': [6],\n",
       "    'min_samples_leaf': [6],\n",
       "    'min_samples_split': [6],\n",
       "    'n_estimators': [6]},\n",
       "   'vals': {'criterion': [1],\n",
       "    'max_depth': [87],\n",
       "    'max_features': [0],\n",
       "    'min_samples_leaf': [0.43551907827711756],\n",
       "    'min_samples_split': [0.7603243700131972],\n",
       "    'n_estimators': [185]}},\n",
       "  'exp_key': None,\n",
       "  'owner': None,\n",
       "  'version': 0,\n",
       "  'book_time': datetime.datetime(2024, 7, 28, 21, 58, 39, 708000),\n",
       "  'refresh_time': datetime.datetime(2024, 7, 28, 22, 1, 39, 154000)},\n",
       " {'state': 2,\n",
       "  'tid': 7,\n",
       "  'spec': None,\n",
       "  'result': {'loss': 0.1744132951935699, 'status': 'ok'},\n",
       "  'misc': {'tid': 7,\n",
       "   'cmd': ('domain_attachment', 'FMinIter_Domain'),\n",
       "   'workdir': None,\n",
       "   'idxs': {'criterion': [7],\n",
       "    'max_depth': [7],\n",
       "    'max_features': [7],\n",
       "    'min_samples_leaf': [7],\n",
       "    'min_samples_split': [7],\n",
       "    'n_estimators': [7]},\n",
       "   'vals': {'criterion': [1],\n",
       "    'max_depth': [1],\n",
       "    'max_features': [1],\n",
       "    'min_samples_leaf': [0.042098278395794664],\n",
       "    'min_samples_split': [0.6635228398638059],\n",
       "    'n_estimators': [19]}},\n",
       "  'exp_key': None,\n",
       "  'owner': None,\n",
       "  'version': 0,\n",
       "  'book_time': datetime.datetime(2024, 7, 28, 22, 1, 39, 248000),\n",
       "  'refresh_time': datetime.datetime(2024, 7, 28, 22, 2, 59, 340000)},\n",
       " {'state': 2,\n",
       "  'tid': 8,\n",
       "  'spec': None,\n",
       "  'result': {'loss': 0.1744132951935699, 'status': 'ok'},\n",
       "  'misc': {'tid': 8,\n",
       "   'cmd': ('domain_attachment', 'FMinIter_Domain'),\n",
       "   'workdir': None,\n",
       "   'idxs': {'criterion': [8],\n",
       "    'max_depth': [8],\n",
       "    'max_features': [8],\n",
       "    'min_samples_leaf': [8],\n",
       "    'min_samples_split': [8],\n",
       "    'n_estimators': [8]},\n",
       "   'vals': {'criterion': [1],\n",
       "    'max_depth': [69],\n",
       "    'max_features': [3],\n",
       "    'min_samples_leaf': [0.1703580610152331],\n",
       "    'min_samples_split': [0.850089968389944],\n",
       "    'n_estimators': [217]}},\n",
       "  'exp_key': None,\n",
       "  'owner': None,\n",
       "  'version': 0,\n",
       "  'book_time': datetime.datetime(2024, 7, 28, 22, 2, 59, 418000),\n",
       "  'refresh_time': datetime.datetime(2024, 7, 28, 22, 6, 5, 977000)},\n",
       " {'state': 2,\n",
       "  'tid': 9,\n",
       "  'spec': None,\n",
       "  'result': {'loss': 0.17441324345808268, 'status': 'ok'},\n",
       "  'misc': {'tid': 9,\n",
       "   'cmd': ('domain_attachment', 'FMinIter_Domain'),\n",
       "   'workdir': None,\n",
       "   'idxs': {'criterion': [9],\n",
       "    'max_depth': [9],\n",
       "    'max_features': [9],\n",
       "    'min_samples_leaf': [9],\n",
       "    'min_samples_split': [9],\n",
       "    'n_estimators': [9]},\n",
       "   'vals': {'criterion': [0],\n",
       "    'max_depth': [41],\n",
       "    'max_features': [2],\n",
       "    'min_samples_leaf': [0.3165267593582009],\n",
       "    'min_samples_split': [0.4039539685266482],\n",
       "    'n_estimators': [706]}},\n",
       "  'exp_key': None,\n",
       "  'owner': None,\n",
       "  'version': 0,\n",
       "  'book_time': datetime.datetime(2024, 7, 28, 22, 6, 6, 42000),\n",
       "  'refresh_time': datetime.datetime(2024, 7, 28, 22, 13, 4, 734000)}]"
      ]
     },
     "execution_count": 62,
     "metadata": {},
     "output_type": "execute_result"
    }
   ],
   "execution_count": 62
  },
  {
   "metadata": {
    "ExecuteTime": {
     "end_time": "2024-07-28T22:35:57.911617Z",
     "start_time": "2024-07-28T22:35:57.454981Z"
    }
   },
   "cell_type": "code",
   "source": "sns.relplot(trials_df, x = \"trial_number\", y = \"loss\")",
   "id": "ba8c6bb1280d7601",
   "outputs": [
    {
     "data": {
      "text/plain": [
       "<seaborn.axisgrid.FacetGrid at 0x13c80ca30>"
      ]
     },
     "execution_count": 40,
     "metadata": {},
     "output_type": "execute_result"
    },
    {
     "data": {
      "text/plain": [
       "<Figure size 500x500 with 1 Axes>"
      ],
      "image/png": "[encoded data removed]"
     },
     "metadata": {},
     "output_type": "display_data"
    }
   ],
   "execution_count": 40
  },
  {
   "metadata": {
    "ExecuteTime": {
     "end_time": "2024-07-28T22:55:41.259783Z",
     "start_time": "2024-07-28T22:55:41.256064Z"
    }
   },
   "cell_type": "code",
   "source": [
    "for i in space.keys():\n",
    "    print(i)"
   ],
   "id": "da5d08e404a1f006",
   "outputs": [
    {
     "name": "stdout",
     "output_type": "stream",
     "text": [
      "criterion\n",
      "max_depth\n",
      "max_features\n",
      "min_samples_leaf\n",
      "min_samples_split\n",
      "n_estimators\n"
     ]
    }
   ],
   "execution_count": 51
  },
  {
   "metadata": {
    "ExecuteTime": {
     "end_time": "2024-07-28T22:55:57.397718Z",
     "start_time": "2024-07-28T22:55:57.379282Z"
    }
   },
   "cell_type": "code",
   "source": "trials",
   "id": "5609222a83ea296d",
   "outputs": [
    {
     "ename": "NotImplementedError",
     "evalue": "",
     "output_type": "error",
     "traceback": [
      "\u001B[0;31m---------------------------------------------------------------------------\u001B[0m",
      "\u001B[0;31mNotImplementedError\u001B[0m                       Traceback (most recent call last)",
      "Input \u001B[0;32mIn [54]\u001B[0m, in \u001B[0;36m<cell line: 1>\u001B[0;34m()\u001B[0m\n\u001B[0;32m----> 1\u001B[0m \u001B[43mtrials\u001B[49m\u001B[43m[\u001B[49m\u001B[38;5;124;43m'\u001B[39;49m\u001B[38;5;124;43mresult\u001B[39;49m\u001B[38;5;124;43m'\u001B[39;49m\u001B[43m]\u001B[49m\n",
      "File \u001B[0;32m/Library/Frameworks/Python.framework/Versions/3.10/lib/python3.10/site-packages/hyperopt/base.py:351\u001B[0m, in \u001B[0;36mTrials.__getitem__\u001B[0;34m(self, item)\u001B[0m\n\u001B[1;32m    348\u001B[0m \u001B[38;5;28;01mdef\u001B[39;00m \u001B[38;5;21m__getitem__\u001B[39m(\u001B[38;5;28mself\u001B[39m, item):\n\u001B[1;32m    349\u001B[0m     \u001B[38;5;66;03m# -- how to make it obvious whether indexing is by _trials position\u001B[39;00m\n\u001B[1;32m    350\u001B[0m     \u001B[38;5;66;03m#    or by tid if both are integers?\u001B[39;00m\n\u001B[0;32m--> 351\u001B[0m     \u001B[38;5;28;01mraise\u001B[39;00m \u001B[38;5;167;01mNotImplementedError\u001B[39;00m(\u001B[38;5;124m\"\u001B[39m\u001B[38;5;124m\"\u001B[39m)\n",
      "\u001B[0;31mNotImplementedError\u001B[0m: "
     ]
    }
   ],
   "execution_count": 54
  },
  {
   "metadata": {},
   "cell_type": "code",
   "outputs": [],
   "execution_count": null,
   "source": [
    "for i in space.keys():\n",
    "    t[\"result\"][i] for t in trials]"
   ],
   "id": "8e04116baedfc7a3"
  }
 ],
 "metadata": {
  "kernelspec": {
   "display_name": "Python 3",
   "language": "python",
   "name": "python3"
  },
  "language_info": {
   "codemirror_mode": {
    "name": "ipython",
    "version": 2
   },
   "file_extension": ".py",
   "mimetype": "text/x-python",
   "name": "python",
   "nbconvert_exporter": "python",
   "pygments_lexer": "ipython2",
   "version": "2.7.6"
  }
 },
 "nbformat": 4,
 "nbformat_minor": 5
}
