{
 "cells": [
  {
   "metadata": {},
   "cell_type": "markdown",
   "source": "# Random Forest Model tuning",
   "id": "4ece34ede214b772"
  },
  {
   "metadata": {},
   "cell_type": "markdown",
   "source": "Let's see how much improvement can be made on a default random forest model via hyperparameter optimization. We'll work most of our tuning on 10% sample of the entire training set. ",
   "id": "3b368b884d37f6f"
  },
  {
   "metadata": {},
   "cell_type": "markdown",
   "source": "# Set up",
   "id": "b65fadd6a0fc2766"
  },
  {
   "metadata": {
    "ExecuteTime": {
     "end_time": "2024-07-28T10:34:50.972023Z",
     "start_time": "2024-07-28T10:34:02.852779Z"
    }
   },
   "cell_type": "code",
   "source": [
    "import pandas as pd\n",
    "import zipfile \n",
    "from zipfile import ZipFile \n",
    "\n",
    "\n",
    "file_name = \"playground-series-s4e7.zip\"\n",
    "with ZipFile(file_name, 'r') as zip: \n",
    "    # printing all the contents of the zip file \n",
    "    zip.printdir()\n",
    "df_zip = zipfile.ZipFile(file_name)\n",
    "train = pd.read_csv(df_zip.open('train.csv'))\n",
    "\n",
    "# import sample\n",
    "import random\n",
    "\n",
    "n = len(train) # Calculate number of rows in file\n",
    "s = n//10  # sample size of 10%\n",
    "skip = sorted(random.sample(range(1, n+1), n-s))   \n",
    "train_sample = pd.read_csv(df_zip.open('train.csv'), skiprows = skip)\n",
    "train_sample\n"
   ],
   "id": "e9a6c20b25f88b0e",
   "outputs": [
    {
     "name": "stdout",
     "output_type": "stream",
     "text": [
      "File Name                                             Modified             Size\n",
      "sample_submission.csv                          2024-06-24 13:46:18     99708270\n",
      "test.csv                                       2024-06-24 13:46:24    433918183\n",
      "train.csv                                      2024-06-24 13:46:48    662779095\n"
     ]
    },
    {
     "data": {
      "text/plain": [
       "               id  Gender  Age  Driving_License  Region_Code  \\\n",
       "0               1    Male   43                1         28.0   \n",
       "1               5  Female   31                1         47.0   \n",
       "2              13    Male   27                1         28.0   \n",
       "3              15    Male   79                1          8.0   \n",
       "4              17  Female   20                1         50.0   \n",
       "...           ...     ...  ...              ...          ...   \n",
       "1150474  11504726  Female   36                1          3.0   \n",
       "1150475  11504738    Male   24                1         17.0   \n",
       "1150476  11504771    Male   32                1         44.0   \n",
       "1150477  11504777    Male   42                1          3.0   \n",
       "1150478  11504793    Male   48                1          6.0   \n",
       "\n",
       "         Previously_Insured Vehicle_Age Vehicle_Damage  Annual_Premium  \\\n",
       "0                         0   > 2 Years            Yes         58911.0   \n",
       "1                         1    < 1 Year             No         28150.0   \n",
       "2                         1    < 1 Year             No         43746.0   \n",
       "3                         0   > 2 Years            Yes         66887.0   \n",
       "4                         1    < 1 Year             No         36389.0   \n",
       "...                     ...         ...            ...             ...   \n",
       "1150474                   0    1-2 Year            Yes         18090.0   \n",
       "1150475                   0    < 1 Year            Yes          2630.0   \n",
       "1150476                   0    1-2 Year            Yes          2630.0   \n",
       "1150477                   0    1-2 Year            Yes         47788.0   \n",
       "1150478                   0    1-2 Year            Yes         27412.0   \n",
       "\n",
       "         Policy_Sales_Channel  Vintage  Response  \n",
       "0                        26.0      288         1  \n",
       "1                       152.0      197         0  \n",
       "2                       152.0      259         0  \n",
       "3                       124.0      150         0  \n",
       "4                       160.0      242         0  \n",
       "...                       ...      ...       ...  \n",
       "1150474                 124.0      159         1  \n",
       "1150475                 160.0      105         0  \n",
       "1150476                  26.0      270         0  \n",
       "1150477                  26.0      283         0  \n",
       "1150478                  26.0      218         0  \n",
       "\n",
       "[1150479 rows x 12 columns]"
      ],
      "text/html": [
       "<div>\n",
       "<style scoped>\n",
       "    .dataframe tbody tr th:only-of-type {\n",
       "        vertical-align: middle;\n",
       "    }\n",
       "\n",
       "    .dataframe tbody tr th {\n",
       "        vertical-align: top;\n",
       "    }\n",
       "\n",
       "    .dataframe thead th {\n",
       "        text-align: right;\n",
       "    }\n",
       "</style>\n",
       "<table border=\"1\" class=\"dataframe\">\n",
       "  <thead>\n",
       "    <tr style=\"text-align: right;\">\n",
       "      <th></th>\n",
       "      <th>id</th>\n",
       "      <th>Gender</th>\n",
       "      <th>Age</th>\n",
       "      <th>Driving_License</th>\n",
       "      <th>Region_Code</th>\n",
       "      <th>Previously_Insured</th>\n",
       "      <th>Vehicle_Age</th>\n",
       "      <th>Vehicle_Damage</th>\n",
       "      <th>Annual_Premium</th>\n",
       "      <th>Policy_Sales_Channel</th>\n",
       "      <th>Vintage</th>\n",
       "      <th>Response</th>\n",
       "    </tr>\n",
       "  </thead>\n",
       "  <tbody>\n",
       "    <tr>\n",
       "      <th>0</th>\n",
       "      <td>1</td>\n",
       "      <td>Male</td>\n",
       "      <td>43</td>\n",
       "      <td>1</td>\n",
       "      <td>28.0</td>\n",
       "      <td>0</td>\n",
       "      <td>&gt; 2 Years</td>\n",
       "      <td>Yes</td>\n",
       "      <td>58911.0</td>\n",
       "      <td>26.0</td>\n",
       "      <td>288</td>\n",
       "      <td>1</td>\n",
       "    </tr>\n",
       "    <tr>\n",
       "      <th>1</th>\n",
       "      <td>5</td>\n",
       "      <td>Female</td>\n",
       "      <td>31</td>\n",
       "      <td>1</td>\n",
       "      <td>47.0</td>\n",
       "      <td>1</td>\n",
       "      <td>&lt; 1 Year</td>\n",
       "      <td>No</td>\n",
       "      <td>28150.0</td>\n",
       "      <td>152.0</td>\n",
       "      <td>197</td>\n",
       "      <td>0</td>\n",
       "    </tr>\n",
       "    <tr>\n",
       "      <th>2</th>\n",
       "      <td>13</td>\n",
       "      <td>Male</td>\n",
       "      <td>27</td>\n",
       "      <td>1</td>\n",
       "      <td>28.0</td>\n",
       "      <td>1</td>\n",
       "      <td>&lt; 1 Year</td>\n",
       "      <td>No</td>\n",
       "      <td>43746.0</td>\n",
       "      <td>152.0</td>\n",
       "      <td>259</td>\n",
       "      <td>0</td>\n",
       "    </tr>\n",
       "    <tr>\n",
       "      <th>3</th>\n",
       "      <td>15</td>\n",
       "      <td>Male</td>\n",
       "      <td>79</td>\n",
       "      <td>1</td>\n",
       "      <td>8.0</td>\n",
       "      <td>0</td>\n",
       "      <td>&gt; 2 Years</td>\n",
       "      <td>Yes</td>\n",
       "      <td>66887.0</td>\n",
       "      <td>124.0</td>\n",
       "      <td>150</td>\n",
       "      <td>0</td>\n",
       "    </tr>\n",
       "    <tr>\n",
       "      <th>4</th>\n",
       "      <td>17</td>\n",
       "      <td>Female</td>\n",
       "      <td>20</td>\n",
       "      <td>1</td>\n",
       "      <td>50.0</td>\n",
       "      <td>1</td>\n",
       "      <td>&lt; 1 Year</td>\n",
       "      <td>No</td>\n",
       "      <td>36389.0</td>\n",
       "      <td>160.0</td>\n",
       "      <td>242</td>\n",
       "      <td>0</td>\n",
       "    </tr>\n",
       "    <tr>\n",
       "      <th>...</th>\n",
       "      <td>...</td>\n",
       "      <td>...</td>\n",
       "      <td>...</td>\n",
       "      <td>...</td>\n",
       "      <td>...</td>\n",
       "      <td>...</td>\n",
       "      <td>...</td>\n",
       "      <td>...</td>\n",
       "      <td>...</td>\n",
       "      <td>...</td>\n",
       "      <td>...</td>\n",
       "      <td>...</td>\n",
       "    </tr>\n",
       "    <tr>\n",
       "      <th>1150474</th>\n",
       "      <td>11504726</td>\n",
       "      <td>Female</td>\n",
       "      <td>36</td>\n",
       "      <td>1</td>\n",
       "      <td>3.0</td>\n",
       "      <td>0</td>\n",
       "      <td>1-2 Year</td>\n",
       "      <td>Yes</td>\n",
       "      <td>18090.0</td>\n",
       "      <td>124.0</td>\n",
       "      <td>159</td>\n",
       "      <td>1</td>\n",
       "    </tr>\n",
       "    <tr>\n",
       "      <th>1150475</th>\n",
       "      <td>11504738</td>\n",
       "      <td>Male</td>\n",
       "      <td>24</td>\n",
       "      <td>1</td>\n",
       "      <td>17.0</td>\n",
       "      <td>0</td>\n",
       "      <td>&lt; 1 Year</td>\n",
       "      <td>Yes</td>\n",
       "      <td>2630.0</td>\n",
       "      <td>160.0</td>\n",
       "      <td>105</td>\n",
       "      <td>0</td>\n",
       "    </tr>\n",
       "    <tr>\n",
       "      <th>1150476</th>\n",
       "      <td>11504771</td>\n",
       "      <td>Male</td>\n",
       "      <td>32</td>\n",
       "      <td>1</td>\n",
       "      <td>44.0</td>\n",
       "      <td>0</td>\n",
       "      <td>1-2 Year</td>\n",
       "      <td>Yes</td>\n",
       "      <td>2630.0</td>\n",
       "      <td>26.0</td>\n",
       "      <td>270</td>\n",
       "      <td>0</td>\n",
       "    </tr>\n",
       "    <tr>\n",
       "      <th>1150477</th>\n",
       "      <td>11504777</td>\n",
       "      <td>Male</td>\n",
       "      <td>42</td>\n",
       "      <td>1</td>\n",
       "      <td>3.0</td>\n",
       "      <td>0</td>\n",
       "      <td>1-2 Year</td>\n",
       "      <td>Yes</td>\n",
       "      <td>47788.0</td>\n",
       "      <td>26.0</td>\n",
       "      <td>283</td>\n",
       "      <td>0</td>\n",
       "    </tr>\n",
       "    <tr>\n",
       "      <th>1150478</th>\n",
       "      <td>11504793</td>\n",
       "      <td>Male</td>\n",
       "      <td>48</td>\n",
       "      <td>1</td>\n",
       "      <td>6.0</td>\n",
       "      <td>0</td>\n",
       "      <td>1-2 Year</td>\n",
       "      <td>Yes</td>\n",
       "      <td>27412.0</td>\n",
       "      <td>26.0</td>\n",
       "      <td>218</td>\n",
       "      <td>0</td>\n",
       "    </tr>\n",
       "  </tbody>\n",
       "</table>\n",
       "<p>1150479 rows × 12 columns</p>\n",
       "</div>"
      ]
     },
     "execution_count": 2,
     "metadata": {},
     "output_type": "execute_result"
    }
   ],
   "execution_count": 2
  },
  {
   "metadata": {
    "ExecuteTime": {
     "end_time": "2024-07-28T10:34:50.992789Z",
     "start_time": "2024-07-28T10:34:50.975078Z"
    }
   },
   "cell_type": "code",
   "source": "train.info()",
   "id": "7e51d62d8c903a02",
   "outputs": [
    {
     "name": "stdout",
     "output_type": "stream",
     "text": [
      "<class 'pandas.core.frame.DataFrame'>\n",
      "RangeIndex: 11504798 entries, 0 to 11504797\n",
      "Data columns (total 12 columns):\n",
      " #   Column                Dtype  \n",
      "---  ------                -----  \n",
      " 0   id                    int64  \n",
      " 1   Gender                object \n",
      " 2   Age                   int64  \n",
      " 3   Driving_License       int64  \n",
      " 4   Region_Code           float64\n",
      " 5   Previously_Insured    int64  \n",
      " 6   Vehicle_Age           object \n",
      " 7   Vehicle_Damage        object \n",
      " 8   Annual_Premium        float64\n",
      " 9   Policy_Sales_Channel  float64\n",
      " 10  Vintage               int64  \n",
      " 11  Response              int64  \n",
      "dtypes: float64(3), int64(6), object(3)\n",
      "memory usage: 1.0+ GB\n"
     ]
    }
   ],
   "execution_count": 3
  },
  {
   "metadata": {},
   "cell_type": "markdown",
   "source": " # Reduce Memory",
   "id": "dc122fb1be708190"
  },
  {
   "metadata": {},
   "cell_type": "markdown",
   "source": "To reduce memory load we'll change some column types to more memory-friendly formats. ",
   "id": "939a794bef4c7c8a"
  },
  {
   "metadata": {
    "ExecuteTime": {
     "end_time": "2024-07-28T10:34:58.018458Z",
     "start_time": "2024-07-28T10:34:50.994848Z"
    }
   },
   "cell_type": "code",
   "source": [
    "# drop id\n",
    "train = train.drop('id', axis = 1)\n",
    "\n",
    "# convert obj to cat\n",
    "categorical = [\"Region_Code\", \"Policy_Sales_Channel\", \"Gender\", \"Vehicle_Damage\", \"Vehicle_Age\"]\n",
    "train[[\"Region_Code\", \"Policy_Sales_Channel\"]] = train[[\"Region_Code\", \"Policy_Sales_Channel\"]].astype('int32')\n",
    "train[categorical] = train[categorical].astype(\"category\")\n",
    "\n",
    "# train sample\n",
    "train[[\"Region_Code\", \"Policy_Sales_Channel\"]] = train[[\"Region_Code\", \"Policy_Sales_Channel\"]].astype('int32')\n",
    "train[categorical] = train[categorical].astype(\"category\")\n",
    "\n",
    "# convert numerics into int 32 \n",
    "\n",
    "import numpy as np\n",
    "# integer\n",
    "d = dict.fromkeys(train.select_dtypes(np.int64).columns, np.int32)\n",
    "train = train.astype(d)\n",
    "\n",
    "# float\n",
    "d2 = dict.fromkeys(train.select_dtypes(np.float64).columns, np.int32)\n",
    "train = train.astype(d2)"
   ],
   "id": "5564678fce98f394",
   "outputs": [],
   "execution_count": 4
  },
  {
   "metadata": {},
   "cell_type": "markdown",
   "source": "## Sample",
   "id": "3b20af278f733276"
  },
  {
   "metadata": {
    "ExecuteTime": {
     "end_time": "2024-07-28T10:34:58.698706Z",
     "start_time": "2024-07-28T10:34:58.022067Z"
    }
   },
   "cell_type": "code",
   "source": [
    "train_sample = train_sample.drop('id', axis = 1)\n",
    "\n",
    "# convert obj to cat\n",
    "train_sample[[\"Region_Code\", \"Policy_Sales_Channel\"]] = train_sample[[\"Region_Code\", \"Policy_Sales_Channel\"]].astype('int64')\n",
    "train_sample[categorical] = train_sample[categorical].astype(\"category\")\n",
    "\n",
    "# train_sample sample\n",
    "train_sample[[\"Region_Code\", \"Policy_Sales_Channel\"]] = train_sample[[\"Region_Code\", \"Policy_Sales_Channel\"]].astype('int64')\n",
    "train_sample[categorical] = train_sample[categorical].astype(\"category\")\n",
    "\n",
    "# convert numerics into int 32 \n",
    "\n",
    "import numpy as np\n",
    "# integer\n",
    "d = dict.fromkeys(train_sample.select_dtypes(np.int64).columns, np.int64)\n",
    "train_sample = train_sample.astype(d)\n",
    "\n",
    "# float\n",
    "d2 = dict.fromkeys(train_sample.select_dtypes(np.float64).columns, np.int64)\n",
    "train_sample = train_sample.astype(d2)\n"
   ],
   "id": "20e27bd6950372fd",
   "outputs": [],
   "execution_count": 5
  },
  {
   "metadata": {},
   "cell_type": "markdown",
   "source": "# Split",
   "id": "9172269f5b1c1d82"
  },
  {
   "metadata": {
    "ExecuteTime": {
     "end_time": "2024-07-28T10:35:12.169074Z",
     "start_time": "2024-07-28T10:34:58.700603Z"
    }
   },
   "cell_type": "code",
   "source": [
    "from sklearn.model_selection import train_test_split\n",
    "X = train.drop(\"Response\", axis = 1)\n",
    "y = train[\"Response\"]\n",
    "\n",
    "\n",
    "X_train, X_val, y_train, y_val = train_test_split(X,y,\n",
    "                                                    test_size = 0.2,\n",
    "                                                    random_state = 42,\n",
    "                                                    stratify = y)"
   ],
   "id": "2e754827e1aa7331",
   "outputs": [],
   "execution_count": 6
  },
  {
   "metadata": {},
   "cell_type": "markdown",
   "source": "## Sample",
   "id": "37e090ed557f3bd"
  },
  {
   "metadata": {
    "ExecuteTime": {
     "end_time": "2024-07-28T10:35:13.664948Z",
     "start_time": "2024-07-28T10:35:12.175909Z"
    }
   },
   "cell_type": "code",
   "source": [
    "Xs = train_sample.drop(\"Response\", axis = 1)\n",
    "ys = train_sample[\"Response\"]\n",
    "\n",
    "\n",
    "Xs_train, Xs_val, ys_train, ys_val = train_test_split(Xs,ys,\n",
    "                                                    test_size = 0.2,\n",
    "                                                    random_state = 42,\n",
    "                                                    stratify = ys)"
   ],
   "id": "a2a67dd5c67bdb7c",
   "outputs": [],
   "execution_count": 7
  },
  {
   "metadata": {},
   "cell_type": "markdown",
   "source": "",
   "id": "3ff0460cddd310a1"
  },
  {
   "metadata": {},
   "cell_type": "markdown",
   "source": "# Preprocessing",
   "id": "e090cae65b8cf5de"
  },
  {
   "metadata": {},
   "cell_type": "markdown",
   "source": "## Column groups",
   "id": "3d1d84f73af1e1f3"
  },
  {
   "metadata": {
    "ExecuteTime": {
     "end_time": "2024-07-28T10:35:13.732447Z",
     "start_time": "2024-07-28T10:35:13.667453Z"
    }
   },
   "cell_type": "code",
   "source": [
    "unique_values = Xs_train.select_dtypes(include = ['object', 'category']).nunique()\n",
    "\n",
    "binary_cat = unique_values.index[unique_values == 2].tolist()\n",
    "ordinal_cat = [\"Vehicle_Age\"]\n",
    "target_cat = unique_values.index[unique_values > 20].tolist()\n",
    "categorical = Xs_train.select_dtypes(include = ['object', 'category']).columns.values.tolist()\n",
    "categorical.remove(\"Vehicle_Age\")\n",
    "nominal_cat = list(set(categorical).difference(binary_cat))\n",
    "\n",
    "vehicle_age_categories = ['< 1 Year', '1-2 Year', '> 2 Years']\n",
    "\n",
    "# numerical transformer\n",
    "num_col = ['Age','Annual_Premium','Vintage']\n"
   ],
   "id": "d0b5a877316369f3",
   "outputs": [],
   "execution_count": 8
  },
  {
   "metadata": {},
   "cell_type": "markdown",
   "source": "## Encoders",
   "id": "3bc3cfc852c8a1c1"
  },
  {
   "metadata": {
    "ExecuteTime": {
     "end_time": "2024-07-28T10:35:13.954766Z",
     "start_time": "2024-07-28T10:35:13.735679Z"
    }
   },
   "cell_type": "code",
   "source": [
    "from sklearn.preprocessing import OrdinalEncoder\n",
    "from sklearn.pipeline import Pipeline\n",
    "from sklearn.preprocessing import OneHotEncoder\n",
    "from sklearn.preprocessing import StandardScaler\n",
    "from category_encoders import TargetEncoder\n",
    "from category_encoders import BinaryEncoder\n",
    "\n",
    "# ordinal encoder\n",
    "ordinal = Pipeline(steps=[\n",
    "    (\"ordinal\", OrdinalEncoder(categories=[['< 1 Year', '1-2 Year', '> 2 Years']])),\n",
    "])\n",
    "# target encoder\n",
    "target = Pipeline(steps=[\n",
    "    (\"target\", TargetEncoder()),\n",
    "])\n",
    "\n",
    "# ohe encoder\n",
    "ohe  = Pipeline(steps=[\n",
    "    (\"ohe\", OneHotEncoder(handle_unknown= 'ignore')),\n",
    "])\n",
    "\n",
    "# dummy encoder\n",
    "binary = Pipeline(steps=[\n",
    "    (\"dummy\",BinaryEncoder()),\n",
    "])\n",
    "\n",
    "num_pipe = Pipeline(steps=[\n",
    "    (\"standardize\", StandardScaler()) # standardize\n",
    "])\n"
   ],
   "id": "30bba746308d34b4",
   "outputs": [],
   "execution_count": 9
  },
  {
   "metadata": {},
   "cell_type": "markdown",
   "source": "## Preprocessing pipe",
   "id": "44ed9ee7690a8ea5"
  },
  {
   "metadata": {
    "ExecuteTime": {
     "end_time": "2024-07-28T10:35:13.970859Z",
     "start_time": "2024-07-28T10:35:13.957981Z"
    }
   },
   "cell_type": "code",
   "source": [
    "from sklearn.compose import ColumnTransformer\n",
    "\n",
    "default = ColumnTransformer(\n",
    "    transformers=[\n",
    "        (\"ord\", ordinal, ordinal_cat),\n",
    "        (\"dummy\", binary, binary_cat),\n",
    "        (\"num\", num_pipe, num_col),\n",
    "        (\"target\",target, nominal_cat)\n",
    "    ],\n",
    "    remainder = \"passthrough\"\n",
    "    \n",
    ")"
   ],
   "id": "3d1a6dd95ca0233",
   "outputs": [],
   "execution_count": 10
  },
  {
   "metadata": {
    "ExecuteTime": {
     "end_time": "2024-07-28T20:20:24.506059Z",
     "start_time": "2024-07-28T20:20:24.284170Z"
    }
   },
   "cell_type": "code",
   "source": [
    "from sklearn.ensemble import RandomForestClassifier\n",
    "\n",
    "rf = RandomForestClassifier(verbose = 2, n_jobs = -1, random_state = 42,class_weight = \"balanced_subsample\") \n",
    "\n",
    "default_rf = Pipeline(steps=[\n",
    "          ('column_tran',default),\n",
    "          ('model',rf)\n",
    "     ])"
   ],
   "id": "5f3d34073b1371b9",
   "outputs": [],
   "execution_count": 24
  },
  {
   "metadata": {
    "ExecuteTime": {
     "end_time": "2024-07-28T20:21:34.447517Z",
     "start_time": "2024-07-28T20:20:26.411669Z"
    }
   },
   "cell_type": "code",
   "source": [
    "default_rf.fit(Xs_train, ys_train)\n",
    "pred_default_rf = default_rf.predict(Xs_val)"
   ],
   "id": "d0029de1dd598c5b",
   "outputs": [
    {
     "name": "stderr",
     "output_type": "stream",
     "text": [
      "[Parallel(n_jobs=-1)]: Using backend ThreadingBackend with 8 concurrent workers.\n"
     ]
    },
    {
     "name": "stdout",
     "output_type": "stream",
     "text": [
      "building tree 1 of 100building tree 2 of 100\n",
      "\n",
      "building tree 3 of 100\n",
      "building tree 4 of 100\n",
      "building tree 5 of 100\n",
      "building tree 6 of 100\n",
      "building tree 7 of 100\n",
      "building tree 8 of 100\n",
      "building tree 9 of 100\n",
      "building tree 10 of 100\n",
      "building tree 11 of 100\n",
      "building tree 12 of 100\n",
      "building tree 13 of 100\n",
      "building tree 14 of 100\n",
      "building tree 15 of 100\n",
      "building tree 16 of 100\n",
      "building tree 17 of 100\n",
      "building tree 18 of 100\n",
      "building tree 19 of 100\n",
      "building tree 20 of 100\n",
      "building tree 21 of 100\n",
      "building tree 22 of 100\n",
      "building tree 23 of 100\n",
      "building tree 24 of 100\n",
      "building tree 25 of 100\n",
      "building tree 26 of 100\n",
      "building tree 27 of 100\n",
      "building tree 28 of 100\n",
      "building tree 29 of 100building tree 30 of 100\n",
      "\n",
      "building tree 31 of 100\n",
      "building tree 32 of 100\n",
      "building tree 33 of 100\n",
      "building tree 34 of 100\n"
     ]
    },
    {
     "name": "stderr",
     "output_type": "stream",
     "text": [
      "[Parallel(n_jobs=-1)]: Done  25 tasks      | elapsed:   17.5s\n"
     ]
    },
    {
     "name": "stdout",
     "output_type": "stream",
     "text": [
      "building tree 35 of 100\n",
      "building tree 36 of 100\n",
      "building tree 37 of 100\n",
      "building tree 38 of 100\n",
      "building tree 39 of 100\n",
      "building tree 40 of 100\n",
      "building tree 41 of 100\n",
      "building tree 42 of 100\n",
      "building tree 43 of 100building tree 44 of 100\n",
      "building tree 45 of 100\n",
      "building tree 46 of 100\n",
      "\n",
      "building tree 47 of 100\n",
      "building tree 48 of 100\n",
      "building tree 49 of 100\n",
      "building tree 50 of 100\n",
      "building tree 51 of 100building tree 52 of 100\n",
      "building tree 53 of 100building tree 54 of 100\n",
      "\n",
      "\n",
      "building tree 55 of 100\n",
      "building tree 56 of 100\n",
      "building tree 57 of 100\n",
      "building tree 58 of 100\n",
      "building tree 59 of 100\n",
      "building tree 60 of 100\n",
      "building tree 61 of 100\n",
      "building tree 62 of 100\n",
      "building tree 63 of 100\n",
      "building tree 64 of 100\n",
      "building tree 65 of 100\n",
      "building tree 66 of 100\n",
      "building tree 67 of 100\n",
      "building tree 68 of 100\n",
      "building tree 69 of 100\n",
      "building tree 70 of 100\n",
      "building tree 71 of 100\n",
      "building tree 72 of 100\n",
      "building tree 73 of 100\n",
      "building tree 74 of 100\n",
      "building tree 75 of 100building tree 76 of 100\n",
      "\n",
      "building tree 77 of 100\n",
      "building tree 78 of 100\n",
      "building tree 79 of 100\n",
      "building tree 80 of 100\n",
      "building tree 81 of 100\n",
      "building tree 82 of 100\n",
      "building tree 83 of 100\n",
      "building tree 84 of 100\n",
      "building tree 85 of 100\n",
      "building tree 86 of 100\n",
      "building tree 87 of 100\n",
      "building tree 88 of 100\n",
      "building tree 89 of 100\n",
      "building tree 90 of 100\n",
      "building tree 91 of 100\n",
      "building tree 92 of 100\n",
      "building tree 93 of 100\n",
      "building tree 94 of 100\n",
      "building tree 95 of 100building tree 96 of 100\n",
      "\n",
      "building tree 97 of 100\n",
      "building tree 98 of 100\n",
      "building tree 99 of 100\n",
      "building tree 100 of 100\n"
     ]
    },
    {
     "name": "stderr",
     "output_type": "stream",
     "text": [
      "[Parallel(n_jobs=-1)]: Done 100 out of 100 | elapsed:  1.0min finished\n",
      "[Parallel(n_jobs=8)]: Using backend ThreadingBackend with 8 concurrent workers.\n",
      "[Parallel(n_jobs=8)]: Done  25 tasks      | elapsed:    1.1s\n",
      "[Parallel(n_jobs=8)]: Done 100 out of 100 | elapsed:    3.3s finished\n"
     ]
    }
   ],
   "execution_count": 25
  },
  {
   "metadata": {},
   "cell_type": "markdown",
   "source": "# Default model",
   "id": "a2842032274fb180"
  },
  {
   "metadata": {},
   "cell_type": "markdown",
   "source": "## Performance",
   "id": "47f4d7b30fd90b1"
  },
  {
   "metadata": {
    "ExecuteTime": {
     "end_time": "2024-07-28T20:21:41.804198Z",
     "start_time": "2024-07-28T20:21:41.521998Z"
    }
   },
   "cell_type": "code",
   "source": [
    "from sklearn.metrics import precision_score,accuracy_score,recall_score,f1_score\n",
    "acc = accuracy_score(ys_val,pred_default_rf )\n",
    "ps = precision_score(ys_val, pred_default_rf)\n",
    "rec = recall_score(ys_val,pred_default_rf)\n",
    "f1 = f1_score(ys_val, pred_default_rf)\n",
    "acc , ps ,rec, f1"
   ],
   "id": "1724e672b36adeb0",
   "outputs": [],
   "execution_count": null
  },
  {
   "metadata": {
    "ExecuteTime": {
     "end_time": "2024-07-30T20:44:53.613355Z",
     "start_time": "2024-07-30T20:44:53.596369Z"
    }
   },
   "cell_type": "code",
   "source": "default_rf['model'].get_params()",
   "id": "3aa0e0eba79ab9cf",
   "outputs": [
    {
     "data": {
      "text/plain": [
       "{'bootstrap': True,\n",
       " 'ccp_alpha': 0.0,\n",
       " 'class_weight': 'balanced_subsample',\n",
       " 'criterion': 'gini',\n",
       " 'max_depth': None,\n",
       " 'max_features': 'sqrt',\n",
       " 'max_leaf_nodes': None,\n",
       " 'max_samples': None,\n",
       " 'min_impurity_decrease': 0.0,\n",
       " 'min_samples_leaf': 1,\n",
       " 'min_samples_split': 2,\n",
       " 'min_weight_fraction_leaf': 0.0,\n",
       " 'monotonic_cst': None,\n",
       " 'n_estimators': 100,\n",
       " 'n_jobs': -1,\n",
       " 'oob_score': False,\n",
       " 'random_state': 42,\n",
       " 'verbose': 2,\n",
       " 'warm_start': False}"
      ]
     },
     "execution_count": 140,
     "metadata": {},
     "output_type": "execute_result"
    }
   ],
   "execution_count": 140
  },
  {
   "metadata": {},
   "cell_type": "markdown",
   "source": "Our default random forest has a 86.7% accuracy, a little lower than our naive model run. Looking back, I believe that both nominal variables (Policy_Sales_Channel, Region_Code) were both ignored in the previous notebook. This performance difference is likely due to our explicit target-encoding of these two variables. Let's look at other details of the default.",
   "id": "8308d04f60d40e52"
  },
  {
   "metadata": {},
   "cell_type": "markdown",
   "source": "## Depth",
   "id": "1db8b21e314991f6"
  },
  {
   "metadata": {
    "ExecuteTime": {
     "end_time": "2024-07-28T20:21:50.887149Z",
     "start_time": "2024-07-28T20:21:50.416826Z"
    }
   },
   "cell_type": "code",
   "source": [
    "max_depth = list()\n",
    "\n",
    "for tree in default_rf['model'].estimators_:\n",
    "    max_depth.append(tree.tree_.max_depth)\n",
    "\n",
    "print(\"avg max depth %0.1f\" % (sum(max_depth) / len(max_depth)))\n",
    "\n",
    "import seaborn as sns\n",
    "sns.histplot(data = max_depth)"
   ],
   "id": "e6ec3012ee6b7cbd",
   "outputs": [
    {
     "name": "stdout",
     "output_type": "stream",
     "text": [
      "avg max depth 62.9\n"
     ]
    },
    {
     "data": {
      "text/plain": [
       "<Axes: ylabel='Count'>"
      ]
     },
     "execution_count": 27,
     "metadata": {},
     "output_type": "execute_result"
    },
    {
     "data": {
      "text/plain": [
       "<Figure size 640x480 with 1 Axes>"
      ],
      "image/png": "[encoded data removed]"
     },
     "metadata": {},
     "output_type": "display_data"
    }
   ],
   "execution_count": 27
  },
  {
   "metadata": {
    "ExecuteTime": {
     "end_time": "2024-07-30T05:12:01.450119Z",
     "start_time": "2024-07-30T05:11:58.702412Z"
    }
   },
   "cell_type": "code",
   "source": [
    "import matplotlib.pyplot as plt\n",
    "from sklearn.metrics import RocCurveDisplay\n",
    "ax = plt.gca()\n",
    "rfc_disp = RocCurveDisplay.from_predictions(pred_default_rf, ys_val, ax=ax)\n",
    "plt.show()"
   ],
   "id": "3538cd7112852f4f",
   "outputs": [
    {
     "data": {
      "text/plain": [
       "<Figure size 640x480 with 1 Axes>"
      ],
      "image/png": "[encoded data removed]"
     },
     "metadata": {},
     "output_type": "display_data"
    }
   ],
   "execution_count": 118
  },
  {
   "metadata": {
    "ExecuteTime": {
     "end_time": "2024-07-30T21:13:56.732932Z",
     "start_time": "2024-07-30T21:13:51.514068Z"
    }
   },
   "cell_type": "code",
   "source": [
    "global_importances = pd.Series(default_rf['model'].feature_importances_, index=default_rf['column_tran'].get_feature_names_out())\n",
    "global_importances.reset_index()"
   ],
   "id": "34bef604e854e72a",
   "outputs": [
    {
     "ename": "TypeError",
     "evalue": "Cannot reset_index inplace on a Series to create a DataFrame",
     "output_type": "error",
     "traceback": [
      "\u001B[0;31m---------------------------------------------------------------------------\u001B[0m",
      "\u001B[0;31mTypeError\u001B[0m                                 Traceback (most recent call last)",
      "Input \u001B[0;32mIn [148]\u001B[0m, in \u001B[0;36m<cell line: 2>\u001B[0;34m()\u001B[0m\n\u001B[1;32m      1\u001B[0m global_importances \u001B[38;5;241m=\u001B[39m pd\u001B[38;5;241m.\u001B[39mSeries(default_rf[\u001B[38;5;124m'\u001B[39m\u001B[38;5;124mmodel\u001B[39m\u001B[38;5;124m'\u001B[39m]\u001B[38;5;241m.\u001B[39mfeature_importances_, index\u001B[38;5;241m=\u001B[39mdefault_rf[\u001B[38;5;124m'\u001B[39m\u001B[38;5;124mcolumn_tran\u001B[39m\u001B[38;5;124m'\u001B[39m]\u001B[38;5;241m.\u001B[39mget_feature_names_out())\n\u001B[0;32m----> 2\u001B[0m \u001B[43mglobal_importances\u001B[49m\u001B[38;5;241;43m.\u001B[39;49m\u001B[43mreset_index\u001B[49m\u001B[43m(\u001B[49m\u001B[43minplace\u001B[49m\u001B[38;5;241;43m=\u001B[39;49m\u001B[38;5;28;43;01mTrue\u001B[39;49;00m\u001B[43m)\u001B[49m\n",
      "File \u001B[0;32m/Library/Frameworks/Python.framework/Versions/3.10/lib/python3.10/site-packages/pandas/util/_decorators.py:331\u001B[0m, in \u001B[0;36mdeprecate_nonkeyword_arguments.<locals>.decorate.<locals>.wrapper\u001B[0;34m(*args, **kwargs)\u001B[0m\n\u001B[1;32m    325\u001B[0m \u001B[38;5;28;01mif\u001B[39;00m \u001B[38;5;28mlen\u001B[39m(args) \u001B[38;5;241m>\u001B[39m num_allow_args:\n\u001B[1;32m    326\u001B[0m     warnings\u001B[38;5;241m.\u001B[39mwarn(\n\u001B[1;32m    327\u001B[0m         msg\u001B[38;5;241m.\u001B[39mformat(arguments\u001B[38;5;241m=\u001B[39m_format_argument_list(allow_args)),\n\u001B[1;32m    328\u001B[0m         \u001B[38;5;167;01mFutureWarning\u001B[39;00m,\n\u001B[1;32m    329\u001B[0m         stacklevel\u001B[38;5;241m=\u001B[39mfind_stack_level(),\n\u001B[1;32m    330\u001B[0m     )\n\u001B[0;32m--> 331\u001B[0m \u001B[38;5;28;01mreturn\u001B[39;00m \u001B[43mfunc\u001B[49m\u001B[43m(\u001B[49m\u001B[38;5;241;43m*\u001B[39;49m\u001B[43margs\u001B[49m\u001B[43m,\u001B[49m\u001B[43m \u001B[49m\u001B[38;5;241;43m*\u001B[39;49m\u001B[38;5;241;43m*\u001B[39;49m\u001B[43mkwargs\u001B[49m\u001B[43m)\u001B[49m\n",
      "File \u001B[0;32m/Library/Frameworks/Python.framework/Versions/3.10/lib/python3.10/site-packages/pandas/core/series.py:1568\u001B[0m, in \u001B[0;36mSeries.reset_index\u001B[0;34m(self, level, drop, name, inplace, allow_duplicates)\u001B[0m\n\u001B[1;32m   1564\u001B[0m         \u001B[38;5;28;01mreturn\u001B[39;00m \u001B[38;5;28mself\u001B[39m\u001B[38;5;241m.\u001B[39m_constructor(\n\u001B[1;32m   1565\u001B[0m             \u001B[38;5;28mself\u001B[39m\u001B[38;5;241m.\u001B[39m_values\u001B[38;5;241m.\u001B[39mcopy(), index\u001B[38;5;241m=\u001B[39mnew_index\n\u001B[1;32m   1566\u001B[0m         )\u001B[38;5;241m.\u001B[39m__finalize__(\u001B[38;5;28mself\u001B[39m, method\u001B[38;5;241m=\u001B[39m\u001B[38;5;124m\"\u001B[39m\u001B[38;5;124mreset_index\u001B[39m\u001B[38;5;124m\"\u001B[39m)\n\u001B[1;32m   1567\u001B[0m \u001B[38;5;28;01melif\u001B[39;00m inplace:\n\u001B[0;32m-> 1568\u001B[0m     \u001B[38;5;28;01mraise\u001B[39;00m \u001B[38;5;167;01mTypeError\u001B[39;00m(\n\u001B[1;32m   1569\u001B[0m         \u001B[38;5;124m\"\u001B[39m\u001B[38;5;124mCannot reset_index inplace on a Series to create a DataFrame\u001B[39m\u001B[38;5;124m\"\u001B[39m\n\u001B[1;32m   1570\u001B[0m     )\n\u001B[1;32m   1571\u001B[0m \u001B[38;5;28;01melse\u001B[39;00m:\n\u001B[1;32m   1572\u001B[0m     \u001B[38;5;28;01mif\u001B[39;00m name \u001B[38;5;129;01mis\u001B[39;00m lib\u001B[38;5;241m.\u001B[39mno_default:\n\u001B[1;32m   1573\u001B[0m         \u001B[38;5;66;03m# For backwards compatibility, keep columns as [0] instead of\u001B[39;00m\n\u001B[1;32m   1574\u001B[0m         \u001B[38;5;66;03m#  [None] when self.name is None\u001B[39;00m\n",
      "\u001B[0;31mTypeError\u001B[0m: Cannot reset_index inplace on a Series to create a DataFrame"
     ]
    }
   ],
   "execution_count": 148
  },
  {
   "metadata": {
    "ExecuteTime": {
     "end_time": "2024-07-30T21:21:43.105361Z",
     "start_time": "2024-07-30T21:21:43.098260Z"
    }
   },
   "cell_type": "code",
   "source": "importance_df  =global_importances.reset_index().rename(columns = {0:'values'}).sort_values(by = 'values')",
   "id": "85fd9fa0c5fe6801",
   "outputs": [],
   "execution_count": 166
  },
  {
   "metadata": {
    "ExecuteTime": {
     "end_time": "2024-07-30T21:24:44.700837Z",
     "start_time": "2024-07-30T21:24:44.213299Z"
    }
   },
   "cell_type": "code",
   "source": [
    "importance_df.plot.barh(x = 'index', y = 'values', color=\"green\", edgecolor='green',legend=False)\n",
    "plt.title(\"Feature Importance\")\n",
    "plt.xlabel(\"Importance\", fontsize=13)\n",
    "plt.ylabel(\"Features\", fontsize=13)"
   ],
   "id": "d0bb82d14ed30e83",
   "outputs": [
    {
     "data": {
      "text/plain": [
       "Text(0, 0.5, 'Features')"
      ]
     },
     "execution_count": 172,
     "metadata": {},
     "output_type": "execute_result"
    },
    {
     "data": {
      "text/plain": [
       "<Figure size 640x480 with 1 Axes>"
      ],
      "image/png": "[encoded data removed]"
     },
     "metadata": {},
     "output_type": "display_data"
    }
   ],
   "execution_count": 172
  },
  {
   "metadata": {},
   "cell_type": "code",
   "outputs": [
    {
     "ename": "NameError",
     "evalue": "name 'feature_names' is not defined",
     "output_type": "error",
     "traceback": [
      "\u001B[0;31m---------------------------------------------------------------------------\u001B[0m",
      "\u001B[0;31mNameError\u001B[0m                                 Traceback (most recent call last)",
      "Input \u001B[0;32mIn [119]\u001B[0m, in \u001B[0;36m<cell line: 2>\u001B[0;34m()\u001B[0m\n\u001B[1;32m      1\u001B[0m importances \u001B[38;5;241m=\u001B[39m default_rf[\u001B[38;5;124m'\u001B[39m\u001B[38;5;124mmodel\u001B[39m\u001B[38;5;124m'\u001B[39m]\u001B[38;5;241m.\u001B[39mfeature_importances_\n\u001B[0;32m----> 2\u001B[0m forest_importances \u001B[38;5;241m=\u001B[39m pd\u001B[38;5;241m.\u001B[39mSeries(importances, index\u001B[38;5;241m=\u001B[39m\u001B[43mfeature_names\u001B[49m)\n\u001B[1;32m      3\u001B[0m feature_names \u001B[38;5;241m=\u001B[39m [\u001B[38;5;124mf\u001B[39m\u001B[38;5;124m\"\u001B[39m\u001B[38;5;124mfeature \u001B[39m\u001B[38;5;132;01m{\u001B[39;00mi\u001B[38;5;132;01m}\u001B[39;00m\u001B[38;5;124m\"\u001B[39m \u001B[38;5;28;01mfor\u001B[39;00m i \u001B[38;5;129;01min\u001B[39;00m \u001B[38;5;28mrange\u001B[39m(Xs_train\u001B[38;5;241m.\u001B[39mshape[\u001B[38;5;241m1\u001B[39m])]\n\u001B[1;32m      5\u001B[0m fig, ax \u001B[38;5;241m=\u001B[39m plt\u001B[38;5;241m.\u001B[39msubplots()\n",
      "\u001B[0;31mNameError\u001B[0m: name 'feature_names' is not defined"
     ]
    }
   ],
   "execution_count": 119,
   "source": [
    "\n",
    "forest_importances = pd.Series(importances, index=feature_names)\n",
    "feature_names = [f\"feature {i}\" for i in range(Xs_train.shape[1])]\n",
    "\n",
    "fig, ax = plt.subplots()\n",
    "forest_importances.plot.bar(yerr=std, ax=ax)\n",
    "ax.set_title(\"Feature importances using MDI\")\n",
    "ax.set_ylabel(\"Mean decrease in impurity\")\n",
    "fig.tight_layout()"
   ],
   "id": "d7d4340caeda6e9b"
  },
  {
   "metadata": {},
   "cell_type": "markdown",
   "source": "# Model tuning",
   "id": "deb9fcd91d4f8934"
  },
  {
   "metadata": {},
   "cell_type": "markdown",
   "source": [
    "Now that we have our baseline random forest model, let's try tuning a model and see if it does better! Hyperoptimization can be done in several ways, including but not limited to:\n",
    "- Grid search: We specify a finite set of values for each hyperparameter and the grid search evaluates a cartesian product of these values. The method is limited to the values we define and since the grid search evaluates all combinations, this method suffers from dimensionality of our hyperparameter space.\n",
    "- Random search: We also specify a finite set of values. However, random search will evaluate combinations, well, randomly until a stopping criteria is met. This is useful for trying out varying combinations of our hypothesized values to test what seems to work. This is typically be used to start an optimization process by finding promising values and then fine-tuning with a grid search around those initial values. \n",
    "- Bayesian Optimization: We define a range of hyperparameter values and this method uses a function to determine which combination to test each round. Specifically, we define an 'objective' function (eg accuracy) that is then approximated by Bayesian Optimizer as a probability model. This probability model is then used to estimate the next selections of hyperparameters values that yield the highest Expected Improvement. If you want to learn more about how this is done, you can check out Tree Parzen Estimators (TPE)(https://towardsdatascience.com/bayesian-optimization-concept-explained-in-layman-terms-1d2bcdeaf12f) and the (Hyperopt)[https://hyperopt.github.io/hyperopt/ ] documentation.\n",
    "\n"
   ],
   "id": "f42f3c3bb01d9d6"
  },
  {
   "metadata": {},
   "cell_type": "markdown",
   "source": "## Bayesian Optimization",
   "id": "41ee48c1227c4f87"
  },
  {
   "metadata": {
    "ExecuteTime": {
     "end_time": "2024-07-29T23:13:16.221084Z",
     "start_time": "2024-07-29T22:39:12.503901Z"
    }
   },
   "cell_type": "code",
   "source": [
    "from hyperopt import Trials, STATUS_OK, tpe, hp, fmin, STATUS_FAIL, space_eval\n",
    "from sklearn.model_selection import KFold, cross_val_score, train_test_split\n",
    "from hyperopt import hp, fmin, tpe, STATUS_OK, Trials\n",
    "from hyperopt.early_stop import no_progress_loss\n",
    "from sklearn.metrics import make_scorer, roc_auc_score\n",
    "from sklearn.model_selection import cross_validate, StratifiedKFold\n",
    "import numpy as np\n",
    "\n",
    "\n",
    "Xs_trans = default.transform(Xs_train)\n",
    "space = {'criterion': hp.choice('criterion', [ 'gini']),\n",
    "        'max_depth': hp.choice('max_depth', np.arange(20, 120,dtype=int)),\n",
    "        'max_features': hp.choice('max_features', ['sqrt','log2',0.25,.5,.75, None]),\n",
    "        'min_samples_leaf': hp.uniform ('min_samples_leaf', 0, 0.5),\n",
    "        'min_samples_split' : hp.uniform ('min_samples_split', 0, 1),\n",
    "        'n_estimators' : hp.choice('n_estimators', np.arange(100, 1000 ,dtype=int))\n",
    "    }\n",
    "\n",
    "def objective(space):\n",
    "    model = RandomForestClassifier(criterion = space['criterion'], \n",
    "                                   n_jobs = -1, random_state = 42,\n",
    "                                   class_weight = 'balanced_subsample',\n",
    "                                   max_depth = space['max_depth'],\n",
    "                                 max_features = space['max_features'],\n",
    "                                 min_samples_leaf = space['min_samples_leaf'],\n",
    "                                 min_samples_split = space['min_samples_split'],\n",
    "                                 n_estimators = space['n_estimators'], \n",
    "                                 )\n",
    "    cv = StratifiedKFold(n_splits=5)\n",
    "    scoring = {'prec_macro': 'precision_macro',\n",
    "               'accuracy': 'accuracy',\n",
    "               'rec_macro': 'recall_macro',\n",
    "               'auc':'roc_auc',\n",
    "               'f1_macro':'f1_macro'}\n",
    "    scores = cross_validate(model, Xs_trans, ys_train, scoring=scoring,\n",
    "                            cv=cv)\n",
    "    accuracy = scores['test_accuracy'].mean()\n",
    "    precision = scores['test_prec_macro'].mean()\n",
    "    recall = scores['test_rec_macro'].mean()\n",
    "    f1 = scores['test_f1_macro'].mean()\n",
    "    auc = scores['test_auc'].mean()\n",
    "    loss = (1-auc)+(1-accuracy)*2\n",
    "    # accuracy = cross_val_score(model, xs_trans, ys_train, cv = 4).mean()\n",
    "    # We aim to maximize accuracy, therefore we return it as a negative value\n",
    "    return {'loss': loss, 'status': STATUS_OK , 'accuracy': accuracy, 'precision': precision, 'recall': recall,'f1':f1,\n",
    "            'auc':auc}\n",
    "            \n",
    "    \n",
    "trials = Trials()\n",
    "best = fmin(fn= objective,\n",
    "            space= space,\n",
    "            algo= tpe.suggest,\n",
    "            max_evals = 100,\n",
    "            early_stop_fn=no_progress_loss(20),\n",
    "            trials= trials)"
   ],
   "id": "2aa08593f20e7037",
   "outputs": [],
   "execution_count": null
  },
  {
   "metadata": {
    "ExecuteTime": {
     "end_time": "2024-07-30T20:49:25.187119Z",
     "start_time": "2024-07-30T20:49:25.182923Z"
    }
   },
   "cell_type": "code",
   "source": "best",
   "id": "1c0ccab22c5a71fe",
   "outputs": [
    {
     "data": {
      "text/plain": [
       "{'max_depth': 46,\n",
       " 'max_features': 2,\n",
       " 'min_samples_leaf': 0.11461720289542843,\n",
       " 'min_samples_split': 0.3406681064238941,\n",
       " 'n_estimators': 126}"
      ]
     },
     "execution_count": 141,
     "metadata": {},
     "output_type": "execute_result"
    }
   ],
   "execution_count": 141
  },
  {
   "metadata": {},
   "cell_type": "markdown",
   "source": "## Trial results",
   "id": "cabbec6e64622a78"
  },
  {
   "metadata": {
    "ExecuteTime": {
     "end_time": "2024-07-29T23:54:21.753084Z",
     "start_time": "2024-07-29T23:54:21.705294Z"
    }
   },
   "cell_type": "code",
   "source": "trials.results",
   "id": "4a3815fe8f8b2a2f",
   "outputs": [
    {
     "data": {
      "text/plain": [
       "[{'loss': 0.1874038219213514,\n",
       "  'status': 'ok',\n",
       "  'accuracy': 0.6160641837102017,\n",
       "  'precision': 0.6181928388945244,\n",
       "  'recall': 0.7737870840663497,\n",
       "  'f1': 0.553582168720162,\n",
       "  'auc': 0.8125961780786486},\n",
       " {'loss': 0.5,\n",
       "  'status': 'ok',\n",
       "  'accuracy': 0.7261602481570213,\n",
       "  'precision': 0.36308012407851065,\n",
       "  'recall': 0.5,\n",
       "  'f1': 0.39568873051132636,\n",
       "  'auc': 0.5},\n",
       " {'loss': 0.15909819707956063,\n",
       "  'status': 'ok',\n",
       "  'accuracy': 0.6263175237553489,\n",
       "  'precision': 0.6206667363990616,\n",
       "  'recall': 0.7794624404574815,\n",
       "  'f1': 0.5615007624023438,\n",
       "  'auc': 0.8409018029204394},\n",
       " {'loss': 0.5,\n",
       "  'status': 'ok',\n",
       "  'accuracy': 0.8769349281804898,\n",
       "  'precision': 0.4384674640902449,\n",
       "  'recall': 0.5,\n",
       "  'f1': 0.46721647885197803,\n",
       "  'auc': 0.5},\n",
       " {'loss': 0.1747526380663178,\n",
       "  'status': 'ok',\n",
       "  'accuracy': 0.6160641837102017,\n",
       "  'precision': 0.6181928388945244,\n",
       "  'recall': 0.7737870840663497,\n",
       "  'f1': 0.553582168720162,\n",
       "  'auc': 0.8252473619336822},\n",
       " {'loss': 0.5,\n",
       "  'status': 'ok',\n",
       "  'accuracy': 0.7261599807400165,\n",
       "  'precision': 0.36307999037000827,\n",
       "  'recall': 0.5,\n",
       "  'f1': 0.395688586546175,\n",
       "  'auc': 0.5}]"
      ]
     },
     "execution_count": 116,
     "metadata": {},
     "output_type": "execute_result"
    }
   ],
   "execution_count": 116
  },
  {
   "metadata": {},
   "cell_type": "markdown",
   "source": "## Trials EDA",
   "id": "790f9c3e798285b6"
  },
  {
   "metadata": {
    "ExecuteTime": {
     "end_time": "2024-07-29T23:14:45.827373Z",
     "start_time": "2024-07-29T23:14:45.815163Z"
    }
   },
   "cell_type": "code",
   "source": [
    "def unpack(x):\n",
    "    if x:\n",
    "        return x[0]\n",
    "    return np.nan\n",
    "\n",
    "\n",
    "# We'll first turn each trial into a series and then stack those series together as a dataframe.\n",
    "trials_df = pd.DataFrame([pd.Series(t[\"misc\"][\"vals\"]).apply(unpack) for t in trials])"
   ],
   "id": "5ab5483c91533628",
   "outputs": [],
   "execution_count": 109
  },
  {
   "metadata": {
    "ExecuteTime": {
     "end_time": "2024-07-29T23:15:01.570763Z",
     "start_time": "2024-07-29T23:15:01.564042Z"
    }
   },
   "cell_type": "code",
   "source": [
    "\n",
    "# Then we'll add other relevant bits of information to the correct rows and perform a couple of\n",
    "# mappings for convenience\n",
    "trials_df[\"loss\"] = [t[\"result\"][\"loss\"] for t in trials]\n",
    "trials_df[\"accuracy\"] = [t[\"result\"][\"accuracy\"] for t in trials]\n",
    "trials_df[\"precision\"] = [t[\"result\"][\"precision\"] for t in trials]\n",
    "trials_df[\"recall\"] = [t[\"result\"][\"recall\"] for t in trials]\n",
    "trials_df[\"f1\"] = [t[\"result\"][\"f1\"] for t in trials]\n",
    "trials_df[\"auc\"] = [t[\"result\"][\"auc\"] for t in trials]\n",
    "trials_df[\"trial_number\"] = trials_df.index\n",
    "\n"
   ],
   "id": "ea472c1360885397",
   "outputs": [],
   "execution_count": 112
  },
  {
   "metadata": {
    "ExecuteTime": {
     "end_time": "2024-07-29T23:15:03.719454Z",
     "start_time": "2024-07-29T23:15:03.701977Z"
    }
   },
   "cell_type": "code",
   "source": "trials_df",
   "id": "46d02bdde2513bae",
   "outputs": [
    {
     "data": {
      "text/plain": [
       "   criterion  max_depth  max_features  min_samples_leaf  min_samples_split  \\\n",
       "0        0.0       70.0           4.0          0.307599           0.540658   \n",
       "1        0.0       91.0           3.0          0.374513           0.903443   \n",
       "2        0.0       46.0           2.0          0.114617           0.340668   \n",
       "3        0.0       54.0           3.0          0.365452           0.219792   \n",
       "4        0.0       13.0           4.0          0.242575           0.450328   \n",
       "5        0.0        5.0           0.0          0.444012           0.935196   \n",
       "\n",
       "   n_estimators      loss  accuracy  precision    recall        f1  \\\n",
       "0         352.0  0.187404  0.616064   0.618193  0.773787  0.553582   \n",
       "1         297.0  0.500000  0.726160   0.363080  0.500000  0.395689   \n",
       "2         126.0  0.159098  0.626318   0.620667  0.779462  0.561501   \n",
       "3         459.0  0.500000  0.876935   0.438467  0.500000  0.467216   \n",
       "4         720.0  0.174753  0.616064   0.618193  0.773787  0.553582   \n",
       "5         737.0  0.500000  0.726160   0.363080  0.500000  0.395689   \n",
       "\n",
       "   trial_number       auc  \n",
       "0             0  0.812596  \n",
       "1             1  0.500000  \n",
       "2             2  0.840902  \n",
       "3             3  0.500000  \n",
       "4             4  0.825247  \n",
       "5             5  0.500000  "
      ],
      "text/html": [
       "<div>\n",
       "<style scoped>\n",
       "    .dataframe tbody tr th:only-of-type {\n",
       "        vertical-align: middle;\n",
       "    }\n",
       "\n",
       "    .dataframe tbody tr th {\n",
       "        vertical-align: top;\n",
       "    }\n",
       "\n",
       "    .dataframe thead th {\n",
       "        text-align: right;\n",
       "    }\n",
       "</style>\n",
       "<table border=\"1\" class=\"dataframe\">\n",
       "  <thead>\n",
       "    <tr style=\"text-align: right;\">\n",
       "      <th></th>\n",
       "      <th>criterion</th>\n",
       "      <th>max_depth</th>\n",
       "      <th>max_features</th>\n",
       "      <th>min_samples_leaf</th>\n",
       "      <th>min_samples_split</th>\n",
       "      <th>n_estimators</th>\n",
       "      <th>loss</th>\n",
       "      <th>accuracy</th>\n",
       "      <th>precision</th>\n",
       "      <th>recall</th>\n",
       "      <th>f1</th>\n",
       "      <th>trial_number</th>\n",
       "      <th>auc</th>\n",
       "    </tr>\n",
       "  </thead>\n",
       "  <tbody>\n",
       "    <tr>\n",
       "      <th>0</th>\n",
       "      <td>0.0</td>\n",
       "      <td>70.0</td>\n",
       "      <td>4.0</td>\n",
       "      <td>0.307599</td>\n",
       "      <td>0.540658</td>\n",
       "      <td>352.0</td>\n",
       "      <td>0.187404</td>\n",
       "      <td>0.616064</td>\n",
       "      <td>0.618193</td>\n",
       "      <td>0.773787</td>\n",
       "      <td>0.553582</td>\n",
       "      <td>0</td>\n",
       "      <td>0.812596</td>\n",
       "    </tr>\n",
       "    <tr>\n",
       "      <th>1</th>\n",
       "      <td>0.0</td>\n",
       "      <td>91.0</td>\n",
       "      <td>3.0</td>\n",
       "      <td>0.374513</td>\n",
       "      <td>0.903443</td>\n",
       "      <td>297.0</td>\n",
       "      <td>0.500000</td>\n",
       "      <td>0.726160</td>\n",
       "      <td>0.363080</td>\n",
       "      <td>0.500000</td>\n",
       "      <td>0.395689</td>\n",
       "      <td>1</td>\n",
       "      <td>0.500000</td>\n",
       "    </tr>\n",
       "    <tr>\n",
       "      <th>2</th>\n",
       "      <td>0.0</td>\n",
       "      <td>46.0</td>\n",
       "      <td>2.0</td>\n",
       "      <td>0.114617</td>\n",
       "      <td>0.340668</td>\n",
       "      <td>126.0</td>\n",
       "      <td>0.159098</td>\n",
       "      <td>0.626318</td>\n",
       "      <td>0.620667</td>\n",
       "      <td>0.779462</td>\n",
       "      <td>0.561501</td>\n",
       "      <td>2</td>\n",
       "      <td>0.840902</td>\n",
       "    </tr>\n",
       "    <tr>\n",
       "      <th>3</th>\n",
       "      <td>0.0</td>\n",
       "      <td>54.0</td>\n",
       "      <td>3.0</td>\n",
       "      <td>0.365452</td>\n",
       "      <td>0.219792</td>\n",
       "      <td>459.0</td>\n",
       "      <td>0.500000</td>\n",
       "      <td>0.876935</td>\n",
       "      <td>0.438467</td>\n",
       "      <td>0.500000</td>\n",
       "      <td>0.467216</td>\n",
       "      <td>3</td>\n",
       "      <td>0.500000</td>\n",
       "    </tr>\n",
       "    <tr>\n",
       "      <th>4</th>\n",
       "      <td>0.0</td>\n",
       "      <td>13.0</td>\n",
       "      <td>4.0</td>\n",
       "      <td>0.242575</td>\n",
       "      <td>0.450328</td>\n",
       "      <td>720.0</td>\n",
       "      <td>0.174753</td>\n",
       "      <td>0.616064</td>\n",
       "      <td>0.618193</td>\n",
       "      <td>0.773787</td>\n",
       "      <td>0.553582</td>\n",
       "      <td>4</td>\n",
       "      <td>0.825247</td>\n",
       "    </tr>\n",
       "    <tr>\n",
       "      <th>5</th>\n",
       "      <td>0.0</td>\n",
       "      <td>5.0</td>\n",
       "      <td>0.0</td>\n",
       "      <td>0.444012</td>\n",
       "      <td>0.935196</td>\n",
       "      <td>737.0</td>\n",
       "      <td>0.500000</td>\n",
       "      <td>0.726160</td>\n",
       "      <td>0.363080</td>\n",
       "      <td>0.500000</td>\n",
       "      <td>0.395689</td>\n",
       "      <td>5</td>\n",
       "      <td>0.500000</td>\n",
       "    </tr>\n",
       "  </tbody>\n",
       "</table>\n",
       "</div>"
      ]
     },
     "execution_count": 113,
     "metadata": {},
     "output_type": "execute_result"
    }
   ],
   "execution_count": 113
  },
  {
   "metadata": {
    "ExecuteTime": {
     "end_time": "2024-07-29T23:15:08.539481Z",
     "start_time": "2024-07-29T23:15:08.085598Z"
    }
   },
   "cell_type": "code",
   "source": "sns.relplot(trials_df, x = \"trial_number\", y = \"loss\")",
   "id": "ba8c6bb1280d7601",
   "outputs": [
    {
     "data": {
      "text/plain": [
       "<seaborn.axisgrid.FacetGrid at 0x13d671630>"
      ]
     },
     "execution_count": 114,
     "metadata": {},
     "output_type": "execute_result"
    },
    {
     "data": {
      "text/plain": [
       "<Figure size 500x500 with 1 Axes>"
      ],
      "image/png": "[encoded data removed]"
     },
     "metadata": {},
     "output_type": "display_data"
    }
   ],
   "execution_count": 114
  },
  {
   "metadata": {
    "ExecuteTime": {
     "end_time": "2024-07-29T23:15:20.931830Z",
     "start_time": "2024-07-29T23:15:20.301692Z"
    }
   },
   "cell_type": "code",
   "source": [
    "fig, axs = plt.subplots(ncols=3)\n",
    "sns.scatterplot(x=\"trial_number\", y='precision', data=trials_df, ax=axs[0])\n",
    "sns.scatterplot(x=\"trial_number\", y='recall', data=trials_df, ax=axs[1])\n",
    "sns.scatterplot(x=\"trial_number\",y='f1', data=trials_df, ax=axs[2])"
   ],
   "id": "4b9e5c76bd9bcf6e",
   "outputs": [
    {
     "data": {
      "text/plain": [
       "<Axes: xlabel='trial_number', ylabel='f1'>"
      ]
     },
     "execution_count": 115,
     "metadata": {},
     "output_type": "execute_result"
    },
    {
     "data": {
      "text/plain": [
       "<Figure size 640x480 with 3 Axes>"
      ],
      "image/png": "[encoded data removed]"
     },
     "metadata": {},
     "output_type": "display_data"
    }
   ],
   "execution_count": 115
  },
  {
   "metadata": {},
   "cell_type": "markdown",
   "source": "# Fit tuned model",
   "id": "24be44decf1088b9"
  },
  {
   "metadata": {
    "ExecuteTime": {
     "end_time": "2024-07-30T20:49:59.601895Z",
     "start_time": "2024-07-30T20:49:59.595259Z"
    }
   },
   "cell_type": "code",
   "source": [
    "best_params = best.copy()\n",
    "best_params.pop('criterion')"
   ],
   "id": "39b1f89a706ed3e2",
   "outputs": [],
   "execution_count": 143
  },
  {
   "metadata": {
    "ExecuteTime": {
     "end_time": "2024-07-30T20:50:24.854244Z",
     "start_time": "2024-07-30T20:50:24.849960Z"
    }
   },
   "cell_type": "code",
   "source": [
    "rf_tuned_initial = RandomForestClassifier( n_jobs = -1, random_state = 42,\n",
    "                                   class_weight = 'balanced_subsample', **best_params, criterion = 'gini')"
   ],
   "id": "5beea5b7823f711e",
   "outputs": [],
   "execution_count": 144
  },
  {
   "metadata": {
    "ExecuteTime": {
     "end_time": "2024-07-30T20:50:55.192343Z",
     "start_time": "2024-07-30T20:50:32.398489Z"
    }
   },
   "cell_type": "code",
   "source": [
    "tuned_rf = Pipeline(steps=[\n",
    "          ('column_tran',default),\n",
    "          ('model',rf_tuned_initial)\n",
    "     ])\n",
    "tuned_rf.fit(Xs_train, ys_train)\n",
    "pred_tuned_rf = tuned_rf.predict(Xs_val)"
   ],
   "id": "c30b6642896d31c4",
   "outputs": [],
   "execution_count": 145
  },
  {
   "metadata": {
    "ExecuteTime": {
     "end_time": "2024-07-30T20:54:44.441066Z",
     "start_time": "2024-07-30T20:54:44.134651Z"
    }
   },
   "cell_type": "code",
   "source": [
    "def return_eval(pred, eval):\n",
    "    acc = accuracy_score(eval,pred)\n",
    "    ps = precision_score(eval, pred)\n",
    "    rec = recall_score(eval,pred)\n",
    "    f1 = f1_score(eval, pred)\n",
    "    return acc , ps ,rec, f1\n",
    "\n",
    "return_eval(pred_tuned_rf, ys_val)"
   ],
   "id": "f0ce0a6014882771",
   "outputs": [
    {
     "data": {
      "text/plain": [
       "(0.693149815729087,\n",
       " 0.2754078857919782,\n",
       " 0.9156337182611153,\n",
       " 0.42344909808020514)"
      ]
     },
     "execution_count": 146,
     "metadata": {},
     "output_type": "execute_result"
    }
   ],
   "execution_count": 146
  },
  {
   "metadata": {},
   "cell_type": "code",
   "outputs": [],
   "execution_count": null,
   "source": "",
   "id": "271e80823d8675d2"
  }
 ],
 "metadata": {
  "kernelspec": {
   "display_name": "Python 3",
   "language": "python",
   "name": "python3"
  },
  "language_info": {
   "codemirror_mode": {
    "name": "ipython",
    "version": 2
   },
   "file_extension": ".py",
   "mimetype": "text/x-python",
   "name": "python",
   "nbconvert_exporter": "python",
   "pygments_lexer": "ipython2",
   "version": "2.7.6"
  }
 },
 "nbformat": 4,
 "nbformat_minor": 5
}
